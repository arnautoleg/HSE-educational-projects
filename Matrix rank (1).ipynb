{
 "cells": [
  {
   "cell_type": "code",
   "execution_count": 7,
   "id": "5d74a231",
   "metadata": {},
   "outputs": [],
   "source": [
    "#matrix rank - nonzero rows in matrix"
   ]
  },
  {
   "cell_type": "code",
   "execution_count": 12,
   "id": "3d72c147",
   "metadata": {},
   "outputs": [],
   "source": [
    "import numpy as np\n",
    "import numpy.linalg as LA"
   ]
  },
  {
   "cell_type": "code",
   "execution_count": 9,
   "id": "2015b8b7",
   "metadata": {},
   "outputs": [
    {
     "name": "stdout",
     "output_type": "stream",
     "text": [
      "The Rank of a Matrix:  2\n"
     ]
    }
   ],
   "source": [
    "matrixA = np.array([[1, 4, 5],\n",
    "                    [-5, 8, 9],\n",
    "                    [-12, 8, 8]])\n",
    "print(\"The Rank of a Matrix: \", np.linalg.matrix_rank(matrixA))"
   ]
  },
  {
   "cell_type": "code",
   "execution_count": 10,
   "id": "4b3abcb2",
   "metadata": {},
   "outputs": [
    {
     "name": "stdout",
     "output_type": "stream",
     "text": [
      "The Rank of a Matrix:  3\n"
     ]
    }
   ],
   "source": [
    "matrixA = np.array([[1, 8, 1, -9],\n",
    "                    [0, 5, 1, 3],\n",
    "                    [2, 9, 1, 4],\n",
    "                    [1, 7, 1, 3.5]])\n",
    "print(\"The Rank of a Matrix: \", np.linalg.matrix_rank(matrixA))"
   ]
  },
  {
   "cell_type": "code",
   "execution_count": 13,
   "id": "32ab74ef",
   "metadata": {},
   "outputs": [
    {
     "name": "stdout",
     "output_type": "stream",
     "text": [
      "2\n"
     ]
    }
   ],
   "source": [
    "import numpy as np\n",
    "import numpy.linalg as LA\n",
    "\n",
    "A = np.array([[1, 4, 5, -1], \n",
    "              [2, 9, 12, 1],\n",
    "              [0, 1, 2, 3]])\n",
    "\n",
    "rank = LA.matrix_rank(A)\n",
    "print(rank)"
   ]
  },
  {
   "cell_type": "code",
   "execution_count": 14,
   "id": "47f7d1f0",
   "metadata": {},
   "outputs": [
    {
     "name": "stdout",
     "output_type": "stream",
     "text": [
      "1\n"
     ]
    }
   ],
   "source": [
    "import numpy as np\n",
    "import numpy.linalg as LA\n",
    "\n",
    "A = np.array([[1, 2, 3], \n",
    "              [2, 4, 6],\n",
    "              [3, 6, 9]])\n",
    "\n",
    "rank = LA.matrix_rank(A)\n",
    "print(rank)"
   ]
  },
  {
   "cell_type": "code",
   "execution_count": 19,
   "id": "3ca6010c",
   "metadata": {},
   "outputs": [
    {
     "name": "stdout",
     "output_type": "stream",
     "text": [
      "2\n"
     ]
    }
   ],
   "source": [
    "import numpy as np\n",
    "import numpy.linalg as LA\n",
    "\n",
    "A = np.array([[12, 18], \n",
    "              [18, 21]])\n",
    "\n",
    "rank = LA.matrix_rank(A)\n",
    "print(rank)"
   ]
  },
  {
   "cell_type": "code",
   "execution_count": 20,
   "id": "bb02718e",
   "metadata": {},
   "outputs": [
    {
     "name": "stdout",
     "output_type": "stream",
     "text": [
      "4\n"
     ]
    }
   ],
   "source": [
    "import numpy as np\n",
    "import numpy.linalg as LA\n",
    "\n",
    "A = np.array([[3, -1, 1, 9], \n",
    "              [-3, 4, 1, 1],\n",
    "              [6, 5, 2, 8],\n",
    "              [1, 1, 1, 1]])\n",
    "\n",
    "rank = LA.matrix_rank(A)\n",
    "print(rank)"
   ]
  }
 ],
 "metadata": {
  "kernelspec": {
   "display_name": "Python 3 (ipykernel)",
   "language": "python",
   "name": "python3"
  },
  "language_info": {
   "codemirror_mode": {
    "name": "ipython",
    "version": 3
   },
   "file_extension": ".py",
   "mimetype": "text/x-python",
   "name": "python",
   "nbconvert_exporter": "python",
   "pygments_lexer": "ipython3",
   "version": "3.9.7"
  }
 },
 "nbformat": 4,
 "nbformat_minor": 5
}
