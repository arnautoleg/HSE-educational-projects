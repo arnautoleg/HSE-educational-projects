{
 "cells": [
  {
   "cell_type": "markdown",
   "id": "9822f91d",
   "metadata": {},
   "source": [
    "# Task 6"
   ]
  },
  {
   "cell_type": "code",
   "execution_count": 4,
   "id": "92fb3655",
   "metadata": {},
   "outputs": [
    {
     "name": "stdout",
     "output_type": "stream",
     "text": [
      "[[ 3.  2.  1. -1.]\n",
      " [-1. -2.  1.  2.]\n",
      " [ 1. -2.  3.  3.]]\n"
     ]
    }
   ],
   "source": [
    "import numpy as np\n",
    "\n",
    "m1 = np.array([[3, 2], [-1, -2], [1, -2]]) # matrix\n",
    "m2 = np.array([[1, 0, 1, 1/2], [0, 1, -1, -5/4]]) # matrix\n",
    "\n",
    "product = np.dot(m1, m2)\n",
    "print(product)"
   ]
  },
  {
   "cell_type": "code",
   "execution_count": 5,
   "id": "5dd7958f",
   "metadata": {},
   "outputs": [
    {
     "name": "stdout",
     "output_type": "stream",
     "text": [
      "[[-3.0000000e+00  4.0000000e+00  8.8817842e-16]\n",
      " [ 1.0000000e+00 -3.0000000e+00  2.0000000e+00]\n",
      " [-1.0000000e+00 -2.0000000e+00  4.0000000e+00]]\n"
     ]
    }
   ],
   "source": [
    "import numpy as np\n",
    "\n",
    "m1 = np.array([[-3, 4], [1, -3], [-1, -2]]) # matrix\n",
    "m2 = np.array([[1, 0, -8/5], [0, 1, -6/5]]) # matrix\n",
    "\n",
    "product = np.dot(m1, m2)\n",
    "print(product)"
   ]
  }
 ],
 "metadata": {
  "kernelspec": {
   "display_name": "Python 3 (ipykernel)",
   "language": "python",
   "name": "python3"
  },
  "language_info": {
   "codemirror_mode": {
    "name": "ipython",
    "version": 3
   },
   "file_extension": ".py",
   "mimetype": "text/x-python",
   "name": "python",
   "nbconvert_exporter": "python",
   "pygments_lexer": "ipython3",
   "version": "3.9.7"
  }
 },
 "nbformat": 4,
 "nbformat_minor": 5
}
