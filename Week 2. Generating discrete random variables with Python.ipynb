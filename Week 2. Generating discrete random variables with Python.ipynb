{
 "cells": [
  {
   "cell_type": "code",
   "execution_count": 22,
   "id": "d650cf3e",
   "metadata": {},
   "outputs": [],
   "source": [
    "from numpy.random import choice"
   ]
  },
  {
   "cell_type": "code",
   "execution_count": 23,
   "id": "c4be85fe",
   "metadata": {},
   "outputs": [
    {
     "data": {
      "text/plain": [
       "2"
      ]
     },
     "execution_count": 23,
     "metadata": {},
     "output_type": "execute_result"
    }
   ],
   "source": [
    "choice([1, 2, 4], p = [0.2, 0.5, 0.3])"
   ]
  },
  {
   "cell_type": "code",
   "execution_count": 24,
   "id": "cd0277b6",
   "metadata": {},
   "outputs": [],
   "source": [
    "def count_frequencies(data, relative = False):\n",
    "    counter = {}\n",
    "    for element in data:\n",
    "        if element not in counter:\n",
    "            # get this element for the first time\n",
    "            counter[element] = 1\n",
    "            #print(counter)\n",
    "        else:\n",
    "            counter[element] += 1\n",
    "            \n",
    "    if relative:\n",
    "        for element in counter:\n",
    "            counter[element] = counter[element]/len(data)\n",
    "    return counter"
   ]
  },
  {
   "cell_type": "code",
   "execution_count": 25,
   "id": "6c2e93ff",
   "metadata": {},
   "outputs": [
    {
     "name": "stdout",
     "output_type": "stream",
     "text": [
      "{1: 3, 2: 1}\n",
      "{1: 0.75, 2: 0.25}\n"
     ]
    }
   ],
   "source": [
    "print(count_frequencies([1, 1, 1, 2]))\n",
    "print(count_frequencies([1, 1, 1, 2], relative = True))"
   ]
  },
  {
   "cell_type": "code",
   "execution_count": 27,
   "id": "a19e19de",
   "metadata": {},
   "outputs": [],
   "source": [
    "sample = [choice([1, 2, 4], p = [0.2, 0.5, 0.3]) for _ in range(10000)]"
   ]
  },
  {
   "cell_type": "code",
   "execution_count": 96,
   "id": "d356ba2f",
   "metadata": {},
   "outputs": [
    {
     "data": {
      "text/plain": [
       "{4: 0.2974, 2: 0.5051, 1: 0.1975}"
      ]
     },
     "execution_count": 96,
     "metadata": {},
     "output_type": "execute_result"
    }
   ],
   "source": [
    "count_frequencies(sample, relative = True)"
   ]
  },
  {
   "cell_type": "code",
   "execution_count": 98,
   "id": "f8b668a8",
   "metadata": {},
   "outputs": [
    {
     "data": {
      "text/plain": [
       "array([4, 4, 4, ..., 1, 1, 2])"
      ]
     },
     "execution_count": 98,
     "metadata": {},
     "output_type": "execute_result"
    }
   ],
   "source": [
    "sample = (choice([1, 2, 4], size = 10000, p = [0.2, 0.5, 0.3]))\n",
    "sample"
   ]
  },
  {
   "cell_type": "markdown",
   "id": "376a09a9",
   "metadata": {},
   "source": [
    "# Visualization"
   ]
  },
  {
   "cell_type": "code",
   "execution_count": 28,
   "id": "3dda3a13",
   "metadata": {},
   "outputs": [],
   "source": [
    "import matplotlib.pyplot as plt"
   ]
  },
  {
   "cell_type": "code",
   "execution_count": 29,
   "id": "567bf92d",
   "metadata": {},
   "outputs": [],
   "source": [
    "freqs = count_frequencies(sample, relative = True)"
   ]
  },
  {
   "cell_type": "code",
   "execution_count": 108,
   "id": "829b962f",
   "metadata": {},
   "outputs": [],
   "source": [
    "%matplotlib inline"
   ]
  },
  {
   "cell_type": "code",
   "execution_count": 109,
   "id": "444295c1",
   "metadata": {},
   "outputs": [
    {
     "data": {
      "text/plain": [
       "<BarContainer object of 3 artists>"
      ]
     },
     "execution_count": 109,
     "metadata": {},
     "output_type": "execute_result"
    },
    {
     "data": {
      "image/png": "[encoded data removed]",
      "text/plain": [
       "<Figure size 432x288 with 1 Axes>"
      ]
     },
     "metadata": {
      "needs_background": "light"
     },
     "output_type": "display_data"
    }
   ],
   "source": [
    "plt.bar(list(freqs.keys()), list(freqs.values()))  \n",
    "\n",
    "# list(freqs.keys()) - all possible values\n",
    "#list(freqs.values()) - data itself"
   ]
  },
  {
   "cell_type": "code",
   "execution_count": 30,
   "id": "1ba50b7e",
   "metadata": {},
   "outputs": [],
   "source": [
    "from numpy.random import binomial"
   ]
  },
  {
   "cell_type": "code",
   "execution_count": null,
   "id": "2f4b0b39",
   "metadata": {},
   "outputs": [],
   "source": [
    "binomial(n, p, size)   # n - number, p - probability, size - to repeat the experiment"
   ]
  },
  {
   "cell_type": "code",
   "execution_count": 139,
   "id": "01bff5e0",
   "metadata": {},
   "outputs": [
    {
     "data": {
      "text/plain": [
       "array([4, 3, 2, 5, 5, 4, 3, 1, 4, 3, 3, 5, 2, 1, 3, 1, 2, 3, 1, 4, 1, 4,\n",
       "       3, 1, 4, 5, 5, 2, 5, 3, 1, 4, 3, 4, 4, 3, 4, 4, 5, 3, 3, 1, 2, 2,\n",
       "       5, 3, 1, 3, 3, 2, 4, 2, 2, 4, 1, 3, 5, 2, 5, 3, 2, 2, 4, 2, 2, 3,\n",
       "       1, 2, 2, 4, 0, 3, 3, 6, 1, 3, 2, 1, 1, 6, 2, 2, 2, 3, 4, 5, 4, 1,\n",
       "       2, 1, 4, 5, 1, 4, 3, 0, 5, 1, 4, 2])"
      ]
     },
     "execution_count": 139,
     "metadata": {},
     "output_type": "execute_result"
    }
   ],
   "source": [
    "binomial(10, 0.3, size = 100)"
   ]
  },
  {
   "cell_type": "code",
   "execution_count": 140,
   "id": "15a4a359",
   "metadata": {},
   "outputs": [],
   "source": [
    "def count_frequencies(data, relative = False):\n",
    "    counter = {}\n",
    "    for element in data:\n",
    "        if element not in counter:\n",
    "            # get this element for the first time\n",
    "            counter[element] = 1\n",
    "            #print(counter)\n",
    "        else:\n",
    "            counter[element] += 1\n",
    "            \n",
    "    if relative:\n",
    "        for element in counter:\n",
    "            counter[element] = counter[element]/len(data)\n",
    "    return counter"
   ]
  },
  {
   "cell_type": "code",
   "execution_count": 163,
   "id": "22c002dc",
   "metadata": {},
   "outputs": [],
   "source": [
    "sample = binomial(10, 0.3, size = 1000)"
   ]
  },
  {
   "cell_type": "code",
   "execution_count": 164,
   "id": "c03d72cf",
   "metadata": {},
   "outputs": [
    {
     "data": {
      "text/plain": [
       "{3: 0.264,\n",
       " 2: 0.238,\n",
       " 4: 0.184,\n",
       " 1: 0.13,\n",
       " 7: 0.01,\n",
       " 5: 0.096,\n",
       " 6: 0.051,\n",
       " 0: 0.025,\n",
       " 9: 0.001,\n",
       " 8: 0.001}"
      ]
     },
     "execution_count": 164,
     "metadata": {},
     "output_type": "execute_result"
    }
   ],
   "source": [
    "count_frequencies(sample, relative = True)"
   ]
  },
  {
   "cell_type": "code",
   "execution_count": 2,
   "id": "badc1a55",
   "metadata": {},
   "outputs": [],
   "source": [
    "from scipy.stats import binom"
   ]
  },
  {
   "cell_type": "code",
   "execution_count": 17,
   "id": "91e6cb9f",
   "metadata": {},
   "outputs": [
    {
     "data": {
      "text/plain": [
       "<scipy.stats._distn_infrastructure.rv_frozen at 0x1d92e0aa340>"
      ]
     },
     "execution_count": 17,
     "metadata": {},
     "output_type": "execute_result"
    }
   ],
   "source": [
    "X = binom(10, 0.3)\n",
    "X"
   ]
  },
  {
   "cell_type": "code",
   "execution_count": 16,
   "id": "9afcd3e5",
   "metadata": {},
   "outputs": [
    {
     "data": {
      "text/plain": [
       "0.2334744405000001"
      ]
     },
     "execution_count": 16,
     "metadata": {},
     "output_type": "execute_result"
    }
   ],
   "source": [
    "X.pmf(2)"
   ]
  },
  {
   "cell_type": "code",
   "execution_count": 170,
   "id": "580e2175",
   "metadata": {},
   "outputs": [],
   "source": [
    "import matplotlib.pyplot as plt\n",
    "%matplotlib inline\n",
    "import numpy as np"
   ]
  },
  {
   "cell_type": "code",
   "execution_count": 172,
   "id": "2390a1c5",
   "metadata": {},
   "outputs": [
    {
     "data": {
      "text/plain": [
       "array([0. , 0.1, 0.2, 0.3, 0.4, 0.5, 0.6, 0.7, 0.8, 0.9, 1. , 1.1, 1.2,\n",
       "       1.3, 1.4, 1.5, 1.6, 1.7, 1.8, 1.9, 2. , 2.1, 2.2, 2.3, 2.4, 2.5,\n",
       "       2.6, 2.7, 2.8, 2.9, 3. , 3.1, 3.2, 3.3, 3.4, 3.5, 3.6, 3.7, 3.8,\n",
       "       3.9, 4. , 4.1, 4.2, 4.3, 4.4, 4.5, 4.6, 4.7, 4.8, 4.9, 5. , 5.1,\n",
       "       5.2, 5.3, 5.4, 5.5, 5.6, 5.7, 5.8, 5.9, 6. , 6.1, 6.2, 6.3, 6.4,\n",
       "       6.5, 6.6, 6.7, 6.8, 6.9, 7. , 7.1, 7.2, 7.3, 7.4, 7.5, 7.6, 7.7,\n",
       "       7.8, 7.9, 8. , 8.1, 8.2, 8.3, 8.4, 8.5, 8.6, 8.7, 8.8, 8.9, 9. ,\n",
       "       9.1, 9.2, 9.3, 9.4, 9.5, 9.6, 9.7, 9.8, 9.9])"
      ]
     },
     "execution_count": 172,
     "metadata": {},
     "output_type": "execute_result"
    }
   ],
   "source": [
    "x = np.arange(0, 10, 0.1)\n",
    "x"
   ]
  },
  {
   "cell_type": "code",
   "execution_count": 174,
   "id": "6a5f1add",
   "metadata": {
    "scrolled": true
   },
   "outputs": [
    {
     "data": {
      "text/plain": [
       "[<matplotlib.lines.Line2D at 0x25da7f58610>]"
      ]
     },
     "execution_count": 174,
     "metadata": {},
     "output_type": "execute_result"
    },
    {
     "data": {
      "image/png": "[encoded data removed]",
      "text/plain": [
       "<Figure size 432x288 with 1 Axes>"
      ]
     },
     "metadata": {
      "needs_background": "light"
     },
     "output_type": "display_data"
    }
   ],
   "source": [
    "plt.plot(x, X.pmf(x), 'o')"
   ]
  },
  {
   "cell_type": "code",
   "execution_count": 177,
   "id": "037bc991",
   "metadata": {},
   "outputs": [],
   "source": [
    "freqs = count_frequencies(sample, relative = True)"
   ]
  },
  {
   "cell_type": "code",
   "execution_count": 180,
   "id": "94114663",
   "metadata": {
    "scrolled": true
   },
   "outputs": [
    {
     "data": {
      "text/plain": [
       "<BarContainer object of 10 artists>"
      ]
     },
     "execution_count": 180,
     "metadata": {},
     "output_type": "execute_result"
    },
    {
     "data": {
      "image/png": "[encoded data removed]",
      "text/plain": [
       "<Figure size 432x288 with 1 Axes>"
      ]
     },
     "metadata": {
      "needs_background": "light"
     },
     "output_type": "display_data"
    }
   ],
   "source": [
    "plt.plot(x, X.pmf(x), \"o\", color = 'red')\n",
    "plt.bar(list(freqs.keys()), list(freqs.values())) "
   ]
  },
  {
   "cell_type": "code",
   "execution_count": 188,
   "id": "0ee35342",
   "metadata": {},
   "outputs": [
    {
     "data": {
      "text/plain": [
       "<BarContainer object of 9 artists>"
      ]
     },
     "execution_count": 188,
     "metadata": {},
     "output_type": "execute_result"
    },
    {
     "data": {
      "image/png": "[encoded data removed]",
      "text/plain": [
       "<Figure size 432x288 with 1 Axes>"
      ]
     },
     "metadata": {
      "needs_background": "light"
     },
     "output_type": "display_data"
    }
   ],
   "source": [
    "n = 10\n",
    "p = 0.8\n",
    "sample = binomial(n, p, size = 10000)\n",
    "X = binom(n, p)\n",
    "freqs = count_frequencies(sample, relative = True)\n",
    "plt.plot(x, X.pmf(x), \"o\", color = 'red')\n",
    "plt.bar(list(freqs.keys()), list(freqs.values())) "
   ]
  },
  {
   "cell_type": "code",
   "execution_count": null,
   "id": "7099e21e",
   "metadata": {},
   "outputs": [],
   "source": [
    "# Вопрос 1\n",
    "# Assume that number of calls that some call center receives during one minute \n",
    "# is Poisson random variable with parameter λ=2. \n",
    "# Use Python to find probability that number of calls is larger than 5. \n",
    "# Enter number with first 5 digits after the decimal point. \n",
    "\n",
    "# Hint: Use scipy.stats.poisson object.  "
   ]
  },
  {
   "cell_type": "code",
   "execution_count": 3,
   "id": "31689f70",
   "metadata": {},
   "outputs": [
    {
     "name": "stdout",
     "output_type": "stream",
     "text": [
      "0.1353352832366127\n",
      "0.2706705664732254\n",
      "0.2706705664732254\n",
      "0.1804470443154836\n",
      "0.0902235221577418\n",
      "answer =  0.05265301734371107\n"
     ]
    }
   ],
   "source": [
    "import math\n",
    "lambda_1 = 2\n",
    "k = 5\n",
    "#factorial = math.factorial(k)\n",
    "\n",
    "#print(factorial)\n",
    "answer = 1\n",
    "\n",
    "#print(math.exp(-lambda_1) * lambda_1**k/math.factorial(k))\n",
    "\n",
    "for i in range(k):\n",
    "    #print(i)\n",
    "    p = math.exp(-lambda_1) * lambda_1**i/math.factorial(i)\n",
    "    print(p)\n",
    "    #print(p)\n",
    "    answer -= p\n",
    "print(\"answer = \", answer)\n",
    "\n",
    "\n"
   ]
  },
  {
   "cell_type": "code",
   "execution_count": 221,
   "id": "cd9037dd",
   "metadata": {},
   "outputs": [],
   "source": [
    "import numpy as np\n",
    "from scipy.stats import poisson\n",
    "from matplotlib import pyplot as plt\n",
    "%matplotlib inline"
   ]
  },
  {
   "cell_type": "code",
   "execution_count": 227,
   "id": "95cc72b5",
   "metadata": {},
   "outputs": [
    {
     "data": {
      "image/png": "[encoded data removed]",
      "text/plain": [
       "<Figure size 432x288 with 1 Axes>"
      ]
     },
     "metadata": {
      "needs_background": "light"
     },
     "output_type": "display_data"
    }
   ],
   "source": [
    "from scipy.stats import poisson\n",
    "import matplotlib.pyplot as plt\n",
    "fig, ax = plt.subplots(1, 1)"
   ]
  },
  {
   "cell_type": "code",
   "execution_count": 230,
   "id": "f75f4739",
   "metadata": {},
   "outputs": [
    {
     "name": "stdout",
     "output_type": "stream",
     "text": [
      "0.6 0.6 1.2909944487358056 1.6666666666666667\n"
     ]
    }
   ],
   "source": [
    "mu = 0.6\n",
    "mean, var, skew, kurt = poisson.stats(mu, moments='mvsk')\n",
    "print(mean, var, skew, kurt)"
   ]
  },
  {
   "cell_type": "code",
   "execution_count": 235,
   "id": "e8e76a39",
   "metadata": {},
   "outputs": [],
   "source": [
    "%matplotlib inline"
   ]
  },
  {
   "cell_type": "code",
   "execution_count": 253,
   "id": "6033f1ff",
   "metadata": {},
   "outputs": [
    {
     "data": {
      "text/plain": [
       "<matplotlib.collections.LineCollection at 0x25da86e17c0>"
      ]
     },
     "execution_count": 253,
     "metadata": {},
     "output_type": "execute_result"
    }
   ],
   "source": [
    "x = np.arange(poisson.ppf(0.01, mu),\n",
    "              poisson.ppf(0.99, mu))\n",
    "ax.plot(x, poisson.pmf(x, mu), 'bo', ms=8, label='poisson pmf')\n",
    "ax.vlines(x, 0, poisson.pmf(x, mu), colors='b', lw=5, alpha=0.5)"
   ]
  },
  {
   "cell_type": "code",
   "execution_count": 233,
   "id": "0fc41b56",
   "metadata": {},
   "outputs": [],
   "source": [
    "rv = poisson(mu)\n",
    "ax.vlines(x, 0, rv.pmf(x), colors='k', linestyles='-', lw=1,\n",
    "        label='frozen pmf')\n",
    "ax.legend(loc='best', frameon=False)\n",
    "plt.show()"
   ]
  },
  {
   "cell_type": "code",
   "execution_count": 237,
   "id": "cf4a9483",
   "metadata": {},
   "outputs": [],
   "source": [
    "%matplotlib inline"
   ]
  },
  {
   "cell_type": "code",
   "execution_count": 274,
   "id": "3fc5235f",
   "metadata": {},
   "outputs": [
    {
     "data": {
      "text/plain": [
       "0.100819"
      ]
     },
     "execution_count": 274,
     "metadata": {},
     "output_type": "execute_result"
    }
   ],
   "source": [
    "from scipy.stats import poisson\n",
    "\n",
    "#calculate probability\n",
    "poisson.pmf(k=5, mu=2)\n",
    "\n",
    "0.100819"
   ]
  },
  {
   "cell_type": "markdown",
   "id": "525a700b",
   "metadata": {},
   "source": [
    "# Giude Poisson"
   ]
  },
  {
   "cell_type": "code",
   "execution_count": 256,
   "id": "c1761430",
   "metadata": {},
   "outputs": [],
   "source": [
    "# Code 1 : Creating poisson discrete random variable"
   ]
  },
  {
   "cell_type": "code",
   "execution_count": 254,
   "id": "75118a19",
   "metadata": {},
   "outputs": [
    {
     "name": "stdout",
     "output_type": "stream",
     "text": [
      "RV : \n",
      " <scipy.stats._distn_infrastructure.rv_frozen object at 0x0000025DA85D1520>\n"
     ]
    }
   ],
   "source": [
    "# importing library\n",
    "  \n",
    "from scipy.stats import poisson \n",
    "    \n",
    "numargs = poisson .numargs \n",
    "a, b = 0.2, 0.8\n",
    "rv = poisson (a, b) \n",
    "    \n",
    "print (\"RV : \\n\", rv)  "
   ]
  },
  {
   "cell_type": "code",
   "execution_count": 255,
   "id": "c776a9c6",
   "metadata": {},
   "outputs": [],
   "source": [
    "# Code 2 : poisson discrete variates and probability distribution"
   ]
  },
  {
   "cell_type": "code",
   "execution_count": 257,
   "id": "c3fd0259",
   "metadata": {},
   "outputs": [
    {
     "name": "stdout",
     "output_type": "stream",
     "text": [
      "Random Variates : \n",
      " [0 0 1 0 0 1 1 0 0 0]\n",
      "\n",
      "Probability Distribution : \n",
      " [ 5. nan nan nan nan nan nan nan nan nan]\n"
     ]
    }
   ],
   "source": [
    "import numpy as np \n",
    "quantile = np.arange (0.01, 1, 0.1) \n",
    "  \n",
    "# Random Variates \n",
    "R = poisson .rvs(a, b, size = 10) \n",
    "print (\"Random Variates : \\n\", R) \n",
    "  \n",
    "# PDF \n",
    "x = np.linspace(poisson.ppf(0.01, a, b),\n",
    "                poisson.ppf(0.99, a, b), 10)\n",
    "R = poisson.ppf(x, 1, 3)\n",
    "print (\"\\nProbability Distribution : \\n\", R) "
   ]
  },
  {
   "cell_type": "code",
   "execution_count": 258,
   "id": "4da60ab4",
   "metadata": {},
   "outputs": [
    {
     "name": "stdout",
     "output_type": "stream",
     "text": [
      "Distribution : \n",
      " [0.         0.04081633 0.08163265 0.12244898 0.16326531 0.20408163\n",
      " 0.24489796 0.28571429 0.32653061 0.36734694 0.40816327 0.44897959\n",
      " 0.48979592 0.53061224 0.57142857 0.6122449  0.65306122 0.69387755\n",
      " 0.73469388 0.7755102  0.81632653 0.85714286 0.89795918 0.93877551\n",
      " 0.97959184 1.02040816 1.06122449 1.10204082 1.14285714 1.18367347\n",
      " 1.2244898  1.26530612 1.30612245 1.34693878 1.3877551  1.42857143\n",
      " 1.46938776 1.51020408 1.55102041 1.59183673 1.63265306 1.67346939\n",
      " 1.71428571 1.75510204 1.79591837 1.83673469 1.87755102 1.91836735\n",
      " 1.95918367 2.        ]\n"
     ]
    },
    {
     "data": {
      "image/png": "[encoded data removed]",
      "text/plain": [
       "<Figure size 432x288 with 1 Axes>"
      ]
     },
     "metadata": {
      "needs_background": "light"
     },
     "output_type": "display_data"
    }
   ],
   "source": [
    "import numpy as np \n",
    "import matplotlib.pyplot as plt \n",
    "     \n",
    "distribution = np.linspace(0, np.minimum(rv.dist.b, 2)) \n",
    "print(\"Distribution : \\n\", distribution) \n",
    "     \n",
    "plot = plt.plot(distribution, rv.ppf(distribution)) "
   ]
  },
  {
   "cell_type": "code",
   "execution_count": 259,
   "id": "551e480a",
   "metadata": {},
   "outputs": [],
   "source": [
    "#Code 4 : Varying Positional Arguments"
   ]
  },
  {
   "cell_type": "code",
   "execution_count": 260,
   "id": "fbefa69a",
   "metadata": {
    "scrolled": true
   },
   "outputs": [
    {
     "data": {
      "text/plain": [
       "[<matplotlib.lines.Line2D at 0x25da977d100>,\n",
       " <matplotlib.lines.Line2D at 0x25da977d1f0>]"
      ]
     },
     "execution_count": 260,
     "metadata": {},
     "output_type": "execute_result"
    },
    {
     "data": {
      "image/png": "[encoded data removed]",
      "text/plain": [
       "<Figure size 432x288 with 1 Axes>"
      ]
     },
     "metadata": {
      "needs_background": "light"
     },
     "output_type": "display_data"
    }
   ],
   "source": [
    "import matplotlib.pyplot as plt \n",
    "import numpy as np \n",
    "  \n",
    "x = np.linspace(0, 5, 100) \n",
    "     \n",
    "# Varying positional arguments \n",
    "y1 = poisson.ppf(x, a, b) \n",
    "y2 = poisson.pmf(x, a, b) \n",
    "plt.plot(x, y1, \"*\", x, y2, \"r--\")"
   ]
  },
  {
   "cell_type": "code",
   "execution_count": 264,
   "id": "e030b553",
   "metadata": {},
   "outputs": [
    {
     "data": {
      "image/png": "[encoded data removed]",
      "text/plain": [
       "<Figure size 432x288 with 1 Axes>"
      ]
     },
     "metadata": {
      "needs_background": "light"
     },
     "output_type": "display_data"
    }
   ],
   "source": [
    "# import numpy\n",
    "import numpy as np\n",
    "import matplotlib.pyplot as plt\n",
    "  \n",
    "# Using poisson() method\n",
    "gfg = np.random.poisson(10, size=500)\n",
    "  \n",
    "count, bins, ignored = plt.hist(gfg, 14, density = True)\n",
    "plt.show()"
   ]
  },
  {
   "cell_type": "code",
   "execution_count": 269,
   "id": "a3b739c4",
   "metadata": {},
   "outputs": [
    {
     "name": "stderr",
     "output_type": "stream",
     "text": [
      "C:\\ProgramData\\Anaconda3\\lib\\site-packages\\seaborn\\distributions.py:2619: FutureWarning: `distplot` is a deprecated function and will be removed in a future version. Please adapt your code to use either `displot` (a figure-level function with similar flexibility) or `histplot` (an axes-level function for histograms).\n",
      "  warnings.warn(msg, FutureWarning)\n"
     ]
    },
    {
     "data": {
      "text/plain": [
       "[Text(0.5, 0, 'Poisson'), Text(0, 0.5, 'Frequency')]"
      ]
     },
     "execution_count": 269,
     "metadata": {},
     "output_type": "execute_result"
    },
    {
     "data": {
      "image/png": "[encoded data removed]",
      "text/plain": [
       "<Figure size 432x288 with 1 Axes>"
      ]
     },
     "metadata": {
      "needs_background": "light"
     },
     "output_type": "display_data"
    }
   ],
   "source": [
    "from scipy.stats import poisson\n",
    "import seaborn as sb\n",
    "\n",
    "data_binom = poisson.rvs(mu=2, size=1000)\n",
    "ax = sb.distplot(data_binom,\n",
    "                  kde=True,\n",
    "                  color='green',\n",
    "                  hist_kws={\"linewidth\": 25,'alpha':1})\n",
    "ax.set(xlabel='Poisson', ylabel='Frequency')"
   ]
  },
  {
   "cell_type": "code",
   "execution_count": null,
   "id": "e2d0d973",
   "metadata": {},
   "outputs": [],
   "source": [
    "#Вопрос 2\n",
    "#This problem continues previous one. \n",
    "#Assume now that one operator can handle one call in one minute. \n",
    "#If call is not handled, it's missed. How many operators should I hire \n",
    "#to be sure that probability to miss a call during one minute is not larger than 0.05? \n",
    "#Of course I want to minimize number of operators hired. \n",
    "\n",
    "\n",
    "#Hint: Denote number of calls by X (it's a random variable) and number of \n",
    "#operators hired by q (it's integer number). \n",
    "# If X>q, then call is lost. You need to find minimal value q such that P(X>q)≤0.05. \n",
    "#You can re-state this question in terms of CDF values, then answer it by investigating of CDF function in Python. \n",
    "#However, there is more efficient way to do it: scipy.stats random variables have .ppf method \n",
    "#that calculates percent point function (also known as quantile function) that is inverse function for CDF. \n",
    "#For any value p it finds a minimal value q such that CDF(q)≥p.  "
   ]
  },
  {
   "cell_type": "code",
   "execution_count": 306,
   "id": "ad8a1b04",
   "metadata": {},
   "outputs": [
    {
     "name": "stdout",
     "output_type": "stream",
     "text": [
      "0.1353352832366127\n",
      "0.2706705664732254\n",
      "0.2706705664732254\n",
      "0.1804470443154836\n",
      "0.0902235221577418\n",
      "0.03608940886309672\n",
      "answer =  0.016563608480614347\n"
     ]
    }
   ],
   "source": [
    "import math\n",
    "lambda_1 = 2\n",
    "k = 6\n",
    "#factorial = math.factorial(k)\n",
    "\n",
    "#print(factorial)\n",
    "answer = 1\n",
    "\n",
    "#print(math.exp(-lambda_1) * lambda_1**k/math.factorial(k))\n",
    "\n",
    "for i in range(k):\n",
    "    #print(i)\n",
    "    p = math.exp(-lambda_1) * lambda_1**i/math.factorial(i)\n",
    "    print(p)\n",
    "    #print(p)\n",
    "    answer -= p\n",
    "print(\"answer = \", answer)"
   ]
  },
  {
   "cell_type": "code",
   "execution_count": 5,
   "id": "bef2d70c",
   "metadata": {},
   "outputs": [
    {
     "data": {
      "image/png": "[encoded data removed]",
      "text/plain": [
       "<Figure size 432x288 with 1 Axes>"
      ]
     },
     "metadata": {},
     "output_type": "display_data"
    }
   ],
   "source": [
    "#Importing the required modules\n",
    "import seaborn as sb\n",
    "import matplotlib.pyplot as plt\n",
    "import numpy as np\n",
    "from scipy.stats import poisson\n",
    "\n",
    "#Applying the poisson class methods\n",
    "x = np.arange(0, 10)\n",
    "pmf = poisson.pmf(5,2)\n",
    "\n",
    "\n",
    "#Visualizing the results\n",
    "sb.set_style('whitegrid')\n",
    "plt.vlines(x ,0, pmf, colors='k', linestyles='-', lw=6)\n",
    "plt.ylabel('Probability')\n",
    "plt.xlabel('intervals')\n",
    "plt.show()"
   ]
  },
  {
   "cell_type": "code",
   "execution_count": 6,
   "id": "ccf8b613",
   "metadata": {},
   "outputs": [
    {
     "data": {
      "image/png": "[encoded data removed]",
      "text/plain": [
       "<Figure size 432x288 with 1 Axes>"
      ]
     },
     "metadata": {},
     "output_type": "display_data"
    }
   ],
   "source": [
    "\n",
    "from scipy.stats import poisson\n",
    "import matplotlib.pyplot as plt\n",
    "fig, ax = plt.subplots(1, 1)\n",
    "\n",
    "# Calculate a few first moments:\n",
    "\n",
    "mu = 0.6\n",
    "mean, var, skew, kurt = poisson.stats(mu, moments='mvsk')\n",
    "\n",
    "# Display the probability mass function (``pmf``):\n",
    "\n",
    "x = np.arange(poisson.ppf(0.01, mu),\n",
    "              poisson.ppf(0.99, mu))\n",
    "ax.plot(x, poisson.pmf(x, mu), 'bo', ms=8, label='poisson pmf')\n",
    "ax.vlines(x, 0, poisson.pmf(x, mu), colors='b', lw=5, alpha=0.5)\n",
    "\n",
    "# Alternatively, freeze the distribution and display the frozen ``pmf``:\n",
    "\n",
    "rv = poisson(mu)\n",
    "ax.vlines(x, 0, rv.pmf(x), colors='k', linestyles='-', lw=1, \n",
    "        label='frozen pmf')\n",
    "ax.legend(loc='best', frameon=False)\n",
    "plt.show()\n",
    "\n",
    "# Check accuracy of ``cdf`` and ``ppf``:\n",
    "\n",
    "prob = poisson.cdf(x, mu)\n",
    "np.allclose(x, poisson.ppf(prob, mu))\n",
    "# True\n",
    "\n",
    "# Generate random numbers:\n",
    "\n",
    "r = poisson.rvs(mu, size=1000)"
   ]
  },
  {
   "cell_type": "code",
   "execution_count": null,
   "id": "71b5e88a",
   "metadata": {},
   "outputs": [],
   "source": [
    "prob = poisson.cdf(x, mu)\n",
    "prob_1 = poisson.ppf(prob, mu)\n",
    "\n",
    "print(prob, prob_1)"
   ]
  },
  {
   "cell_type": "code",
   "execution_count": null,
   "id": "fc3da1c5",
   "metadata": {},
   "outputs": [],
   "source": []
  },
  {
   "cell_type": "code",
   "execution_count": 2,
   "id": "de36e936",
   "metadata": {},
   "outputs": [
    {
     "name": "stdout",
     "output_type": "stream",
     "text": [
      "0.03608940886309672\n",
      "0.9834363915193856\n",
      "0.0\n",
      "1\n"
     ]
    }
   ],
   "source": [
    "from scipy import stats\n",
    "Y = stats.poisson(2) # Declare Y to be a poisson random variable\n",
    "print (Y.pmf(5))      # P(Y = 3)\n",
    "print (Y.cdf(5))      # up to 2 calls per minute\n",
    "print (Y.ppf(0.05))\n",
    "print (Y.rvs())      # Get a random sample from Y"
   ]
  },
  {
   "cell_type": "code",
   "execution_count": null,
   "id": "5c84bce5",
   "metadata": {},
   "outputs": [],
   "source": [
    "0.1353352832366127 + 0.2706705664732254 + 0.2706705664732254\n",
    "\n",
    "1 - Y.cdf(5)"
   ]
  },
  {
   "cell_type": "code",
   "execution_count": 1,
   "id": "7a67e073",
   "metadata": {},
   "outputs": [
    {
     "ename": "NameError",
     "evalue": "name 'stats' is not defined",
     "output_type": "error",
     "traceback": [
      "\u001b[1;31m---------------------------------------------------------------------------\u001b[0m",
      "\u001b[1;31mNameError\u001b[0m                                 Traceback (most recent call last)",
      "\u001b[1;32m~\\AppData\\Local\\Temp/ipykernel_4384/2317876296.py\u001b[0m in \u001b[0;36m<module>\u001b[1;34m\u001b[0m\n\u001b[0;32m      1\u001b[0m \u001b[1;31m# Correct answer\u001b[0m\u001b[1;33m\u001b[0m\u001b[1;33m\u001b[0m\u001b[0m\n\u001b[0;32m      2\u001b[0m \u001b[1;33m\u001b[0m\u001b[0m\n\u001b[1;32m----> 3\u001b[1;33m \u001b[0mX\u001b[0m \u001b[1;33m=\u001b[0m \u001b[0mstats\u001b[0m\u001b[1;33m.\u001b[0m\u001b[0mpoisson\u001b[0m\u001b[1;33m(\u001b[0m\u001b[1;36m2\u001b[0m\u001b[1;33m)\u001b[0m\u001b[1;33m\u001b[0m\u001b[1;33m\u001b[0m\u001b[0m\n\u001b[0m\u001b[0;32m      4\u001b[0m \u001b[1;33m\u001b[0m\u001b[0m\n\u001b[0;32m      5\u001b[0m \u001b[1;32mfor\u001b[0m \u001b[0mi\u001b[0m \u001b[1;32min\u001b[0m \u001b[0mrange\u001b[0m\u001b[1;33m(\u001b[0m\u001b[1;36m10\u001b[0m\u001b[1;33m)\u001b[0m\u001b[1;33m:\u001b[0m\u001b[1;33m\u001b[0m\u001b[1;33m\u001b[0m\u001b[0m\n",
      "\u001b[1;31mNameError\u001b[0m: name 'stats' is not defined"
     ]
    }
   ],
   "source": [
    "# Correct answer\n",
    "\n",
    "X = stats.poisson(2)\n",
    "\n",
    "for i in range(10):\n",
    "    print (Y.cdf(i))\n",
    "    print (Y.ppf(0.95))\n",
    "\n"
   ]
  }
 ],
 "metadata": {
  "kernelspec": {
   "display_name": "Python 3 (ipykernel)",
   "language": "python",
   "name": "python3"
  },
  "language_info": {
   "codemirror_mode": {
    "name": "ipython",
    "version": 3
   },
   "file_extension": ".py",
   "mimetype": "text/x-python",
   "name": "python",
   "nbconvert_exporter": "python",
   "pygments_lexer": "ipython3",
   "version": "3.9.7"
  }
 },
 "nbformat": 4,
 "nbformat_minor": 5
}
