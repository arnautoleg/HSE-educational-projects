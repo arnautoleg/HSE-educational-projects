{
 "cells": [
  {
   "cell_type": "code",
   "execution_count": 10,
   "id": "29a67267",
   "metadata": {},
   "outputs": [
    {
     "name": "stdout",
     "output_type": "stream",
     "text": [
      "[ 0  8 58]\n"
     ]
    }
   ],
   "source": [
    "import numpy as np\n",
    "\n",
    "a = np.array([1, 4, 5]) # vector\n",
    "b = np.array([-1, 4, 53]) # vector\n",
    "\n",
    "c = a + b\n",
    "print(c)"
   ]
  },
  {
   "cell_type": "markdown",
   "id": "2b7fb51f",
   "metadata": {},
   "source": [
    "https://www.youtube.com/watch?v=eDb6iugi6Uk"
   ]
  },
  {
   "cell_type": "code",
   "execution_count": 4,
   "id": "c45d7191",
   "metadata": {},
   "outputs": [
    {
     "name": "stdout",
     "output_type": "stream",
     "text": [
      "[ -1  16 265]\n"
     ]
    }
   ],
   "source": [
    "d = a*b\n",
    "print(d)"
   ]
  },
  {
   "cell_type": "code",
   "execution_count": 6,
   "id": "491fd0e0",
   "metadata": {},
   "outputs": [
    {
     "name": "stdout",
     "output_type": "stream",
     "text": [
      "[[  8  -2]\n",
      " [-16  10]]\n"
     ]
    }
   ],
   "source": [
    "m1 = np.array([[1, 4], [-5, 8]]) # matrix\n",
    "m2 = np.array([[7, -6], [-11, 2]]) # matrix\n",
    "\n",
    "msum = m1+m2\n",
    "print(msum)"
   ]
  },
  {
   "cell_type": "code",
   "execution_count": 7,
   "id": "a47d1071",
   "metadata": {
    "scrolled": true
   },
   "outputs": [
    {
     "name": "stdout",
     "output_type": "stream",
     "text": [
      "[[ -37    2]\n",
      " [-123   46]]\n"
     ]
    }
   ],
   "source": [
    "product = np.dot(m1, m2)\n",
    "print(product)"
   ]
  },
  {
   "cell_type": "code",
   "execution_count": 8,
   "id": "68bede8d",
   "metadata": {},
   "outputs": [
    {
     "name": "stdout",
     "output_type": "stream",
     "text": [
      "[[0. 0. 0.]\n",
      " [0. 0. 0.]]\n",
      "[[1. 0. 0.]\n",
      " [0. 1. 0.]\n",
      " [0. 0. 1.]]\n"
     ]
    }
   ],
   "source": [
    "zeros = np.zeros((2, 3)) # null matrix\n",
    "i = np.identity(3)       # identiry matrix\n",
    "print(zeros)\n",
    "print(i)"
   ]
  },
  {
   "cell_type": "markdown",
   "id": "fb95cb27",
   "metadata": {},
   "source": [
    "# Matrix inverse"
   ]
  },
  {
   "cell_type": "code",
   "execution_count": 126,
   "id": "ed0f81bb",
   "metadata": {},
   "outputs": [
    {
     "name": "stdout",
     "output_type": "stream",
     "text": [
      "[[0.42857143]\n",
      " [1.14285714]]\n"
     ]
    }
   ],
   "source": [
    "a = np.array([[-1, 3], [3, 5]])\n",
    "b = np.array([[3], [7]])\n",
    "inv = np.linalg.inv(a) # invers for a\n",
    "\n",
    "x = np.dot(inv, b)     # multiply invers matrix and b\n",
    "print(x)"
   ]
  },
  {
   "cell_type": "code",
   "execution_count": 22,
   "id": "b877de0b",
   "metadata": {},
   "outputs": [
    {
     "name": "stdout",
     "output_type": "stream",
     "text": [
      "[[-2.   1. ]\n",
      " [ 1.5 -0.5]]\n"
     ]
    }
   ],
   "source": [
    "a = np.array([[1, 2], [3, 4]])\n",
    "\n",
    "inv = np.linalg.inv(a) # invers for a\n",
    "\n",
    "print(inv)"
   ]
  },
  {
   "cell_type": "code",
   "execution_count": 13,
   "id": "ba5005f8",
   "metadata": {
    "scrolled": true
   },
   "outputs": [
    {
     "ename": "LinAlgError",
     "evalue": "Singular matrix",
     "output_type": "error",
     "traceback": [
      "\u001b[1;31m---------------------------------------------------------------------------\u001b[0m",
      "\u001b[1;31mLinAlgError\u001b[0m                               Traceback (most recent call last)",
      "\u001b[1;32m~\\AppData\\Local\\Temp/ipykernel_6304/3134278228.py\u001b[0m in \u001b[0;36m<module>\u001b[1;34m\u001b[0m\n\u001b[0;32m      1\u001b[0m \u001b[0ma\u001b[0m \u001b[1;33m=\u001b[0m \u001b[0mnp\u001b[0m\u001b[1;33m.\u001b[0m\u001b[0marray\u001b[0m\u001b[1;33m(\u001b[0m\u001b[1;33m[\u001b[0m\u001b[1;33m[\u001b[0m\u001b[1;36m3\u001b[0m\u001b[1;33m,\u001b[0m \u001b[1;36m2\u001b[0m\u001b[1;33m]\u001b[0m\u001b[1;33m,\u001b[0m \u001b[1;33m[\u001b[0m\u001b[1;36m6\u001b[0m\u001b[1;33m,\u001b[0m \u001b[1;36m4\u001b[0m\u001b[1;33m]\u001b[0m\u001b[1;33m]\u001b[0m\u001b[1;33m)\u001b[0m\u001b[1;33m\u001b[0m\u001b[1;33m\u001b[0m\u001b[0m\n\u001b[0;32m      2\u001b[0m \u001b[1;33m\u001b[0m\u001b[0m\n\u001b[1;32m----> 3\u001b[1;33m \u001b[0minv\u001b[0m \u001b[1;33m=\u001b[0m \u001b[0mnp\u001b[0m\u001b[1;33m.\u001b[0m\u001b[0mlinalg\u001b[0m\u001b[1;33m.\u001b[0m\u001b[0minv\u001b[0m\u001b[1;33m(\u001b[0m\u001b[0ma\u001b[0m\u001b[1;33m)\u001b[0m \u001b[1;31m# invers for a\u001b[0m\u001b[1;33m\u001b[0m\u001b[1;33m\u001b[0m\u001b[0m\n\u001b[0m\u001b[0;32m      4\u001b[0m \u001b[1;33m\u001b[0m\u001b[0m\n\u001b[0;32m      5\u001b[0m \u001b[0mprint\u001b[0m\u001b[1;33m(\u001b[0m\u001b[0minv\u001b[0m\u001b[1;33m)\u001b[0m\u001b[1;33m\u001b[0m\u001b[1;33m\u001b[0m\u001b[0m\n",
      "\u001b[1;32m<__array_function__ internals>\u001b[0m in \u001b[0;36minv\u001b[1;34m(*args, **kwargs)\u001b[0m\n",
      "\u001b[1;32mC:\\ProgramData\\Anaconda3\\lib\\site-packages\\numpy\\linalg\\linalg.py\u001b[0m in \u001b[0;36minv\u001b[1;34m(a)\u001b[0m\n\u001b[0;32m    543\u001b[0m     \u001b[0msignature\u001b[0m \u001b[1;33m=\u001b[0m \u001b[1;34m'D->D'\u001b[0m \u001b[1;32mif\u001b[0m \u001b[0misComplexType\u001b[0m\u001b[1;33m(\u001b[0m\u001b[0mt\u001b[0m\u001b[1;33m)\u001b[0m \u001b[1;32melse\u001b[0m \u001b[1;34m'd->d'\u001b[0m\u001b[1;33m\u001b[0m\u001b[1;33m\u001b[0m\u001b[0m\n\u001b[0;32m    544\u001b[0m     \u001b[0mextobj\u001b[0m \u001b[1;33m=\u001b[0m \u001b[0mget_linalg_error_extobj\u001b[0m\u001b[1;33m(\u001b[0m\u001b[0m_raise_linalgerror_singular\u001b[0m\u001b[1;33m)\u001b[0m\u001b[1;33m\u001b[0m\u001b[1;33m\u001b[0m\u001b[0m\n\u001b[1;32m--> 545\u001b[1;33m     \u001b[0mainv\u001b[0m \u001b[1;33m=\u001b[0m \u001b[0m_umath_linalg\u001b[0m\u001b[1;33m.\u001b[0m\u001b[0minv\u001b[0m\u001b[1;33m(\u001b[0m\u001b[0ma\u001b[0m\u001b[1;33m,\u001b[0m \u001b[0msignature\u001b[0m\u001b[1;33m=\u001b[0m\u001b[0msignature\u001b[0m\u001b[1;33m,\u001b[0m \u001b[0mextobj\u001b[0m\u001b[1;33m=\u001b[0m\u001b[0mextobj\u001b[0m\u001b[1;33m)\u001b[0m\u001b[1;33m\u001b[0m\u001b[1;33m\u001b[0m\u001b[0m\n\u001b[0m\u001b[0;32m    546\u001b[0m     \u001b[1;32mreturn\u001b[0m \u001b[0mwrap\u001b[0m\u001b[1;33m(\u001b[0m\u001b[0mainv\u001b[0m\u001b[1;33m.\u001b[0m\u001b[0mastype\u001b[0m\u001b[1;33m(\u001b[0m\u001b[0mresult_t\u001b[0m\u001b[1;33m,\u001b[0m \u001b[0mcopy\u001b[0m\u001b[1;33m=\u001b[0m\u001b[1;32mFalse\u001b[0m\u001b[1;33m)\u001b[0m\u001b[1;33m)\u001b[0m\u001b[1;33m\u001b[0m\u001b[1;33m\u001b[0m\u001b[0m\n\u001b[0;32m    547\u001b[0m \u001b[1;33m\u001b[0m\u001b[0m\n",
      "\u001b[1;32mC:\\ProgramData\\Anaconda3\\lib\\site-packages\\numpy\\linalg\\linalg.py\u001b[0m in \u001b[0;36m_raise_linalgerror_singular\u001b[1;34m(err, flag)\u001b[0m\n\u001b[0;32m     86\u001b[0m \u001b[1;33m\u001b[0m\u001b[0m\n\u001b[0;32m     87\u001b[0m \u001b[1;32mdef\u001b[0m \u001b[0m_raise_linalgerror_singular\u001b[0m\u001b[1;33m(\u001b[0m\u001b[0merr\u001b[0m\u001b[1;33m,\u001b[0m \u001b[0mflag\u001b[0m\u001b[1;33m)\u001b[0m\u001b[1;33m:\u001b[0m\u001b[1;33m\u001b[0m\u001b[1;33m\u001b[0m\u001b[0m\n\u001b[1;32m---> 88\u001b[1;33m     \u001b[1;32mraise\u001b[0m \u001b[0mLinAlgError\u001b[0m\u001b[1;33m(\u001b[0m\u001b[1;34m\"Singular matrix\"\u001b[0m\u001b[1;33m)\u001b[0m\u001b[1;33m\u001b[0m\u001b[1;33m\u001b[0m\u001b[0m\n\u001b[0m\u001b[0;32m     89\u001b[0m \u001b[1;33m\u001b[0m\u001b[0m\n\u001b[0;32m     90\u001b[0m \u001b[1;32mdef\u001b[0m \u001b[0m_raise_linalgerror_nonposdef\u001b[0m\u001b[1;33m(\u001b[0m\u001b[0merr\u001b[0m\u001b[1;33m,\u001b[0m \u001b[0mflag\u001b[0m\u001b[1;33m)\u001b[0m\u001b[1;33m:\u001b[0m\u001b[1;33m\u001b[0m\u001b[1;33m\u001b[0m\u001b[0m\n",
      "\u001b[1;31mLinAlgError\u001b[0m: Singular matrix"
     ]
    }
   ],
   "source": [
    "a = np.array([[3, 2], [6, 4]])\n",
    "\n",
    "inv = np.linalg.inv(a) # invers for a\n",
    "\n",
    "print(inv)"
   ]
  },
  {
   "cell_type": "code",
   "execution_count": 14,
   "id": "6c520eda",
   "metadata": {},
   "outputs": [
    {
     "ename": "LinAlgError",
     "evalue": "Singular matrix",
     "output_type": "error",
     "traceback": [
      "\u001b[1;31m---------------------------------------------------------------------------\u001b[0m",
      "\u001b[1;31mLinAlgError\u001b[0m                               Traceback (most recent call last)",
      "\u001b[1;32m~\\AppData\\Local\\Temp/ipykernel_6304/385631363.py\u001b[0m in \u001b[0;36m<module>\u001b[1;34m\u001b[0m\n\u001b[0;32m      1\u001b[0m \u001b[0ma\u001b[0m \u001b[1;33m=\u001b[0m \u001b[0mnp\u001b[0m\u001b[1;33m.\u001b[0m\u001b[0marray\u001b[0m\u001b[1;33m(\u001b[0m\u001b[1;33m[\u001b[0m\u001b[1;33m[\u001b[0m\u001b[1;36m5\u001b[0m\u001b[1;33m,\u001b[0m \u001b[1;33m-\u001b[0m\u001b[1;36m4\u001b[0m\u001b[1;33m]\u001b[0m\u001b[1;33m,\u001b[0m \u001b[1;33m[\u001b[0m\u001b[1;36m10\u001b[0m\u001b[1;33m,\u001b[0m \u001b[1;33m-\u001b[0m\u001b[1;36m8\u001b[0m\u001b[1;33m]\u001b[0m\u001b[1;33m]\u001b[0m\u001b[1;33m)\u001b[0m\u001b[1;33m\u001b[0m\u001b[1;33m\u001b[0m\u001b[0m\n\u001b[0;32m      2\u001b[0m \u001b[0mb\u001b[0m \u001b[1;33m=\u001b[0m \u001b[0mnp\u001b[0m\u001b[1;33m.\u001b[0m\u001b[0marray\u001b[0m\u001b[1;33m(\u001b[0m\u001b[1;33m[\u001b[0m\u001b[1;33m[\u001b[0m\u001b[1;36m6\u001b[0m\u001b[1;33m]\u001b[0m\u001b[1;33m,\u001b[0m \u001b[1;33m[\u001b[0m\u001b[1;33m-\u001b[0m\u001b[1;36m12\u001b[0m\u001b[1;33m]\u001b[0m\u001b[1;33m]\u001b[0m\u001b[1;33m)\u001b[0m\u001b[1;33m\u001b[0m\u001b[1;33m\u001b[0m\u001b[0m\n\u001b[1;32m----> 3\u001b[1;33m \u001b[0minv\u001b[0m \u001b[1;33m=\u001b[0m \u001b[0mnp\u001b[0m\u001b[1;33m.\u001b[0m\u001b[0mlinalg\u001b[0m\u001b[1;33m.\u001b[0m\u001b[0minv\u001b[0m\u001b[1;33m(\u001b[0m\u001b[0ma\u001b[0m\u001b[1;33m)\u001b[0m \u001b[1;31m# invers for a\u001b[0m\u001b[1;33m\u001b[0m\u001b[1;33m\u001b[0m\u001b[0m\n\u001b[0m\u001b[0;32m      4\u001b[0m \u001b[0mx\u001b[0m \u001b[1;33m=\u001b[0m \u001b[0mnp\u001b[0m\u001b[1;33m.\u001b[0m\u001b[0mdot\u001b[0m\u001b[1;33m(\u001b[0m\u001b[0minv\u001b[0m\u001b[1;33m,\u001b[0m \u001b[0mb\u001b[0m\u001b[1;33m)\u001b[0m     \u001b[1;31m# multiply invers matrix and b\u001b[0m\u001b[1;33m\u001b[0m\u001b[1;33m\u001b[0m\u001b[0m\n\u001b[0;32m      5\u001b[0m \u001b[0mprint\u001b[0m\u001b[1;33m(\u001b[0m\u001b[0mx\u001b[0m\u001b[1;33m)\u001b[0m\u001b[1;33m\u001b[0m\u001b[1;33m\u001b[0m\u001b[0m\n",
      "\u001b[1;32m<__array_function__ internals>\u001b[0m in \u001b[0;36minv\u001b[1;34m(*args, **kwargs)\u001b[0m\n",
      "\u001b[1;32mC:\\ProgramData\\Anaconda3\\lib\\site-packages\\numpy\\linalg\\linalg.py\u001b[0m in \u001b[0;36minv\u001b[1;34m(a)\u001b[0m\n\u001b[0;32m    543\u001b[0m     \u001b[0msignature\u001b[0m \u001b[1;33m=\u001b[0m \u001b[1;34m'D->D'\u001b[0m \u001b[1;32mif\u001b[0m \u001b[0misComplexType\u001b[0m\u001b[1;33m(\u001b[0m\u001b[0mt\u001b[0m\u001b[1;33m)\u001b[0m \u001b[1;32melse\u001b[0m \u001b[1;34m'd->d'\u001b[0m\u001b[1;33m\u001b[0m\u001b[1;33m\u001b[0m\u001b[0m\n\u001b[0;32m    544\u001b[0m     \u001b[0mextobj\u001b[0m \u001b[1;33m=\u001b[0m \u001b[0mget_linalg_error_extobj\u001b[0m\u001b[1;33m(\u001b[0m\u001b[0m_raise_linalgerror_singular\u001b[0m\u001b[1;33m)\u001b[0m\u001b[1;33m\u001b[0m\u001b[1;33m\u001b[0m\u001b[0m\n\u001b[1;32m--> 545\u001b[1;33m     \u001b[0mainv\u001b[0m \u001b[1;33m=\u001b[0m \u001b[0m_umath_linalg\u001b[0m\u001b[1;33m.\u001b[0m\u001b[0minv\u001b[0m\u001b[1;33m(\u001b[0m\u001b[0ma\u001b[0m\u001b[1;33m,\u001b[0m \u001b[0msignature\u001b[0m\u001b[1;33m=\u001b[0m\u001b[0msignature\u001b[0m\u001b[1;33m,\u001b[0m \u001b[0mextobj\u001b[0m\u001b[1;33m=\u001b[0m\u001b[0mextobj\u001b[0m\u001b[1;33m)\u001b[0m\u001b[1;33m\u001b[0m\u001b[1;33m\u001b[0m\u001b[0m\n\u001b[0m\u001b[0;32m    546\u001b[0m     \u001b[1;32mreturn\u001b[0m \u001b[0mwrap\u001b[0m\u001b[1;33m(\u001b[0m\u001b[0mainv\u001b[0m\u001b[1;33m.\u001b[0m\u001b[0mastype\u001b[0m\u001b[1;33m(\u001b[0m\u001b[0mresult_t\u001b[0m\u001b[1;33m,\u001b[0m \u001b[0mcopy\u001b[0m\u001b[1;33m=\u001b[0m\u001b[1;32mFalse\u001b[0m\u001b[1;33m)\u001b[0m\u001b[1;33m)\u001b[0m\u001b[1;33m\u001b[0m\u001b[1;33m\u001b[0m\u001b[0m\n\u001b[0;32m    547\u001b[0m \u001b[1;33m\u001b[0m\u001b[0m\n",
      "\u001b[1;32mC:\\ProgramData\\Anaconda3\\lib\\site-packages\\numpy\\linalg\\linalg.py\u001b[0m in \u001b[0;36m_raise_linalgerror_singular\u001b[1;34m(err, flag)\u001b[0m\n\u001b[0;32m     86\u001b[0m \u001b[1;33m\u001b[0m\u001b[0m\n\u001b[0;32m     87\u001b[0m \u001b[1;32mdef\u001b[0m \u001b[0m_raise_linalgerror_singular\u001b[0m\u001b[1;33m(\u001b[0m\u001b[0merr\u001b[0m\u001b[1;33m,\u001b[0m \u001b[0mflag\u001b[0m\u001b[1;33m)\u001b[0m\u001b[1;33m:\u001b[0m\u001b[1;33m\u001b[0m\u001b[1;33m\u001b[0m\u001b[0m\n\u001b[1;32m---> 88\u001b[1;33m     \u001b[1;32mraise\u001b[0m \u001b[0mLinAlgError\u001b[0m\u001b[1;33m(\u001b[0m\u001b[1;34m\"Singular matrix\"\u001b[0m\u001b[1;33m)\u001b[0m\u001b[1;33m\u001b[0m\u001b[1;33m\u001b[0m\u001b[0m\n\u001b[0m\u001b[0;32m     89\u001b[0m \u001b[1;33m\u001b[0m\u001b[0m\n\u001b[0;32m     90\u001b[0m \u001b[1;32mdef\u001b[0m \u001b[0m_raise_linalgerror_nonposdef\u001b[0m\u001b[1;33m(\u001b[0m\u001b[0merr\u001b[0m\u001b[1;33m,\u001b[0m \u001b[0mflag\u001b[0m\u001b[1;33m)\u001b[0m\u001b[1;33m:\u001b[0m\u001b[1;33m\u001b[0m\u001b[1;33m\u001b[0m\u001b[0m\n",
      "\u001b[1;31mLinAlgError\u001b[0m: Singular matrix"
     ]
    }
   ],
   "source": [
    "a = np.array([[5, -4], [10, -8]])\n",
    "b = np.array([[6], [-12]])\n",
    "inv = np.linalg.inv(a) # invers for a\n",
    "x = np.dot(inv, b)     # multiply invers matrix and b\n",
    "print(x)\n"
   ]
  },
  {
   "cell_type": "code",
   "execution_count": 45,
   "id": "ab848ad0",
   "metadata": {},
   "outputs": [
    {
     "name": "stdout",
     "output_type": "stream",
     "text": [
      "[[1. 0.]\n",
      " [1. 1.]]\n"
     ]
    }
   ],
   "source": [
    "a = np.array([[1, 0], [-1, 1]])\n",
    "\n",
    "inv = np.linalg.inv(a) # invers for a\n",
    "\n",
    "print(inv)"
   ]
  },
  {
   "cell_type": "code",
   "execution_count": 25,
   "id": "e0c1970f",
   "metadata": {
    "scrolled": true
   },
   "outputs": [
    {
     "name": "stdout",
     "output_type": "stream",
     "text": [
      "[[1. 0. 0.]\n",
      " [0. 1. 0.]\n",
      " [0. 0. 1.]]\n"
     ]
    }
   ],
   "source": [
    "m1 = np.array([[4, 2, 2], [3, 2, 1], [-2, -1, -2]]) # matrix\n",
    "m2 = np.array([[1.5, -1, 1], [-2, 2, -1], [-0.5, 0, -1]]) # matrix\n",
    "\n",
    "x = np.dot(m2, m1)\n",
    "print(x)"
   ]
  },
  {
   "cell_type": "code",
   "execution_count": 31,
   "id": "05c6f796",
   "metadata": {},
   "outputs": [
    {
     "name": "stdout",
     "output_type": "stream",
     "text": [
      "[[-2.5]\n",
      " [ 7. ]\n",
      " [ 0.5]]\n"
     ]
    }
   ],
   "source": [
    "a = np.array([[4, 2, 2], [3, 2, 1], [-2, -1, -2]])\n",
    "b = np.array([[5], [7], [-3]])\n",
    "inv = np.linalg.inv(a) # invers for a\n",
    "x = np.dot(inv, b)     # multiply invers matrix and b\n",
    "print(x)\n",
    "\n",
    "\n"
   ]
  },
  {
   "cell_type": "code",
   "execution_count": 26,
   "id": "c0c0bbd9",
   "metadata": {},
   "outputs": [
    {
     "name": "stdout",
     "output_type": "stream",
     "text": [
      "[[ 4.  2. -1.]\n",
      " [-1. -1. -0.]\n",
      " [ 2.  1.  0.]]\n"
     ]
    }
   ],
   "source": [
    "a = np.array([[0, 1, 1], [0, -2, -1], [-1, 0, 2]])\n",
    "b = np.array([[3], [7]])\n",
    "inv = np.linalg.inv(a) # invers for a\n",
    "#x = np.dot(inv, b)     # multiply invers matrix and b\n",
    "print(inv)\n"
   ]
  },
  {
   "cell_type": "code",
   "execution_count": 46,
   "id": "13430831",
   "metadata": {},
   "outputs": [
    {
     "name": "stdout",
     "output_type": "stream",
     "text": [
      "[[2 3]\n",
      " [2 1]]\n"
     ]
    }
   ],
   "source": [
    "a = np.array([[2, 1], [2, -1]])\n",
    "b = np.array([[1, 1], [0, 1]])\n",
    "#inv = np.linalg.inv(a) # invers for a\n",
    "x = np.dot(a, b)     # multiply invers matrix and b\n",
    "print(x)"
   ]
  },
  {
   "cell_type": "markdown",
   "id": "481e19ad",
   "metadata": {},
   "source": [
    "# PLU decompozition using scipy\n"
   ]
  },
  {
   "cell_type": "code",
   "execution_count": 47,
   "id": "64b2b346",
   "metadata": {},
   "outputs": [
    {
     "data": {
      "text/plain": [
       "(array([[1., 0.],\n",
       "        [0., 1.]]),\n",
       " array([[1., 0.],\n",
       "        [1., 1.]]),\n",
       " array([[ 2.,  1.],\n",
       "        [ 0., -2.]]))"
      ]
     },
     "execution_count": 47,
     "metadata": {},
     "output_type": "execute_result"
    }
   ],
   "source": [
    "from numpy import *\n",
    "\n",
    "from scipy.linalg import *\n",
    "\n",
    "B = np.array([[2, 1], [2, -1]])\n",
    "# PLU\n",
    "\n",
    "P, L, U = lu(B)\n",
    "\n",
    "# outputs true\n",
    "\n",
    "np.allclose(np.dot(np.dot(P, L), U), B)\n",
    "\n",
    "P, L, U"
   ]
  },
  {
   "cell_type": "code",
   "execution_count": null,
   "id": "f72965a2",
   "metadata": {},
   "outputs": [],
   "source": [
    "import numpy as np\n",
    "#vectors\n",
    "a = np.array([1, 4, 5])\n",
    "b = np.array([-1, 4, 53])\n",
    "c = a + b # c is vector (0, 8, 58 )\n",
    "print(\"Vector sum\", c)\n",
    "d = a * b # d is vector (−1, 16, 265)\n",
    "print(\"Elementwise vector product\", d)\n",
    "\n",
    "#arrays\n",
    "m1 = np.array([[1, 4], [-5, 8]])\n",
    "m2 = np.array([[7, -6], [-11, 2]])\n",
    "# msum is array ([[8, −2], [−16, 10]])\n",
    "msum = m1+m2\n",
    "print(\"Matrix sum\", msum)\n",
    "# product is array ([[−37, 2], [−123, 46]])\n",
    "product = np.dot(m1, m2)\n",
    "print(\"Matrix product\", product)\n",
    "\n",
    "#zeros is a null matrix of shape 2x3\n",
    "zeros = np.zeros((2,3))\n",
    "print(\"Null matrix: \", zeros)\n",
    "#i is an identity matrix of shape 3x3\n",
    "i = np.identity(3)\n",
    "print(\"Identity matrix: \", i)\n",
    "\n",
    "#matrix inverse and multiplication\n",
    "a = np.array([[-1, 3], [3, 5]])\n",
    "b = np.array([[3], [7]])\n",
    "inv = np.linalg.inv(a)\n",
    "x = np.dot(inv, b)\n",
    "\n",
    "from scipy.linalg import lu\n",
    "B = np.array([[ 0, 0, 1], [0, 2, 2], [3, 0, 4]])\n",
    "# PLU\n",
    "P, L, U = lu(B)\n",
    "# outputs true\n",
    "np.allclose(np.dot(np.dot(P,L), U), B)"
   ]
  },
  {
   "cell_type": "code",
   "execution_count": null,
   "id": "9990482a",
   "metadata": {},
   "outputs": [],
   "source": [
    "###Please note, that for higher dimension arrays using numpy.matmult is more preferable\n",
    "\n",
    "a = np.array([[1, 0], [0, 1]])\n",
    "b = np.array([[4, 1], [2, 2]])\n",
    "product = np.matmul(a, b) # also can be written as a @ b\n",
    "print(\"Matrix product\", product)"
   ]
  },
  {
   "cell_type": "code",
   "execution_count": null,
   "id": "33e181b1",
   "metadata": {},
   "outputs": [],
   "source": [
    "### Moreover, numpy  provides many useful methods for matrix elements addition,  finding absolute value, generating random matrices, filtering and much more. For example:\n",
    "\n",
    "a = np.array([[1,2],[3,4]])\n",
    "# sum_of_elements is 10\n",
    "sum_of_elements = np.sum(a)\n",
    "print(\"Sum of elements\", sum_of_elements)\n",
    "\n",
    "k = -9\n",
    "abs_k = np.abs(k) #abs_k is 9\n",
    "print(\"Absolute of -9 = \", abs_k)\n",
    "\n",
    "# random matrix of size 4x4 with values from -15 to 15\n",
    "m1 = np.random.randint(low=-15,high=15, size=(4, 4))\n",
    "print(\"Original matrix\", m1)\n",
    "#replace all values that are greater than 0 with 1\n",
    "filtered_m1 = np.where(m1 < 0, m1, -1)\n",
    "print(\"Replacing non-negative values with -1\", filtered_m1)"
   ]
  },
  {
   "cell_type": "code",
   "execution_count": 57,
   "id": "a938cf8e",
   "metadata": {},
   "outputs": [
    {
     "name": "stdout",
     "output_type": "stream",
     "text": [
      "Original matrix [[ -9   4 -12  -5]\n",
      " [  1   2  10  -6]\n",
      " [ -6  -1  -2 -12]\n",
      " [ -6  -4  -2   1]]\n"
     ]
    }
   ],
   "source": [
    "# random matrix of size 4x4 with values from -15 to 15\n",
    "m1 = np.random.randint(low=-15,high=15, size=(4, 4))\n",
    "print(\"Original matrix\", m1)\n"
   ]
  },
  {
   "cell_type": "code",
   "execution_count": 58,
   "id": "fe889f29",
   "metadata": {},
   "outputs": [
    {
     "name": "stdout",
     "output_type": "stream",
     "text": [
      "Replacing non-negative values with -1 [[ -9  -1 -12  -5]\n",
      " [ -1  -1  -1  -6]\n",
      " [ -6  -1  -2 -12]\n",
      " [ -6  -4  -2  -1]]\n"
     ]
    }
   ],
   "source": [
    "#replace all values that are greater than 0 with 1\n",
    "filtered_m1 = np.where(m1 < 0, m1, -1)\n",
    "print(\"Replacing non-negative values with -1\", filtered_m1)"
   ]
  },
  {
   "cell_type": "markdown",
   "id": "0f6ffadb",
   "metadata": {},
   "source": [
    "# Practice quiz: operations with matrices"
   ]
  },
  {
   "cell_type": "code",
   "execution_count": 79,
   "id": "0711d3fa",
   "metadata": {},
   "outputs": [
    {
     "data": {
      "text/plain": [
       "-17"
      ]
     },
     "execution_count": 79,
     "metadata": {},
     "output_type": "execute_result"
    }
   ],
   "source": [
    "b = np.array([[ -6,  -7,  -5,   0],\n",
    "       [-15,   2, -13,  -5],\n",
    "       [  8,   4,  10,   8],\n",
    "       [ -1,  -9,   7,  -4]])\n",
    "\n",
    "a = sum(np.where(abs(b) > 5, b, 0))\n",
    "a"
   ]
  },
  {
   "cell_type": "code",
   "execution_count": 80,
   "id": "6482c530",
   "metadata": {},
   "outputs": [],
   "source": [
    "n = np.array([[ -4,  -1,   3,  -7,   6,  -9,   5,  -9,  -7,   0],\n",
    "       [-12,   3, -12,  -7,   2,  -4,   8,  13,   9,   3],\n",
    "       [ -2,  -1, -15, -10,   7,   5,   7, -13,  -9,   6],\n",
    "       [  7,  11,  -5,  -6,  -9,  -1,   3,  10, -15,  -6],\n",
    "       [ -3,  -4,   4, -13,   4, -13,  10,  -6,  -8,  13],\n",
    "       [  7, -13,  -4,   3,   4,  13, -13,   4,  -9, -10],\n",
    "       [ -5,  13,  -9, -15,  11,   2,   7, -14, -14,   2],\n",
    "       [ -4,  -6,  12,  10,  13,  -3,  12, -15,   5,  -2],\n",
    "       [ -1,   8,   3,   7,  11,  -3,   6,  12,  12, -13],\n",
    "       [ 12,  11,  12,  11,   1, -14,   2,   6,  -9,  -3]])\n",
    "z = np.array([[-15,   5, -15,  10,  -3,  12,  -6, -15,   6,   3],\n",
    "       [ 12,  -4,   6, -11,   5,   3,   3,  12, -15,  -6],\n",
    "       [-11, -11, -10,   9,  -8, -14, -14,   7,  -2,  11],\n",
    "       [  5,  -4,  11,   0,   8,  -9, -15, -11,   7, -10],\n",
    "       [ -6,  -9,  -3, -13, -11,  -9,   7,  -7,   9,   4],\n",
    "       [ 10,  12,   4,  -7,   1,   0,  -1,  11,  -4,  11],\n",
    "       [-14,   2,  -8,  11,  -9,   5, -14,  10,  -6,  -9],\n",
    "       [ -5,  10, -10,  -1,  -9, -12,  12,  14,   4,   2],\n",
    "       [ -1, -13,  10,  11,  12, -14,   9,  12,  12,  -5],\n",
    "       [  2,   6, -13,  -5,  -2,  -2,   0,  14,   7,  14]])"
   ]
  },
  {
   "cell_type": "code",
   "execution_count": 81,
   "id": "e7e39460",
   "metadata": {},
   "outputs": [
    {
     "data": {
      "text/plain": [
       "array([[-164, -172, -127,  -30, -196,  147, -106, -155, -124,   -6],\n",
       "       [  81,   69,   76, -100,  -22, -170,  497,  563,   25, -201],\n",
       "       [ 129,  233,  -31, -309,  -97,  515,   78, -107, -154,   58],\n",
       "       [   7,  404, -228,  -84, -161,  439,   32,   16, -432, -103],\n",
       "       [-342,  -41, -495,   52, -362,  185,  -98,   99,  -58,  182],\n",
       "       [  55,  310,   34, -162,  -68,   71,   94, -529,  166,  214],\n",
       "       [ 199,   75,  -29, -504, -196,  536,  103,   12, -473,   31],\n",
       "       [-304, -524,   93,  198,  -89, -267, -521, -220,  155, -116],\n",
       "       [-165, -335,  186,   58,  -41, -448,  131,  135,   93, -349],\n",
       "       [-326, -174, -299,  124, -188,  -29, -388, -292,  -92, -161]])"
      ]
     },
     "execution_count": 81,
     "metadata": {},
     "output_type": "execute_result"
    }
   ],
   "source": [
    "np.matmul(n, z)"
   ]
  },
  {
   "cell_type": "code",
   "execution_count": 82,
   "id": "f4299915",
   "metadata": {},
   "outputs": [
    {
     "name": "stdout",
     "output_type": "stream",
     "text": [
      "Matrix product 47\n"
     ]
    }
   ],
   "source": [
    "###Please note, that for higher dimension arrays using numpy.matmult is more preferable\n",
    "\n",
    "a = np.array([-1, 5, 1, 4, 6])\n",
    "b = np.array([0, 8, -3, 4, -1])\n",
    "product = np.matmul(a, b) # also can be written as a @ b\n",
    "print(\"Matrix product\", product)"
   ]
  },
  {
   "cell_type": "code",
   "execution_count": 83,
   "id": "6fa6e359",
   "metadata": {},
   "outputs": [
    {
     "data": {
      "text/plain": [
       "-15"
      ]
     },
     "execution_count": 83,
     "metadata": {},
     "output_type": "execute_result"
    }
   ],
   "source": [
    "a = np.array([[3, 1, -2], [1, 1, 4]])\n",
    "b = np.array([[0, 2, -3], [2, 1, 0], [1, 1, 1]])\n",
    "c = np.array([[4, 1, -2], [2, 0, 0], [-4, 0, -1]])\n",
    "d = np.array([[2, -1], [0, -5], [-1, 0]])\n",
    "\n",
    "sumbc = b + c\n",
    "product1 = np.dot(a, sumbc)\n",
    "product2 = np.dot(sumbc, d)\n",
    "\n",
    "np.sum(product2)\n"
   ]
  },
  {
   "cell_type": "code",
   "execution_count": 84,
   "id": "b4a35c4a",
   "metadata": {},
   "outputs": [
    {
     "name": "stdout",
     "output_type": "stream",
     "text": [
      "[[-4.0000000e+00]\n",
      " [ 1.0658141e-14]\n",
      " [-3.0000000e+00]\n",
      " [ 2.0000000e+00]]\n"
     ]
    }
   ],
   "source": [
    "a = np.array([[1, 5, -2, 1], [3, 16, -3, 11], [0, 0, 6, 10], [-5, -25, 10, -1]])\n",
    "b = np.array([[4], [19], [2], [-12]])\n",
    "inv = np.linalg.inv(a)\n",
    "x = np.dot(inv, b)\n",
    "print(x)"
   ]
  },
  {
   "cell_type": "code",
   "execution_count": 85,
   "id": "55e0a990",
   "metadata": {},
   "outputs": [
    {
     "name": "stdout",
     "output_type": "stream",
     "text": [
      "[[ 0.23529412]\n",
      " [-0.35294118]\n",
      " [ 1.35294118]]\n"
     ]
    }
   ],
   "source": [
    "a = np.array([[1, -2, 3], [-3, 0, 2], [1, -1, 4]])\n",
    "b = np.array([[5], [2], [6]])\n",
    "inv = np.linalg.inv(a)\n",
    "x = np.dot(inv, b)\n",
    "print(x)"
   ]
  },
  {
   "cell_type": "code",
   "execution_count": 86,
   "id": "b11a642e",
   "metadata": {},
   "outputs": [
    {
     "data": {
      "text/plain": [
       "0.23529411764705882"
      ]
     },
     "execution_count": 86,
     "metadata": {},
     "output_type": "execute_result"
    }
   ],
   "source": [
    "4/17"
   ]
  },
  {
   "cell_type": "code",
   "execution_count": 87,
   "id": "591ceb83",
   "metadata": {},
   "outputs": [
    {
     "data": {
      "text/plain": [
       "-0.35294117647058826"
      ]
     },
     "execution_count": 87,
     "metadata": {},
     "output_type": "execute_result"
    }
   ],
   "source": [
    "-6/17"
   ]
  },
  {
   "cell_type": "code",
   "execution_count": 88,
   "id": "34e13a32",
   "metadata": {},
   "outputs": [
    {
     "data": {
      "text/plain": [
       "1.3529411764705883"
      ]
     },
     "execution_count": 88,
     "metadata": {},
     "output_type": "execute_result"
    }
   ],
   "source": [
    "23/17"
   ]
  },
  {
   "cell_type": "code",
   "execution_count": 89,
   "id": "e02163c0",
   "metadata": {},
   "outputs": [
    {
     "name": "stdout",
     "output_type": "stream",
     "text": [
      "[[ 1.375]\n",
      " [-0.5  ]]\n"
     ]
    }
   ],
   "source": [
    "a = np.array([[0, -2], [4, 7]])\n",
    "b = np.array([[1], [2]])\n",
    "inv = np.linalg.inv(a)\n",
    "x = np.dot(inv, b)\n",
    "print(x)"
   ]
  },
  {
   "cell_type": "code",
   "execution_count": 90,
   "id": "a3383e2f",
   "metadata": {},
   "outputs": [
    {
     "data": {
      "text/plain": [
       "1.375"
      ]
     },
     "execution_count": 90,
     "metadata": {},
     "output_type": "execute_result"
    }
   ],
   "source": [
    "11/8"
   ]
  },
  {
   "cell_type": "code",
   "execution_count": 100,
   "id": "1b47d072",
   "metadata": {},
   "outputs": [
    {
     "name": "stdout",
     "output_type": "stream",
     "text": [
      "[[ 3  5 -1]\n",
      " [-4  1  2]\n",
      " [ 0  1  0]]\n"
     ]
    }
   ],
   "source": [
    "a = np.array([[3, 5, -1], [-4, 1, 2], [0, 1, 0]])\n",
    "\n",
    "inv = np.linalg.inv(a)\n",
    "\n",
    "print(a)"
   ]
  },
  {
   "cell_type": "code",
   "execution_count": 156,
   "id": "f11da330",
   "metadata": {},
   "outputs": [
    {
     "name": "stdout",
     "output_type": "stream",
     "text": [
      "[[1 0 0 0]\n",
      " [0 1 0 0]\n",
      " [0 0 1 0]\n",
      " [0 0 0 1]]\n"
     ]
    }
   ],
   "source": [
    "a = np.array([[1, 1, 1, 1], [-2, 3, 2, 1], [0, 1, 1, 1], [1, 3, 1, -2]])\n",
    "b = np.array([[1, 0, -1, 0], [7, 3, -12, -1], [-12, -5, 21, 2], [5, 2, -8, -1]])\n",
    "inv = np.linalg.inv(a)\n",
    "\n",
    "#print(inv)\n",
    "x = np.dot(a, inv)\n",
    "d = np.dot(a, b)\n",
    "\n",
    "print(d)"
   ]
  },
  {
   "cell_type": "code",
   "execution_count": 149,
   "id": "ef862abc",
   "metadata": {},
   "outputs": [
    {
     "name": "stdout",
     "output_type": "stream",
     "text": [
      "[[  1.    0.5  -5.5]\n",
      " [  0.    0.    1. ]\n",
      " [  2.    1.5 -11.5]]\n"
     ]
    }
   ],
   "source": [
    "a = np.array([[1, 0.5, -5.5], [4/23, 0, 0], [2, 1.5, -11.5]])\n",
    "b = np.array([[3, 5, -1], [-4, 1, 2], [0, 1, 0]])\n",
    "inv = np.linalg.inv(b)\n",
    "x = np.dot(a, inv)\n",
    "print(inv)"
   ]
  },
  {
   "cell_type": "code",
   "execution_count": 104,
   "id": "d29072b9",
   "metadata": {},
   "outputs": [
    {
     "name": "stdout",
     "output_type": "stream",
     "text": [
      "[[ 1.5]\n",
      " [-2.5]\n",
      " [ 0.5]]\n"
     ]
    }
   ],
   "source": [
    "a = np.array([[1, 1, 0], [2, 1, 1], [-1, 0, 1]])\n",
    "b = np.array([[-1], [1], [-1]])\n",
    "inv = np.linalg.inv(a)\n",
    "x = np.dot(inv, b)\n",
    "print(x)"
   ]
  },
  {
   "cell_type": "code",
   "execution_count": 146,
   "id": "a9ff8c52",
   "metadata": {},
   "outputs": [
    {
     "data": {
      "text/plain": [
       "array([[  6,  30,  15,  -6],\n",
       "       [ 12,  60,  30, -12],\n",
       "       [ 18,  90,  45, -18],\n",
       "       [ -6, -30, -15,   6]])"
      ]
     },
     "execution_count": 146,
     "metadata": {},
     "output_type": "execute_result"
    }
   ],
   "source": [
    "B = np.array([[1, 3, 1, 0], [1, 0, -1, 2], [0, 0, 1, 2], [-1, 1, 0, 1]])\n",
    "C = np.array([[1, 2, 3, -1]])\n",
    "\n",
    "BT = np.transpose (B)\n",
    "\n",
    "CT = np.transpose (C)\n",
    "\n",
    "x = np.dot(CT, C)\n",
    "x\n",
    "y = np.dot(BT, B)\n",
    "y\n",
    "z = np.dot(x, y)\n",
    "z"
   ]
  },
  {
   "cell_type": "code",
   "execution_count": 124,
   "id": "23209cc1",
   "metadata": {},
   "outputs": [
    {
     "data": {
      "text/plain": [
       "array([[ 1.        ,  0.        ,  0.        ],\n",
       "       [-0.16666667,  1.        ,  0.        ],\n",
       "       [ 0.5       , -0.27272727,  1.        ]])"
      ]
     },
     "execution_count": 124,
     "metadata": {},
     "output_type": "execute_result"
    }
   ],
   "source": [
    "B = np.array([[-3, 4, 0], [1, -3, 2], [-6, 7, 1]])\n",
    "# PLU\n",
    "\n",
    "P, L, U = lu(B)\n",
    "\n",
    "# outputs true\n",
    "\n",
    "np.allclose(np.dot(np.dot(P, L), U), B)\n",
    "\n",
    "P, L, U"
   ]
  }
 ],
 "metadata": {
  "kernelspec": {
   "display_name": "Python 3 (ipykernel)",
   "language": "python",
   "name": "python3"
  },
  "language_info": {
   "codemirror_mode": {
    "name": "ipython",
    "version": 3
   },
   "file_extension": ".py",
   "mimetype": "text/x-python",
   "name": "python",
   "nbconvert_exporter": "python",
   "pygments_lexer": "ipython3",
   "version": "3.9.7"
  }
 },
 "nbformat": 4,
 "nbformat_minor": 5
}
