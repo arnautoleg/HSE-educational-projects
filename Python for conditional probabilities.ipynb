{
 "cells": [
  {
   "cell_type": "code",
   "execution_count": 5,
   "id": "b3d5337f",
   "metadata": {},
   "outputs": [
    {
     "data": {
      "text/plain": [
       "0.9921875"
      ]
     },
     "execution_count": 5,
     "metadata": {},
     "output_type": "execute_result"
    }
   ],
   "source": [
    "1 - (1/2)**7\n"
   ]
  },
  {
   "cell_type": "code",
   "execution_count": 6,
   "id": "4ddf1087",
   "metadata": {},
   "outputs": [
    {
     "data": {
      "text/plain": [
       "0.20634920634920637"
      ]
     },
     "execution_count": 6,
     "metadata": {},
     "output_type": "execute_result"
    }
   ],
   "source": [
    "5/9*4/8*4/7+4/9*3/8*2/7"
   ]
  },
  {
   "cell_type": "code",
   "execution_count": 10,
   "id": "4c378899",
   "metadata": {},
   "outputs": [
    {
     "data": {
      "text/plain": [
       "0.1746031746031746"
      ]
     },
     "execution_count": 10,
     "metadata": {},
     "output_type": "execute_result"
    }
   ],
   "source": [
    "44/(84*3)\n",
    "11/63\n"
   ]
  },
  {
   "cell_type": "code",
   "execution_count": 12,
   "id": "4aa74ffc",
   "metadata": {},
   "outputs": [
    {
     "data": {
      "text/plain": [
       "0.20634920634920634"
      ]
     },
     "execution_count": 12,
     "metadata": {},
     "output_type": "execute_result"
    }
   ],
   "source": [
    "13/63"
   ]
  },
  {
   "cell_type": "code",
   "execution_count": 1,
   "id": "05cc4e9d",
   "metadata": {},
   "outputs": [
    {
     "data": {
      "text/plain": [
       "0.4444444444444445"
      ]
     },
     "execution_count": 1,
     "metadata": {},
     "output_type": "execute_result"
    }
   ],
   "source": [
    "5/9*4/8*4/7 + 5/9*4/8*3/7 + 4/9*5/8*3/7 + 4/9*3/8*2/7"
   ]
  },
  {
   "cell_type": "code",
   "execution_count": 2,
   "id": "766cdb4f",
   "metadata": {},
   "outputs": [
    {
     "data": {
      "text/plain": [
       "0.4444444444444444"
      ]
     },
     "execution_count": 2,
     "metadata": {},
     "output_type": "execute_result"
    }
   ],
   "source": [
    "4/9"
   ]
  },
  {
   "cell_type": "code",
   "execution_count": 3,
   "id": "cf96334e",
   "metadata": {},
   "outputs": [
    {
     "data": {
      "text/plain": [
       "0.20634920634920637"
      ]
     },
     "execution_count": 3,
     "metadata": {},
     "output_type": "execute_result"
    }
   ],
   "source": [
    "5/9*4/8*4/7 + 4/9*3/8*2/7"
   ]
  },
  {
   "cell_type": "code",
   "execution_count": 6,
   "id": "e0005f1c",
   "metadata": {},
   "outputs": [
    {
     "data": {
      "text/plain": [
       "0.4642857142857143"
      ]
     },
     "execution_count": 6,
     "metadata": {},
     "output_type": "execute_result"
    }
   ],
   "source": [
    "13/28"
   ]
  },
  {
   "cell_type": "code",
   "execution_count": 7,
   "id": "e9c046ee",
   "metadata": {},
   "outputs": [
    {
     "data": {
      "text/plain": [
       "504"
      ]
     },
     "execution_count": 7,
     "metadata": {},
     "output_type": "execute_result"
    }
   ],
   "source": [
    "9*8*7\n"
   ]
  },
  {
   "cell_type": "code",
   "execution_count": 9,
   "id": "4ea1fadf",
   "metadata": {},
   "outputs": [
    {
     "data": {
      "text/plain": [
       "0.4642857142857143"
      ]
     },
     "execution_count": 9,
     "metadata": {},
     "output_type": "execute_result"
    }
   ],
   "source": [
    "(104/504)/(4/9)"
   ]
  },
  {
   "cell_type": "code",
   "execution_count": 21,
   "id": "34f71bf1",
   "metadata": {},
   "outputs": [
    {
     "data": {
      "text/plain": [
       "0.029700000000000004"
      ]
     },
     "execution_count": 21,
     "metadata": {},
     "output_type": "execute_result"
    }
   ],
   "source": [
    "0.01*0.99 + 0.99*0.02"
   ]
  },
  {
   "cell_type": "code",
   "execution_count": 22,
   "id": "a5b41e26",
   "metadata": {},
   "outputs": [
    {
     "data": {
      "text/plain": [
       "0.6666666666666666"
      ]
     },
     "execution_count": 22,
     "metadata": {},
     "output_type": "execute_result"
    }
   ],
   "source": [
    "0.02*0.99/(0.01*0.99 + 0.99*0.02)"
   ]
  },
  {
   "cell_type": "code",
   "execution_count": 14,
   "id": "4d893d49",
   "metadata": {},
   "outputs": [
    {
     "data": {
      "text/plain": [
       "0.04763948497854077"
      ]
     },
     "execution_count": 14,
     "metadata": {},
     "output_type": "execute_result"
    }
   ],
   "source": [
    "0.001*0.999/(0.001*0.99 + 0.02*0.999)"
   ]
  },
  {
   "cell_type": "code",
   "execution_count": null,
   "id": "c6ebc435",
   "metadata": {},
   "outputs": [],
   "source": [
    "0.001*0.999 + 0.02*0.98"
   ]
  },
  {
   "cell_type": "code",
   "execution_count": 20,
   "id": "a8132e8c",
   "metadata": {},
   "outputs": [
    {
     "data": {
      "text/plain": [
       "0.6904761904761905"
      ]
     },
     "execution_count": 20,
     "metadata": {},
     "output_type": "execute_result"
    }
   ],
   "source": [
    "29/84"
   ]
  },
  {
   "cell_type": "code",
   "execution_count": 25,
   "id": "b29e61f1",
   "metadata": {},
   "outputs": [
    {
     "data": {
      "text/plain": [
       "0.47368421052631576"
      ]
     },
     "execution_count": 25,
     "metadata": {},
     "output_type": "execute_result"
    }
   ],
   "source": [
    "9/19"
   ]
  },
  {
   "cell_type": "code",
   "execution_count": 30,
   "id": "ad910656",
   "metadata": {},
   "outputs": [],
   "source": [
    "from itertools import product"
   ]
  },
  {
   "cell_type": "code",
   "execution_count": 31,
   "id": "e0217719",
   "metadata": {},
   "outputs": [
    {
     "data": {
      "text/plain": [
       "[(1, 'a'), (1, 'b'), (1, 'c'), (2, 'a'), (2, 'b'), (2, 'c')]"
      ]
     },
     "execution_count": 31,
     "metadata": {},
     "output_type": "execute_result"
    }
   ],
   "source": [
    "list(product([1, 2], [\"a\", \"b\", \"c\"]))"
   ]
  },
  {
   "cell_type": "code",
   "execution_count": 34,
   "id": "f13cd7e7",
   "metadata": {},
   "outputs": [
    {
     "data": {
      "text/plain": [
       "{('H', 'H', 'H'),\n",
       " ('H', 'H', 'T'),\n",
       " ('H', 'T', 'H'),\n",
       " ('H', 'T', 'T'),\n",
       " ('T', 'H', 'H'),\n",
       " ('T', 'H', 'T'),\n",
       " ('T', 'T', 'H'),\n",
       " ('T', 'T', 'T')}"
      ]
     },
     "execution_count": 34,
     "metadata": {},
     "output_type": "execute_result"
    }
   ],
   "source": [
    "n = 3 # number of coin tossing\n",
    "\n",
    "omega = set(product([\"H\", \"T\"], repeat = n))\n",
    "omega"
   ]
  },
  {
   "cell_type": "code",
   "execution_count": 35,
   "id": "1d13b1c4",
   "metadata": {},
   "outputs": [
    {
     "data": {
      "text/plain": [
       "8"
      ]
     },
     "execution_count": 35,
     "metadata": {},
     "output_type": "execute_result"
    }
   ],
   "source": [
    "len(omega)"
   ]
  },
  {
   "cell_type": "code",
   "execution_count": 40,
   "id": "67e439ca",
   "metadata": {},
   "outputs": [],
   "source": [
    "A = {om for om in omega if om[0] == \"T\"} # first tossing is tail\n",
    "B = {om for om in omega if om.count(\"T\") == 2} # number of tail is 2"
   ]
  },
  {
   "cell_type": "code",
   "execution_count": 42,
   "id": "27235a64",
   "metadata": {},
   "outputs": [],
   "source": [
    "def prob(X):\n",
    "    return len(X)/len(omega)"
   ]
  },
  {
   "cell_type": "code",
   "execution_count": 43,
   "id": "dfae7d85",
   "metadata": {},
   "outputs": [],
   "source": [
    "def cond_prob(X, Y):\n",
    "    return len(X & Y)/len(Y)"
   ]
  },
  {
   "cell_type": "code",
   "execution_count": 44,
   "id": "68ce695f",
   "metadata": {},
   "outputs": [
    {
     "data": {
      "text/plain": [
       "0.5"
      ]
     },
     "execution_count": 44,
     "metadata": {},
     "output_type": "execute_result"
    }
   ],
   "source": [
    "prob(A)"
   ]
  },
  {
   "cell_type": "code",
   "execution_count": 45,
   "id": "b6d7fc59",
   "metadata": {},
   "outputs": [
    {
     "data": {
      "text/plain": [
       "0.375"
      ]
     },
     "execution_count": 45,
     "metadata": {},
     "output_type": "execute_result"
    }
   ],
   "source": [
    "prob(B)"
   ]
  },
  {
   "cell_type": "code",
   "execution_count": 46,
   "id": "58db0b48",
   "metadata": {},
   "outputs": [
    {
     "data": {
      "text/plain": [
       "0.6666666666666666"
      ]
     },
     "execution_count": 46,
     "metadata": {},
     "output_type": "execute_result"
    }
   ],
   "source": [
    "cond_prob(A, B)"
   ]
  },
  {
   "cell_type": "code",
   "execution_count": 47,
   "id": "35a20e75",
   "metadata": {},
   "outputs": [
    {
     "data": {
      "text/plain": [
       "0.25"
      ]
     },
     "execution_count": 47,
     "metadata": {},
     "output_type": "execute_result"
    }
   ],
   "source": [
    "prob (A & B) # intersection"
   ]
  },
  {
   "cell_type": "code",
   "execution_count": 48,
   "id": "f659dea8",
   "metadata": {},
   "outputs": [
    {
     "data": {
      "text/plain": [
       "0.1875"
      ]
     },
     "execution_count": 48,
     "metadata": {},
     "output_type": "execute_result"
    }
   ],
   "source": [
    "prob (A) * prob(B)"
   ]
  },
  {
   "cell_type": "code",
   "execution_count": 49,
   "id": "078d9af6",
   "metadata": {},
   "outputs": [],
   "source": [
    "def are_indep(X, Y):\n",
    "    return prob(X & Y) == prob(X) * prob(Y)"
   ]
  },
  {
   "cell_type": "code",
   "execution_count": 50,
   "id": "0258c647",
   "metadata": {},
   "outputs": [
    {
     "data": {
      "text/plain": [
       "False"
      ]
     },
     "execution_count": 50,
     "metadata": {},
     "output_type": "execute_result"
    }
   ],
   "source": [
    "are_indep(A, B)"
   ]
  },
  {
   "cell_type": "code",
   "execution_count": 51,
   "id": "e5c3fea0",
   "metadata": {},
   "outputs": [],
   "source": [
    "C = {om for om in omega if om[1] == \"H\"}"
   ]
  },
  {
   "cell_type": "code",
   "execution_count": 52,
   "id": "db63febd",
   "metadata": {},
   "outputs": [
    {
     "data": {
      "text/plain": [
       "True"
      ]
     },
     "execution_count": 52,
     "metadata": {},
     "output_type": "execute_result"
    }
   ],
   "source": [
    "are_indep(A, C)"
   ]
  },
  {
   "cell_type": "markdown",
   "id": "866dade6",
   "metadata": {},
   "source": [
    "# Python skill test\n"
   ]
  },
  {
   "cell_type": "code",
   "execution_count": null,
   "id": "c255ffd2",
   "metadata": {},
   "outputs": [],
   "source": [
    "#A fair coin is tossed 20 times. \n",
    "#Consider events A: number of heads is even and B: less than 4 tails occurred. \n",
    "#Use Python to find P(A∣B). Enter answer with 5 digits after decimal point.  "
   ]
  },
  {
   "cell_type": "code",
   "execution_count": 56,
   "id": "6fb4ebb1",
   "metadata": {},
   "outputs": [
    {
     "data": {
      "text/plain": [
       "1048576"
      ]
     },
     "execution_count": 56,
     "metadata": {},
     "output_type": "execute_result"
    }
   ],
   "source": [
    "n = 20 # number of coin tossing\n",
    "\n",
    "omega = set(product([\"H\", \"T\"], repeat = n))\n",
    "\n",
    "len(omega)"
   ]
  },
  {
   "cell_type": "code",
   "execution_count": 57,
   "id": "dfefb2b8",
   "metadata": {},
   "outputs": [
    {
     "data": {
      "text/plain": [
       "524288"
      ]
     },
     "execution_count": 57,
     "metadata": {},
     "output_type": "execute_result"
    }
   ],
   "source": [
    "A = {om for om in omega if om.count(\"H\")%2 == 0}\n",
    "len(A)"
   ]
  },
  {
   "cell_type": "code",
   "execution_count": 58,
   "id": "1764ab55",
   "metadata": {},
   "outputs": [
    {
     "data": {
      "text/plain": [
       "1351"
      ]
     },
     "execution_count": 58,
     "metadata": {},
     "output_type": "execute_result"
    }
   ],
   "source": [
    "B = {om for om in omega if om.count(\"T\") < 4}\n",
    "len(B)"
   ]
  },
  {
   "cell_type": "code",
   "execution_count": 59,
   "id": "dd443823",
   "metadata": {},
   "outputs": [
    {
     "data": {
      "text/plain": [
       "0.14137675795706883"
      ]
     },
     "execution_count": 59,
     "metadata": {},
     "output_type": "execute_result"
    }
   ],
   "source": [
    "len(A & B)/len(B) # intersection"
   ]
  },
  {
   "cell_type": "markdown",
   "id": "004a4d62",
   "metadata": {},
   "source": [
    "#A fair dice is rolled 5 times. Consider events \n",
    "#A: sum of all points is divisible by 3 \n",
    "#B: product of all points is larger than 500.\n",
    "#For example, if the result of rolling is (5, 3, 2, 6, 3), \n",
    "#then event A did not occur (because 5+3+2+6+3=19), \n",
    "#not divisible by 3) and event B occurred (because 5×3×2×6×3=540>500). \n",
    "#Use Python to find P(B∣A). Enter answer with 3 digits after decimal point."
   ]
  },
  {
   "cell_type": "code",
   "execution_count": 62,
   "id": "9b957511",
   "metadata": {},
   "outputs": [
    {
     "data": {
      "text/plain": [
       "7776"
      ]
     },
     "execution_count": 62,
     "metadata": {},
     "output_type": "execute_result"
    }
   ],
   "source": [
    "n = 5 # number of dice rolling\n",
    "\n",
    "omega = set(product([1, 2, 3, 4, 5, 6], repeat = n))\n"
   ]
  },
  {
   "cell_type": "code",
   "execution_count": 64,
   "id": "76df02f5",
   "metadata": {},
   "outputs": [
    {
     "data": {
      "text/plain": [
       "2592"
      ]
     },
     "execution_count": 64,
     "metadata": {},
     "output_type": "execute_result"
    }
   ],
   "source": [
    "A = {om for om in omega if sum(om)%3 == 0}\n",
    "len(A)"
   ]
  },
  {
   "cell_type": "code",
   "execution_count": 65,
   "id": "43bc6502",
   "metadata": {},
   "outputs": [
    {
     "data": {
      "text/plain": [
       "2383"
      ]
     },
     "execution_count": 65,
     "metadata": {},
     "output_type": "execute_result"
    }
   ],
   "source": [
    "import numpy\n",
    "B = {om for om in omega if numpy.prod(om) > 500}\n",
    "len(B)"
   ]
  },
  {
   "cell_type": "code",
   "execution_count": 67,
   "id": "853be69c",
   "metadata": {},
   "outputs": [
    {
     "data": {
      "text/plain": [
       "0.30709876543209874"
      ]
     },
     "execution_count": 67,
     "metadata": {},
     "output_type": "execute_result"
    }
   ],
   "source": [
    "len(B & A)/len(A) # intersection"
   ]
  },
  {
   "cell_type": "code",
   "execution_count": 68,
   "id": "74a5e4fb",
   "metadata": {},
   "outputs": [
    {
     "data": {
      "text/plain": [
       "0.30709876543209874"
      ]
     },
     "execution_count": 68,
     "metadata": {},
     "output_type": "execute_result"
    }
   ],
   "source": [
    "cond_prob(B, A)"
   ]
  },
  {
   "cell_type": "code",
   "execution_count": 69,
   "id": "2bd809d2",
   "metadata": {},
   "outputs": [
    {
     "data": {
      "text/plain": [
       "0.7375"
      ]
     },
     "execution_count": 69,
     "metadata": {},
     "output_type": "execute_result"
    }
   ],
   "source": [
    "0.5*0.8 + 1/6*0.75 + 1/6*0.9 + 1/12*0.5 + 1/12*0.25"
   ]
  },
  {
   "cell_type": "code",
   "execution_count": 1,
   "id": "78c76233",
   "metadata": {},
   "outputs": [
    {
     "data": {
      "text/plain": [
       "46656"
      ]
     },
     "execution_count": 1,
     "metadata": {},
     "output_type": "execute_result"
    }
   ],
   "source": [
    "6*6*6*6*6*6"
   ]
  },
  {
   "cell_type": "code",
   "execution_count": 2,
   "id": "e1a8420e",
   "metadata": {},
   "outputs": [
    {
     "data": {
      "text/plain": [
       "720"
      ]
     },
     "execution_count": 2,
     "metadata": {},
     "output_type": "execute_result"
    }
   ],
   "source": [
    "6*5*4*3*2*1"
   ]
  },
  {
   "cell_type": "code",
   "execution_count": 3,
   "id": "95746a70",
   "metadata": {},
   "outputs": [
    {
     "data": {
      "text/plain": [
       "0.015432098765432098"
      ]
     },
     "execution_count": 3,
     "metadata": {},
     "output_type": "execute_result"
    }
   ],
   "source": [
    "720/46656"
   ]
  },
  {
   "cell_type": "code",
   "execution_count": 4,
   "id": "43ac355f",
   "metadata": {},
   "outputs": [
    {
     "data": {
      "text/plain": [
       "0.9845679012345679"
      ]
     },
     "execution_count": 4,
     "metadata": {},
     "output_type": "execute_result"
    }
   ],
   "source": [
    "(46656-720)/46656"
   ]
  },
  {
   "cell_type": "code",
   "execution_count": 5,
   "id": "2ab26c89",
   "metadata": {},
   "outputs": [
    {
     "data": {
      "text/plain": [
       "0.058641975308642125"
      ]
     },
     "execution_count": 5,
     "metadata": {},
     "output_type": "execute_result"
    }
   ],
   "source": [
    "0.9845679012345679*1 - 0.015432098765432098*60"
   ]
  }
 ],
 "metadata": {
  "kernelspec": {
   "display_name": "Python 3 (ipykernel)",
   "language": "python",
   "name": "python3"
  },
  "language_info": {
   "codemirror_mode": {
    "name": "ipython",
    "version": 3
   },
   "file_extension": ".py",
   "mimetype": "text/x-python",
   "name": "python",
   "nbconvert_exporter": "python",
   "pygments_lexer": "ipython3",
   "version": "3.9.7"
  }
 },
 "nbformat": 4,
 "nbformat_minor": 5
}
