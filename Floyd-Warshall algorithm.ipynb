{
 "cells": [
  {
   "cell_type": "code",
   "execution_count": 14,
   "id": "305fa89f",
   "metadata": {},
   "outputs": [],
   "source": [
    "def floyd_warshall(graph):\n",
    "    n = len(graph)\n",
    "    dist = [[graph[j][i] for i in range(n)] for j in range (n)]\n",
    "    #print(dist)\n",
    "    for k in range(n):\n",
    "        for j in range(n):\n",
    "            for i in range(n):\n",
    "                dist[i][j] = min(dist[i][j], dist[i][k] + dist[k][j])\n",
    "    \n",
    "    for i in range(n):\n",
    "        dist[i][i] = 0 \n",
    "    return dist"
   ]
  },
  {
   "cell_type": "code",
   "execution_count": 15,
   "id": "4115770d",
   "metadata": {},
   "outputs": [
    {
     "data": {
      "text/plain": [
       "[[0, 3, 2], [3, 0, 1], [2, 1, 0]]"
      ]
     },
     "execution_count": 15,
     "metadata": {},
     "output_type": "execute_result"
    }
   ],
   "source": [
    "weight_matrix = [[float('inf'), 5, 2], \n",
    "                 [5, float('inf'), 1], \n",
    "                 [2, 1, float('inf')]]\n",
    "\n",
    "floyd_warshall(weight_matrix)"
   ]
  },
  {
   "cell_type": "code",
   "execution_count": 36,
   "id": "21853b9a",
   "metadata": {},
   "outputs": [
    {
     "data": {
      "text/plain": [
       "(2, 1)"
      ]
     },
     "execution_count": 36,
     "metadata": {},
     "output_type": "execute_result"
    }
   ],
   "source": [
    "#Given an adjacency matrix of a directed graph with weights \n",
    "#of edges instead of 0 and 1 \n",
    "#(if there is no edge between the vertices that value is \n",
    "#replaced with float(\"inf\")), find the pair of vertices \n",
    "#with the minimum shortest path among all pairs of vertices. If there are several such pairs, output any of them.\n",
    "#If there is no such pair, output (-1, -1).\n",
    "\n",
    "from copy import deepcopy\n",
    "\n",
    "def closestPair(weight_matrix):\n",
    "    n = len(weight_matrix)\n",
    "    closest_pair = (-1, -1)\n",
    "  \n",
    "    dist = deepcopy(weight_matrix)\n",
    "    for k in range(n):\n",
    "        for j in range(n):\n",
    "            for i in range(n):\n",
    "                dist[i][j] = min(dist[i][j], dist[i][k] + dist[k][j])\n",
    "    \n",
    "    for i in range(n):\n",
    "        dist[i][i] = float('inf') \n",
    "    \n",
    "    minimum = min(min(dist))\n",
    "    #print(\"minimum = \", minimum)\n",
    "    for i in range(n):\n",
    "        for j in range(n):\n",
    "        #print(dist[i][j])\n",
    "            if dist[i][j] == minimum and i != j:\n",
    "                closest_pair = (i, j)\n",
    "    \n",
    "  # YOUR CODE GOES HERE\n",
    "  \n",
    "    return closest_pair\n",
    "\n",
    "weight_matrix = [[float('inf'), 5, 2], \n",
    "                 [5, float('inf'), 1], \n",
    "                 [2, 1, float('inf')]]\n",
    "\n",
    "closestPair(weight_matrix)\n",
    "\n",
    "weight_matrix = [[float('inf'), 5, 2], \n",
    "                 [5, float('inf'), 1], \n",
    "                 [2, 1, float('inf')]]\n",
    "\n",
    "closestPair(weight_matrix)"
   ]
  },
  {
   "cell_type": "code",
   "execution_count": 20,
   "id": "c8043e23",
   "metadata": {},
   "outputs": [
    {
     "data": {
      "text/plain": [
       "1"
      ]
     },
     "execution_count": 20,
     "metadata": {},
     "output_type": "execute_result"
    }
   ],
   "source": [
    "min(min([float('inf'), 5, 2], \n",
    "        [5, float('inf'), 1], \n",
    "        [2, 1, float('inf')]))"
   ]
  }
 ],
 "metadata": {
  "kernelspec": {
   "display_name": "Python 3 (ipykernel)",
   "language": "python",
   "name": "python3"
  },
  "language_info": {
   "codemirror_mode": {
    "name": "ipython",
    "version": 3
   },
   "file_extension": ".py",
   "mimetype": "text/x-python",
   "name": "python",
   "nbconvert_exporter": "python",
   "pygments_lexer": "ipython3",
   "version": "3.9.7"
  }
 },
 "nbformat": 4,
 "nbformat_minor": 5
}
