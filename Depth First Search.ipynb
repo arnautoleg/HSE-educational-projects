{
 "cells": [
  {
   "cell_type": "markdown",
   "id": "8f543cc3",
   "metadata": {},
   "source": [
    "Depth First Search (graph traversal):\n",
    "- recursive\n",
    "- mark visited -> check neighbors -> not visited -> do the same thing"
   ]
  },
  {
   "cell_type": "markdown",
   "id": "d703d538",
   "metadata": {},
   "source": [
    "# DFS implementation\n"
   ]
  },
  {
   "cell_type": "code",
   "execution_count": null,
   "id": "993c84dd",
   "metadata": {},
   "outputs": [],
   "source": [
    "def dfs(v):\n",
    "    visited[v] = True\n",
    "    print(\"Visited vertice V!\") # visit vertice\n",
    "    for u in graph[v]:\n",
    "        if not visited[u]:\n",
    "            dfs(u)\n",
    "    print(\"Finished exploring vertice V!\") # leave vertice"
   ]
  },
  {
   "cell_type": "markdown",
   "id": "4a0576f9",
   "metadata": {},
   "source": [
    "# DFS applications"
   ]
  },
  {
   "cell_type": "code",
   "execution_count": null,
   "id": "15b73082",
   "metadata": {},
   "outputs": [],
   "source": [
    "- Component search\n",
    "- Topological sorting"
   ]
  },
  {
   "cell_type": "markdown",
   "id": "1a3d2c11",
   "metadata": {},
   "source": [
    "# Component search implementation"
   ]
  },
  {
   "cell_type": "code",
   "execution_count": 13,
   "id": "3424a586",
   "metadata": {},
   "outputs": [],
   "source": [
    "def dfs(v):\n",
    "    visited[v] = True\n",
    "    #print(\"Visited vertice V!\") # visit vertice\n",
    "    for u in graph[v]:\n",
    "        if not visited[u]:\n",
    "            dfs(u)\n",
    "    #print(\"Finished exploring vertice V!\") # leave vertice"
   ]
  },
  {
   "cell_type": "markdown",
   "id": "c860f059",
   "metadata": {},
   "source": [
    "'''\n",
    "\n",
    "    (0)<----------------->(1)\n",
    "    /|\\\n",
    "     |\n",
    "     |\n",
    "     |\n",
    "     |\n",
    "     |\n",
    "    \\|/\n",
    "    (2)                   (3)\n",
    "    \n",
    "    (4)<----------------->(5)\n",
    "\n",
    "\n",
    "'''"
   ]
  },
  {
   "cell_type": "code",
   "execution_count": 14,
   "id": "8776ce46",
   "metadata": {},
   "outputs": [],
   "source": [
    "graph = [[1, 2], [0], [0], [], [5], [4]]"
   ]
  },
  {
   "cell_type": "code",
   "execution_count": 16,
   "id": "73adb488",
   "metadata": {},
   "outputs": [
    {
     "name": "stdout",
     "output_type": "stream",
     "text": [
      "3\n"
     ]
    }
   ],
   "source": [
    "n = len(graph)\n",
    "components = 0\n",
    "visited = [False for i in range(n)]\n",
    "for v in range(n):\n",
    "    if not visited[v]:\n",
    "        components += 1\n",
    "        dfs(v)\n",
    "print(components)\n",
    "\n",
    "# Complexity O (V + i)"
   ]
  },
  {
   "cell_type": "markdown",
   "id": "0aca4c77",
   "metadata": {},
   "source": [
    "# Topsort implementation"
   ]
  },
  {
   "cell_type": "code",
   "execution_count": 21,
   "id": "3e24fa68",
   "metadata": {},
   "outputs": [],
   "source": [
    "def dfs(v):\n",
    "    visited[v] = True\n",
    "    #print(\"Visited vertice V!\") # visit vertice\n",
    "    for u in graph[v]:\n",
    "        if not visited[u]:\n",
    "            dfs(u)\n",
    "    order.append(v)\n",
    "    #print(\"Finished exploring vertice V!\") # leave vertice"
   ]
  },
  {
   "cell_type": "markdown",
   "id": "76aeeb3a",
   "metadata": {},
   "source": [
    "'''\n",
    "\n",
    "(0)------------------>(1)\n",
    "/|\\                   /|\\\n",
    " |                     |\n",
    " |                     |\n",
    " |                     |\n",
    " |                     |\n",
    " |                     |\n",
    "(2)<------------------(3)\n",
    "                       |\n",
    "                       |\n",
    "                       |\n",
    "                       |\n",
    "                       |\n",
    "                      \\|/\n",
    "(4)------------------>(5)\n",
    "'''"
   ]
  },
  {
   "cell_type": "code",
   "execution_count": 22,
   "id": "ab92f068",
   "metadata": {},
   "outputs": [],
   "source": [
    "graph = [[1], [], [0], [1, 2, 5], [5], []]"
   ]
  },
  {
   "cell_type": "code",
   "execution_count": 25,
   "id": "e0402688",
   "metadata": {},
   "outputs": [
    {
     "name": "stdout",
     "output_type": "stream",
     "text": [
      "[4, 3, 5, 2, 0, 1]\n"
     ]
    }
   ],
   "source": [
    "n = len(graph)\n",
    "visited = [False for i in range(n)]\n",
    "order = []\n",
    "for v in range(n):\n",
    "    if not visited[v]:\n",
    "        dfs(v)\n",
    "order = order[::-1]\n",
    "print(order)"
   ]
  },
  {
   "cell_type": "markdown",
   "id": "d5912f00",
   "metadata": {},
   "source": [
    "# Mastering the DFS algorithm"
   ]
  },
  {
   "cell_type": "code",
   "execution_count": null,
   "id": "8b84b127",
   "metadata": {},
   "outputs": [],
   "source": [
    "#1. Given an adjacency matrix for an undirected graph and a vertex, \n",
    "#modify the dfs algorithm to output the number of vertices in the same graph \n",
    "#component as the given one (counting the given one).\n",
    "#The function must work correctly when called several times, \n",
    "#e.g. don't use global variables or test it by calling more than once.\n",
    "\n",
    "adj_matrix = [[0, 1, 1], [1, 0, 0], [1, 0, 0]]\n",
    "vertex = 0\n",
    "# check that your code works correctly on provided example\n",
    "assert sameComponent(adj_matrix, vertex) == 3, 'Wrong answer'"
   ]
  },
  {
   "cell_type": "code",
   "execution_count": null,
   "id": "679eaf06",
   "metadata": {},
   "outputs": [],
   "source": [
    "graph = []\n",
    "visited = []\n",
    "\n",
    "\n",
    "def dfs(v):\n",
    "    # MODIFY THIS FUNCTION\n",
    "  \n",
    "    visited[v] = True\n",
    "    for u in graph[v]:\n",
    "        if not visited[u]:\n",
    "            dfs(u)\n",
    "\n",
    "\n",
    "def sameComponent(adj_list, vertex):\n",
    "    global graph, visited\n",
    "    graph = adj_list\n",
    "    n = len(graph)\n",
    "    visited = [False for i in range(n)]\n",
    "    vertex_count = 1\n",
    "  \n",
    "    #YOUR CODE GOES HERE\n",
    "  \n",
    "    return vertex_count\n",
    "\n",
    "adj_matrix = [[0, 1, 1], [1, 0, 0], [1, 0, 0]]\n",
    "vertex = 0\n",
    "\n",
    "\n",
    "  "
   ]
  }
 ],
 "metadata": {
  "kernelspec": {
   "display_name": "Python 3 (ipykernel)",
   "language": "python",
   "name": "python3"
  },
  "language_info": {
   "codemirror_mode": {
    "name": "ipython",
    "version": 3
   },
   "file_extension": ".py",
   "mimetype": "text/x-python",
   "name": "python",
   "nbconvert_exporter": "python",
   "pygments_lexer": "ipython3",
   "version": "3.9.7"
  }
 },
 "nbformat": 4,
 "nbformat_minor": 5
}
