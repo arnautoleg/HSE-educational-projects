{
 "cells": [
  {
   "cell_type": "markdown",
   "id": "08e453cb",
   "metadata": {},
   "source": [
    "Answer - 1:"
   ]
  },
  {
   "cell_type": "code",
   "execution_count": null,
   "id": "0e8de25e",
   "metadata": {},
   "outputs": [],
   "source": [
    "# This method calculates the Click Through Rate. number_of_clicks stores the Total Measures Clicks\n",
    "# and add_load_count stores the stores the number of times an add was loaded on a page.\n",
    "\n",
    "def clickThroughRate(number_of_clicks,add_load_count):\n",
    "    # input validation\n",
    "    if not(number_of_clicks.isdigit()) or not(add_load_count.isdigit()) or int(add_load_count)=='0':\n",
    "        return \"Invalid Input Entered. Please try again!!\"\n",
    "    else:\n",
    "        number_of_clicks=int(number_of_clicks)\n",
    "        add_load_count=int(add_load_count)\n",
    "        CTR=(number_of_clicks/add_load_count)*100\n",
    "        return \"Click Through Rate is \"+str(CTR)\n",
    "\n",
    "Number_Of_Clicks=input(\"Enter the total number of measured clicks\\n\")\n",
    "Add_Load_Count=input(\"Enter the total number of times the add was loaded on the page\\n\")\n",
    "print(clickThroughRate(Number_Of_Clicks,Add_Load_Count))"
   ]
  },
  {
   "cell_type": "code",
   "execution_count": 23,
   "id": "c866929b",
   "metadata": {},
   "outputs": [
    {
     "name": "stdout",
     "output_type": "stream",
     "text": [
      "Enter the total amount spent\n",
      "0\n",
      "Enter the total amount gained\n",
      "0\n",
      "Invalid Input Entered. Please try again!!\n"
     ]
    }
   ],
   "source": [
    "# This method calculates the Return on Investment. amount_spent is the amount spent \n",
    "# and amount_gained is the amount gained.\n",
    "\n",
    "def rateOfInvestment(amount_spent,amount_gained):\n",
    "    #input validation \n",
    "    if not(amount_spent.isdigit()) or not(amount_gained.isdigit()) or int(amount_spent)=='0':\n",
    "        return \"Invalid Input Entered. Please try again!!\"\n",
    "    else:\n",
    "        amount_spent=int(amount_spent)\n",
    "        amount_gained=int(amount_gained)\n",
    "        ROI=((amount_gained-amount_spent)/amount_spent)*100\n",
    "        return \"Return On Investment is \"+str(ROI)\n",
    "Amount_Spent=input(\"Enter the total amount spent\\n\")\n",
    "Amount_Gained=input(\"Enter the total amount gained\\n\")\n",
    "print(rateOfInvestment(Amount_Spent,Amount_Gained))"
   ]
  },
  {
   "cell_type": "code",
   "execution_count": 32,
   "id": "655fcc5c",
   "metadata": {},
   "outputs": [
    {
     "name": "stdout",
     "output_type": "stream",
     "text": [
      "Enter the number of users\n",
      "5\n",
      "Enter space separated time intervals\n",
      "4 4 4 4 4\n",
      "No users with valid input found. Please try again!!\n"
     ]
    }
   ],
   "source": [
    "# This method calculates the Average Page Time. \n",
    "# timeSpent is an array storing the time spent by different users in seconds.\n",
    "\n",
    "def averagePageTime(timeSpent):\n",
    "    totalTimeSpent=0\n",
    "    totalUsers=0\n",
    "    for i in range(len(timeSpent)):\n",
    "        if timeSpent[i].isdigit() and int(timeSpent[i])>=5:\n",
    "            totalTimeSpent+=int(timeSpent[i])\n",
    "            totalUsers+=1\n",
    "    if totalUsers==0:\n",
    "        return \"No users with valid input found. Please try again!!\"\n",
    "    else:\n",
    "        avgTimeSpent=totalTimeSpent/totalUsers\n",
    "        return \"The Average time spent is \"+str(avgTimeSpent)\n",
    "n=int(input(\"Enter the number of users\\n\"))\n",
    "arr=list(map(str,input(\"Enter space separated time intervals\\n\").split(\" \")))\n",
    "print(averagePageTime(arr))    "
   ]
  },
  {
   "cell_type": "code",
   "execution_count": 36,
   "id": "09222042",
   "metadata": {},
   "outputs": [
    {
     "name": "stdout",
     "output_type": "stream",
     "text": [
      "Enter the average purchase value\n",
      "10\n",
      "Enter the average purchase frequency\n",
      "5\n",
      "Enter the average customer lifespan\n",
      "8\n",
      "Customer Lifetime Value is 40\n"
     ]
    }
   ],
   "source": [
    "# This method calculates the Customer Lifetime Value. avg_purchase_val is the average amount spent,\n",
    "# avg_purchase_freq is the average frequency of purchase and avg_customer_lifespan is the average customer lifespan \n",
    "\n",
    "def averageCustomerLifetimeValue(avg_purchase_val,avg_purchase_freq,avg_customer_lifespan):\n",
    "    #input validation \n",
    "    if not(avg_purchase_val.isdigit()) or not(avg_purchase_freq.isdigit()) or not(avg_customer_lifespan.isdigit()):\n",
    "        return \"Invalid Input Entered. Please try again!!\"\n",
    "    else:\n",
    "        avg_purchase_val=int(avg_purchase_val)\n",
    "        avg_purchase_freq=int(avg_purchase_freq)\n",
    "        avg_customer_lifespan=int(avg_customer_lifespan)\n",
    "        CLV=((avg_purchase_val-avg_purchase_freq)*avg_customer_lifespan)\n",
    "        return \"Customer Lifetime Value is \"+str(CLV)\n",
    "Average_Purchase_Value=input(\"Enter the average purchase value\\n\")\n",
    "Average_Purchase_Freq=input(\"Enter the average purchase frequency\\n\")\n",
    "Average_Customer_Lifespan=input(\"Enter the average customer lifespan\\n\")\n",
    "print(averageCustomerLifetimeValue(Average_Purchase_Value,Average_Purchase_Freq,Average_Customer_Lifespan))"
   ]
  },
  {
   "cell_type": "code",
   "execution_count": 40,
   "id": "eb8a5f10",
   "metadata": {},
   "outputs": [
    {
     "name": "stdout",
     "output_type": "stream",
     "text": [
      "Enter the number of conversions recorded\n",
      "0\n",
      "Enter the total number of times an add was clicked\n",
      "0\n",
      "Invalid Input Entered. Please try again!!\n"
     ]
    }
   ],
   "source": [
    "# This method calculates the Conversion Rate. attributed_conversion is the total amount of conversions,\n",
    "# total_clicks is the total number of times an add is clicked \n",
    "\n",
    "def averageCustomerLifetimeValue(attributed_conversion,total_clicks):\n",
    "    #input validation \n",
    "    if not(attributed_conversion.isdigit()) or not(total_clicks.isdigit()) or int(total_clicks)==0:\n",
    "        return \"Invalid Input Entered. Please try again!!\"\n",
    "    else:\n",
    "        attributed_conversion=int(attributed_conversion)\n",
    "        total_clicks=int(total_clicks)\n",
    "        CR=(attributed_conversion/total_clicks)*100\n",
    "        return \"Customer Rate is \"+str(CR)\n",
    "Attributed_Conversion=input(\"Enter the number of conversions recorded\\n\")\n",
    "Total_Clicks=input(\"Enter the total number of times an add was clicked\\n\")\n",
    "print(averageCustomerLifetimeValue(Attributed_Conversion,Total_Clicks))"
   ]
  },
  {
   "cell_type": "markdown",
   "id": "3ac55cc0",
   "metadata": {},
   "source": [
    "Answer - 2:\n",
    "\n",
    "Revenue is defined as the total value generated by any firm. It depends upon a number of factors such as Active Customer Count, Order Count and Average Revenue per order.\n",
    "Revenue = Active Customer Count * Order Count * Average Revenue per Order  "
   ]
  },
  {
   "cell_type": "code",
   "execution_count": 41,
   "id": "f8ff0b50",
   "metadata": {},
   "outputs": [
    {
     "name": "stdout",
     "output_type": "stream",
     "text": [
      "Enter the total number of customers who made an order\n",
      "100\n",
      "Enter the total number of orders\n",
      "20\n",
      "Enter the taverae revenue generated per order\n",
      "4\n",
      "The Total Revenue generated is 8000\n"
     ]
    }
   ],
   "source": [
    "# This method calculates the Total Revenue. customer_count is the active customer count,\n",
    "# order_count is the total orders placed and revenue_per_order is the average revenue generated per order.\n",
    "\n",
    "def totalRevenue(customer_count,order_count,revenue_per_order):\n",
    "    #input validation \n",
    "    if not(customer_count.isdigit()) or not(order_count.isdigit()) or not(revenue_per_order.isdigit()):\n",
    "        return \"Invalid Input Entered. Please try again!!\"\n",
    "    else:\n",
    "        customer_count=int(customer_count)\n",
    "        order_count=int(order_count)\n",
    "        revenue_per_order=int(revenue_per_order)\n",
    "        Revenue=(customer_count*order_count*revenue_per_order)\n",
    "        return \"The Total Revenue generated is \"+str(Revenue)\n",
    "Customer_Count=input(\"Enter the total number of customers who placed an order\\n\")\n",
    "Order_Count=input(\"Enter the total number of orders\\n\")\n",
    "Revenue_Per_Order=input(\"Enter the taverae revenue generated per order\\n\")\n",
    "print(totalRevenue(Customer_Count,Order_Count,Revenue_Per_Order))"
   ]
  },
  {
   "cell_type": "markdown",
   "id": "3c060bdd",
   "metadata": {},
   "source": [
    "Cost Per Acquisition:\n",
    "CPA is how much you spend to get one new customer. To calculate CPA, gather both marketing expense sheets and sales data to measure your CPA.  It is then calculated by dividing your marketing spend (Campaign Cost) by the number of customers acquired (conversion).\n"
   ]
  },
  {
   "cell_type": "code",
   "execution_count": 44,
   "id": "a76c76bd",
   "metadata": {},
   "outputs": [
    {
     "name": "stdout",
     "output_type": "stream",
     "text": [
      "Enter the total marketing spend\n",
      "1\n",
      "Enter the total number of cstomers acquired\n",
      "100\n",
      "The cost per acquisition is  0.01\n"
     ]
    }
   ],
   "source": [
    "# This method calculates the Cost Per Acquisition. marketing_spend is the amount spend to acquire new customers\n",
    "# customers_acquired is the total number of customers acquired.\n",
    "\n",
    "def costPerAcquisition(marketing_spend,customers_acquired):\n",
    "    #input validation \n",
    "    if not(marketing_spend.isdigit()) or not(customers_acquired.isdigit()) or int(customers_acquired)==0:\n",
    "        return \"Invalid Input Entered. Please try again!!\"\n",
    "    else:\n",
    "        marketing_spend=int(marketing_spend)\n",
    "        customers_acquired=int(customers_acquired)\n",
    "        CPA=marketing_spend/customers_acquired\n",
    "        return \"The cost per acquisition is  \"+str(CPA)\n",
    "Marketing_Spend=input(\"Enter the total marketing spend\\n\")\n",
    "Customers_Acquired=input(\"Enter the total number of cstomers acquired\\n\")\n",
    "print(costPerAcquisition(Marketing_Spend,Customers_Acquired))"
   ]
  },
  {
   "cell_type": "markdown",
   "id": "153499f9",
   "metadata": {},
   "source": [
    "Cost Per Lead:\n",
    "Cost per lead measures the dollar amount of each new lead by campaign, channel, or overall spending. This sales and marketing metric helps users create better goals, track ROI, and adjust budgets accordingly. Budgets related to CPL include items such as paid ad placements and social media monitoring platforms. "
   ]
  },
  {
   "cell_type": "code",
   "execution_count": 47,
   "id": "1013e9b6",
   "metadata": {},
   "outputs": [
    {
     "name": "stdout",
     "output_type": "stream",
     "text": [
      "Enter the total marketing spend\n",
      "100\n",
      "Enter the total number of cstomers acquired\n",
      "500\n",
      "The cost per lead is  0.2\n"
     ]
    }
   ],
   "source": [
    "# This method calculates the Cost Per Lead. marketing_spend is the amount spend to acquire new customers\n",
    "# leads_acquired is the total number of leads acquired.\n",
    "\n",
    "def costPerLead(marketing_spend,leads_acquired):\n",
    "    #input validation \n",
    "    if not(marketing_spend.isdigit()) or not(leads_acquired.isdigit()) or int(leads_acquired)==0:\n",
    "        return \"Invalid Input Entered. Please try again!!\"\n",
    "    else:\n",
    "        marketing_spend=int(marketing_spend)\n",
    "        leads_acquired=int(leads_acquired)\n",
    "        CPL=marketing_spend/leads_acquired\n",
    "        return \"The cost per lead is  \"+str(CPL)\n",
    "Marketing_Spend=input(\"Enter the total marketing spend\\n\")\n",
    "Leads_Acquired=input(\"Enter the total number of cstomers acquired\\n\")\n",
    "print(costPerLead(Marketing_Spend,Leads_Acquired))"
   ]
  },
  {
   "cell_type": "code",
   "execution_count": null,
   "id": "a7ade12a",
   "metadata": {},
   "outputs": [],
   "source": []
  }
 ],
 "metadata": {
  "kernelspec": {
   "display_name": "Python 3",
   "language": "python",
   "name": "python3"
  },
  "language_info": {
   "codemirror_mode": {
    "name": "ipython",
    "version": 3
   },
   "file_extension": ".py",
   "mimetype": "text/x-python",
   "name": "python",
   "nbconvert_exporter": "python",
   "pygments_lexer": "ipython3",
   "version": "3.8.8"
  }
 },
 "nbformat": 4,
 "nbformat_minor": 5
}
