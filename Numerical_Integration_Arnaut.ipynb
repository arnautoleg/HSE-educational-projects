{
 "cells": [
  {
   "cell_type": "markdown",
   "metadata": {},
   "source": [
    "# Numerical Integration\n",
    "\n",
    "As we discussed during the week, differentiation is the technical and always manageable task. In the same time calculation of the definite integral by the **fundamental theorem of calculus** requires _integrability in elementary functions_ (which is not guaranteed at all).\n",
    "\n",
    "Thus the closest one can get to the estimation of such integral is **numerical approximation**.\n",
    "\n",
    "We propose you to try yourself in this task following our instructions.\n",
    "\n",
    "## Quick refresher\n",
    "\n",
    "Assume that we have some nice smooth function $f(x)$ on a segment $[a,b]$.\n",
    "\n",
    "To compute definite integral, one should consider tagged partition of the segment:\n",
    "$$\n",
    "a=x_0<x_1<x_2<\\ldots<x_n=b\n",
    "$$\n",
    "with tagging $t_i \\in [x_{i-1}, x_i]$. We assume uniform grid:\n",
    "$$\n",
    "x_i-x_{i-1}=h\n",
    "$$\n",
    "Then Riemann sum is an approximation of the integral:\n",
    "$$\n",
    "R(t, h)=\\sum_{i=1}^n f(t_i) (x_i-x_{i-1})=h \\sum_{i=1}^n f(t_i)\n",
    "$$\n",
    "\n",
    "![](pic12.png)\n",
    "\n",
    "### Task 1. Midpoint rule\n",
    "\n",
    "Let us start with basic imports: we start with `numpy` and `math` to work with arrays and mathematical functions (for `numpy` introduction and playground you can refer to the last week of our course or your Python course):"
   ]
  },
  {
   "cell_type": "code",
   "execution_count": 1,
   "metadata": {},
   "outputs": [],
   "source": [
    "import numpy as np\n",
    "from math import *"
   ]
  },
  {
   "cell_type": "markdown",
   "metadata": {},
   "source": [
    "Also we import and setup a couple of plotting libraries to make life prettier:"
   ]
  },
  {
   "cell_type": "code",
   "execution_count": 2,
   "metadata": {},
   "outputs": [],
   "source": [
    "import matplotlib.pyplot as plt\n",
    "import seaborn as sns\n",
    "sns.set()\n",
    "sns.set_context(\"notebook\", font_scale=2.0, rc={\"lines.linewidth\": 4.0})\n",
    "sns.set_palette('cubehelix')\n",
    "\n",
    "%matplotlib inline"
   ]
  },
  {
   "cell_type": "markdown",
   "metadata": {},
   "source": [
    "Now we ask you to implement midpoint rule:\n",
    "\n",
    "![](pic13.png)\n",
    "\n",
    "In other words: \n",
    "$$\n",
    "t_i=\\frac{x_{i-1}+x_i}{2}\n",
    "$$\n",
    "$$\n",
    "\\int_a^b f(x)dx \\approx \\frac{b-a}{n}\\sum_{i=1}^n f\\left( \\frac{x_{i-1}+x_i}{2} \\right) \n",
    "$$\n",
    "\n",
    "Write the function\n",
    "```\n",
    "def middle(f, a, b, n):\n",
    "```\n",
    "that takes as an input function `f` and returns the Riemann sum by midpoint rule:"
   ]
  },
  {
   "cell_type": "code",
   "execution_count": 3,
   "metadata": {},
   "outputs": [],
   "source": [
    "def middle(f, a, b, n):\n",
    "    # your code goes here\n",
    "    h=(b-a)/n\n",
    "    f_sum=0\n",
    "    for i in range(n):\n",
    "        x=(a+h/2.0)+i*h\n",
    "        f_sum+=f(x)\n",
    "    return h*f_sum"
   ]
  },
  {
   "cell_type": "markdown",
   "metadata": {},
   "source": [
    "Run the following cell to get automatic basic check of your function (do not change it!):"
   ]
  },
  {
   "cell_type": "code",
   "execution_count": 4,
   "metadata": {},
   "outputs": [
    {
     "name": "stdout",
     "output_type": "stream",
     "text": [
      "Test 1  |::|  err= 1.00783358958e-05   |::|   time= 3.7670135498046875e-05 s\n",
      "Test 1  |::|  accuracy OK\n",
      "Test 2  |::|  err= 0.000801769309934   |::|   time= 5.269050598144531e-05 s\n",
      "Test 2  |::|  accuracy OK\n",
      "Test 3  |::|  err= 2.49909183792e-06   |::|   time= 8.440017700195312e-05 s\n",
      "Test 3  |::|  accuracy OK\n",
      "Passed:  3 /3\n"
     ]
    }
   ],
   "source": [
    "import checker\n",
    "checker.exact_checker(middle)"
   ]
  },
  {
   "cell_type": "markdown",
   "metadata": {},
   "source": [
    "### Task 2. Plot the result\n",
    "\n",
    "Let us also plot a nice picture here. Consider $f(x)=\\cos(x)$, $[a,b]=[0, \\pi/2]$ and $n=10$. Plot the functions, midpoints, and corresponding reactangles (it is useful to use command `plt.bar`). You should get something like this: \n",
    "\n",
    "![](res.png)"
   ]
  },
  {
   "cell_type": "code",
   "execution_count": 5,
   "metadata": {},
   "outputs": [
    {
     "data": {
      "image/png": "[encoded data removed]",
      "text/plain": [
       "<Figure size 576x576 with 1 Axes>"
      ]
     },
     "metadata": {},
     "output_type": "display_data"
    }
   ],
   "source": [
    "f=lambda x: cos(x)\n",
    "a=0\n",
    "b=np.pi/2\n",
    "n=10\n",
    "\n",
    "plt.figure(figsize=(8,8))\n",
    "h=(b-a)/(n-1)\n",
    "x=[]\n",
    "y=[]\n",
    "for i in range(n):\n",
    "    x.append(a+h*i)\n",
    "    y.append(f(x[i]))\n",
    "plt.plot(x,y,color='blue')\n",
    "plt.bar(x,y,width=0.15,color='grey')\n",
    "for i in range(n-1):\n",
    "    x=a+h*i\n",
    "    y=f(x)\n",
    "    plt.plot(x,y,'.r',ms=15)\n",
    "\n"
   ]
  },
  {
   "cell_type": "markdown",
   "metadata": {},
   "source": [
    "### Task 3. Trapezoidal rule\n",
    "\n",
    "The idea here is easily formulated by the picture:\n",
    "![](pic11.png)\n",
    "We approximate each segment with trapezoidal area:\n",
    "$$\n",
    "\\int_a^b f(x)dx=\\frac{b-a}{n}\\sum_{i=1}^{n} \\frac{f(x_{i-1})+f(x_i)}{2}=\\frac{b-a}{n}\\left(\\frac{f(a)+f(b)}{2}+\\sum_{i=1}^{n-1} f(x_i)\\right)\n",
    "$$\n",
    "(basically we use the formula for the area of trapezoidal polygon $S=h\\cdot(x+y)/2$ where $h$ is the height of the figure and $x$ and $y$ are lengths of parallel sides).\n",
    "\n",
    "Write the implementation of the formula:"
   ]
  },
  {
   "cell_type": "code",
   "execution_count": 6,
   "metadata": {},
   "outputs": [],
   "source": [
    "def trapezoidal(f, a, b, n):\n",
    "    # your code goes here\n",
    "    h=(b-a)/n\n",
    "    f_sum=0\n",
    "    for i in range(1,n):\n",
    "        x=a+i*h\n",
    "        f_sum+=f(x)\n",
    "    I=h*(0.5*f(a)+f_sum+0.5*f(b))\n",
    "    return I"
   ]
  },
  {
   "cell_type": "markdown",
   "metadata": {},
   "source": [
    "Run the following cell to get automatic basic check of your function (do not change it!):"
   ]
  },
  {
   "cell_type": "code",
   "execution_count": 7,
   "metadata": {},
   "outputs": [
    {
     "name": "stdout",
     "output_type": "stream",
     "text": [
      "Test 1  |::|  err= 2.01566108483e-05   |::|   time= 3.7670135498046875e-05 s\n",
      "Test 1  |::|  accuracy OK\n",
      "Test 2  |::|  err= 0.00140986862456   |::|   time= 4.76837158203125e-05 s\n",
      "Test 2  |::|  accuracy OK\n",
      "Test 3  |::|  err= 4.75384852727e-06   |::|   time= 7.963180541992188e-05 s\n",
      "Test 3  |::|  accuracy OK\n",
      "Passed:  3 /3\n"
     ]
    }
   ],
   "source": [
    "checker.exact_checker(trapezoidal)"
   ]
  },
  {
   "cell_type": "markdown",
   "metadata": {},
   "source": [
    "### Task 4. Simpson's rule\n",
    "\n",
    "To proceed with the Simpson's rule, we need to improve on the general idea of Riemann sum approximation. Assume the restriction of the function on a segement $[x_{i-1}, x_i]$: instead of using the definition, one could try to approximate given function by one simpler and easier to integrate. \n",
    "\n",
    "Simpson's rule uses approximation by the parabolic function per each segment. In order to it, one needs **three** points -- e.g., $f(x_i)$, $f(x_{i+1}$ and $f\\left(\\frac{x_{i}+x_{i+1}}{2} \\right)$ (the general function is described by $ax^2+bx+c$ with three parameters; following linear algebra's _Rank theorem_, one would need at least three linarly independent equations to find those parameters).\n",
    "![](pic14.png)\n",
    "Then approximation can be written as follows:\n",
    "$$\n",
    "\\int_a^b f(x)dx=\\frac{b-a}{3n}\\left(\\sum_{i=1}^{[n/2]} f(x_{2i-2})+4f(x_{2i-1})+f(x_{2i})\\right)\n",
    "$$\n",
    "\n",
    "Write the implementation of the formula. \n",
    "\n",
    "**Note**: the commulitive formula will work for odd $n$ only, that's fine! (It doesn't mean that in the even case Simpson's rule is inadequate; it is just unpleasant to implement)."
   ]
  },
  {
   "cell_type": "code",
   "execution_count": 8,
   "metadata": {},
   "outputs": [],
   "source": [
    "def simpson(f, a, b, n):\n",
    "    #your code goes here\n",
    "    h=(b-a)/n\n",
    "    x=np.arange(a,b,h)\n",
    "    f_int1=sum([f(x[i]) for i in range(1,len(x)) if i%2==0])\n",
    "    f_int2=sum([f(x[i]) for i in range(1,len(x)) if i%2!=0])\n",
    "    I=(h/3)*(f(a)+2*f_int1+4*f_int2+f(b))\n",
    "    return I"
   ]
  },
  {
   "cell_type": "markdown",
   "metadata": {},
   "source": [
    "Run the following cell to get automatic basic check of your function (do not change it!):"
   ]
  },
  {
   "cell_type": "code",
   "execution_count": 9,
   "metadata": {},
   "outputs": [
    {
     "name": "stdout",
     "output_type": "stream",
     "text": [
      "Test 1  |::|  err= 4.03135467346e-05   |::|   time= 0.00010180473327636719 s\n",
      "Test 1  |::|  accuracy OK\n",
      "Test 2  |::|  err= 0.0249319648528   |::|   time= 0.000102996826171875 s\n",
      "Test 2  |::|  accuracy OK\n",
      "Test 3  |::|  err= 0.000126250623902   |::|   time= 0.0002148151397705078 s\n",
      "Test 3  |::|  accuracy OK\n",
      "Passed:  3 /3\n"
     ]
    }
   ],
   "source": [
    "checker.exact_checker(simpson)"
   ]
  },
  {
   "cell_type": "markdown",
   "metadata": {},
   "source": [
    "## Error estimations\n",
    "\n",
    "Using **Taylor expansion** of the integrand function, one can establish following estimates of the global errors of the numerical methods.\n",
    "\n",
    "| **Method** |  &nbsp; &nbsp; &nbsp; &nbsp; &nbsp; &nbsp; &nbsp; &nbsp; &nbsp; &nbsp; &nbsp; &nbsp; &nbsp; &nbsp; &nbsp;&nbsp; &nbsp; &nbsp; &nbsp; &nbsp; &nbsp;  **Formula**   &nbsp; &nbsp; &nbsp; &nbsp; &nbsp; &nbsp; &nbsp; &nbsp; &nbsp; &nbsp; &nbsp; &nbsp; &nbsp; &nbsp; &nbsp;&nbsp; &nbsp; &nbsp; &nbsp; &nbsp; &nbsp;        | **Error**  |&nbsp; &nbsp; &nbsp; &nbsp;&nbsp; &nbsp; &nbsp; &nbsp; &nbsp; &nbsp;     **Constant**    &nbsp; &nbsp; &nbsp; &nbsp;&nbsp; &nbsp; &nbsp; &nbsp; &nbsp; &nbsp;  |\n",
    "|---|:--------------------------:|---|---------|\n",
    "| _Middle Point_  | $\\frac{b-a}{n}\\sum_{i=1}^n f\\left( \\frac{x_{i-1}+x_i}{2} \\right) $  |  $\\frac{(b-a)^3}{12n^2}C$  | $\\max_{[a,b]} |f^{(2)}(x)|$ |\n",
    "| _Trapezoidal_  | $\\frac{b-a}{n}\\left(\\frac{f(a)+f(b)}{2}+\\sum_{i=1}^{n-1} f(x_i)\\right)$ | $\\frac{(b-a)^3}{12n^2}C$  | $\\max_{[a,b]} |f^{(2)}(x)|$ |\n",
    "| _Simpson's rule_  | $\\frac{b-a}{3n}\\left(\\sum_{i=1}^{[n/2]} f(x_{2i-2})+4f(x_{2i-1})+f(x_{2i})\\right)$ | $\\frac{(b-a)^5}{180n^4}C $  | $\\max_{[a,b]} |f^{(4)}(x)|$  |\n",
    "\n",
    "Let us check this formula in terms of adequacy for both included derivative and order of the $n$.\n",
    "\n",
    "### Task 5. Error and the derivative\n",
    "\n",
    "Assume $[a,b]=[0,1]$ and $n=100$. Consider the function $f(x)=e^{ax}$ with varying $a$.\n",
    "1. Compute exact value of the integral $\\int_0^1 e^{ax} dx$ analytically (variable `exact`)\n",
    "2. Compute and plot errors for **trapezoidal rule** with respect to $a$:"
   ]
  },
  {
   "cell_type": "code",
   "execution_count": 10,
   "metadata": {},
   "outputs": [
    {
     "data": {
      "text/plain": [
       "[<matplotlib.lines.Line2D at 0x7f5b5e713d68>]"
      ]
     },
     "execution_count": 10,
     "metadata": {},
     "output_type": "execute_result"
    },
    {
     "data": {
      "image/png": "[encoded data removed]",
      "text/plain": [
       "<Figure size 576x576 with 1 Axes>"
      ]
     },
     "metadata": {},
     "output_type": "display_data"
    }
   ],
   "source": [
    "import math\n",
    "coefs=[0.1, 0.2, 0.5, 0.75, 1.0, 2.0, 3.0]\n",
    "errs=[]\n",
    "\n",
    "for a in coefs:\n",
    "    #your code goes here\n",
    "    f=lambda x: (math.exp(a*x))\n",
    "    exact=(math.exp(a)-1)/a\n",
    "    I=trapezoidal(f,0,1,100)\n",
    "    err=exact-I\n",
    "    errs.append(abs(err))\n",
    "    \n",
    "plt.figure(figsize=(8,8))\n",
    "#your code goes here\n",
    "plt.plot(coefs,errs)"
   ]
  },
  {
   "cell_type": "markdown",
   "metadata": {},
   "source": [
    "### Task 6. Error and number of steps\n",
    "\n",
    "Assume $[a,b]=[0,\\pi/2]$. Consider the function $f(x)=\\sin{x}$.\n",
    "1. Compute exact value of the integral $\\int_0^{\\pi/2} \\sin{x} dx$ analytically (variable `exact`)\n",
    "2. Compute and plot errors for different values of $n$ for **all three methods**:"
   ]
  },
  {
   "cell_type": "code",
   "execution_count": 15,
   "metadata": {},
   "outputs": [
    {
     "data": {
      "image/png": "[encoded data removed]",
      "text/plain": [
       "<Figure size 432x288 with 1 Axes>"
      ]
     },
     "metadata": {},
     "output_type": "display_data"
    }
   ],
   "source": [
    "ns=[10, 50, 100, 500, 1000, 5000, 10000]\n",
    "errs_mp=[]\n",
    "errs_trap=[]\n",
    "errs_simp=[]\n",
    "a=0\n",
    "b=(math.pi)/2\n",
    "#your code goes here\n",
    "exact=1\n",
    "\n",
    "for n in ns:\n",
    "    f=lambda x: sin(x)\n",
    "    errs_mp.append(abs(middle(f,a,b,n)-exact))\n",
    "    errs_trap.append(abs(trapezoidal(f,a,b,n)-exact))\n",
    "    errs_simp.append(abs(simpson(f,a,b,n)-exact))\n",
    "\n",
    "    \n",
    "fig, ax=plt.subplots()\n",
    "#your code goes here\n",
    "#please, use loglog scale!\n",
    "\n",
    "plt.plot(ns,errs_trap,color=\"red\")\n",
    "plt.plot(ns,errs_simp,color=\"green\")\n",
    "plt.plot(ns,errs_mp)\n",
    "ax.set_xscale('log')\n",
    "ax.set_yscale('log')\n",
    "plt.show()"
   ]
  },
  {
   "cell_type": "markdown",
   "metadata": {},
   "source": [
    "## Task 7. Results\n",
    "\n",
    "Answer following questions in the field below:\n",
    "1. By comparing three method which one is best to use for the function $x^x$?\n",
    "2. Does estimations of error for $e^{ax}$ coincide with theoretical upper boundary per $a$? If not, where is the problem?\n",
    "3. Does estimations of error for $\\sin {x}$ coincide with theoretical upper boundary per $n$? If not, where is the problem?"
   ]
  },
  {
   "cell_type": "markdown",
   "metadata": {},
   "source": [
    "1. We can say that Simpsons method will be more suitable for f(x)=x^x when x->0 i.e x approaches 0. When x approaches infinity, results will be almost equal.\n",
    "\n",
    "2. When a in [0;1], we can say that the estimated error doesn't coincide with the theoretical. In the same time when a>1, the estimated error approaches the theoretical one.\n",
    "\n",
    "3. When we approach n to infinity, we get smaller and smaller intervals and more proximity to the original curve. So, as value of n increases, the value of error decreases. But when n approaches 0, the value of errors increases at the same time."
   ]
  }
 ],
 "metadata": {
  "kernelspec": {
   "display_name": "Python 3",
   "language": "python",
   "name": "python3"
  },
  "language_info": {
   "codemirror_mode": {
    "name": "ipython",
    "version": 3
   },
   "file_extension": ".py",
   "mimetype": "text/x-python",
   "name": "python",
   "nbconvert_exporter": "python",
   "pygments_lexer": "ipython3",
   "version": "3.8.8"
  }
 },
 "nbformat": 4,
 "nbformat_minor": 4
}
