{
 "cells": [
  {
   "cell_type": "markdown",
   "metadata": {},
   "source": [
    "# Numerical Integration\n",
    "\n",
    "As we discussed during the week, differentiation is the technical and always manageable task. In the same time calculation of the definite integral by the **fundamental theorem of calculus** requires _integrability in elementary functions_ (which is not guaranteed at all).\n",
    "\n",
    "Thus the closest one can get to the estimation of such integral is **numerical approximation**.\n",
    "\n",
    "We propose you to try yourself in this task following our instructions.\n",
    "\n",
    "## Quick refresher\n",
    "\n",
    "Assume that we have some nice smooth function $f(x)$ on a segment $[a,b]$.\n",
    "\n",
    "To compute definite integral, one should consider tagged partition of the segment:\n",
    "$$\n",
    "a=x_0<x_1<x_2<\\ldots<x_n=b\n",
    "$$\n",
    "with tagging $t_i \\in [x_{i-1}, x_i]$. We assume uniform grid:\n",
    "$$\n",
    "x_i-x_{i-1}=h\n",
    "$$\n",
    "Then Riemann sum is an approximation of the integral:\n",
    "$$\n",
    "R(t, h)=\\sum_{i=1}^n f(t_i) (x_i-x_{i-1})=h \\sum_{i=1}^n f(t_i)\n",
    "$$\n",
    "\n",
    "![](pic12.png)\n",
    "\n",
    "### Task 1. Midpoint rule\n",
    "\n",
    "Let us start with basic imports: we start with `numpy` and `math` to work with arrays and mathematical functions (for `numpy` introduction and playground you can refer to the last week of our course or your Python course):"
   ]
  },
  {
   "cell_type": "code",
   "execution_count": 1,
   "metadata": {},
   "outputs": [],
   "source": [
    "import numpy as np\n",
    "from math import *"
   ]
  },
  {
   "cell_type": "markdown",
   "metadata": {},
   "source": [
    "Also we import and setup a couple of plotting libraries to make life prettier:"
   ]
  },
  {
   "cell_type": "code",
   "execution_count": 2,
   "metadata": {},
   "outputs": [],
   "source": [
    "import matplotlib.pyplot as plt\n",
    "import seaborn as sns\n",
    "sns.set()\n",
    "sns.set_context(\"notebook\", font_scale=2.0, rc={\"lines.linewidth\": 4.0})\n",
    "sns.set_palette('cubehelix')\n",
    "\n",
    "%matplotlib inline"
   ]
  },
  {
   "cell_type": "markdown",
   "metadata": {},
   "source": [
    "Now we ask you to implement midpoint rule:\n",
    "\n",
    "![](pic13.png)\n",
    "\n",
    "In other words: \n",
    "$$\n",
    "t_i=\\frac{x_{i-1}+x_i}{2}\n",
    "$$\n",
    "$$\n",
    "\\int_a^b f(x)dx \\approx \\frac{b-a}{n}\\sum_{i=1}^n f\\left( \\frac{x_{i-1}+x_i}{2} \\right) \n",
    "$$\n",
    "\n",
    "Write the function\n",
    "```\n",
    "def middle(f, a, b, n):\n",
    "```\n",
    "that takes as an input function `f` and returns the Riemann sum by midpoint rule:"
   ]
  },
  {
   "cell_type": "code",
   "execution_count": 3,
   "metadata": {},
   "outputs": [],
   "source": [
    "def middle(f, a, b, n):\n",
    "    x = np.linspace(a,b,n)\n",
    "    result = 0\n",
    "    for i in range(1, n):\n",
    "        result += f((x[i-1]+x[i])/2)\n",
    "    result *= (b-a)/n\n",
    "    return result"
   ]
  },
  {
   "cell_type": "markdown",
   "metadata": {},
   "source": [
    "Run the following cell to get automatic basic check of your function (do not change it!):"
   ]
  },
  {
   "cell_type": "code",
   "execution_count": 4,
   "metadata": {},
   "outputs": [
    {
     "name": "stdout",
     "output_type": "stream",
     "text": [
      "Test 1  |::|  err= 0.00989081097831   |::|   time= 0.0001418590545654297 s\n",
      "Test 1  |::|  accuracy OK\n",
      "Test 2  |::|  err= 0.0272581948775   |::|   time= 0.00012874603271484375 s\n",
      "Test 2  |::|  accuracy OK\n",
      "Test 3  |::|  err= 0.00877441808446   |::|   time= 0.000232696533203125 s\n",
      "Test 3  |::|  accuracy OK\n",
      "Passed:  3 /3\n"
     ]
    }
   ],
   "source": [
    "import checker\n",
    "checker.exact_checker(middle)"
   ]
  },
  {
   "cell_type": "markdown",
   "metadata": {},
   "source": [
    "### Task 2. Plot the result\n",
    "\n",
    "Let us also plot a nice picture here. Consider $f(x)=\\cos(x)$, $[a,b]=[0, \\pi/2]$ and $n=10$. Plot the functions, midpoints, and corresponding reactangles (it is useful to use command `plt.bar`). You should get something like this: \n",
    "\n",
    "![](res.png)"
   ]
  },
  {
   "cell_type": "code",
   "execution_count": 5,
   "metadata": {},
   "outputs": [
    {
     "data": {
      "image/png": "[encoded data removed]",
      "text/plain": [
       "<Figure size 576x576 with 1 Axes>"
      ]
     },
     "metadata": {},
     "output_type": "display_data"
    }
   ],
   "source": [
    "f=lambda x: cos(x)\n",
    "a=0\n",
    "b=np.pi/2\n",
    "n=10\n",
    "\n",
    "plt.figure(figsize=(8,8))\n",
    "\n",
    "x = np.linspace(a,b,n)\n",
    "i_x = []\n",
    "i_y = []\n",
    "f_x = np.linspace(a,b,n)\n",
    "f_y = [f(i) for i in f_x]\n",
    "b_w = []\n",
    "for i in range(1, n):\n",
    "    t = (x[i-1]+x[i])/2\n",
    "    i_x.append(t)\n",
    "    i_y.append(f(t))\n",
    "    b_w.append(abs(x[i-1]-x[i]))\n",
    "    \n",
    "b_x = i_x\n",
    "b_y = i_y\n",
    "\n",
    "plt.bar(b_x,b_y, b_w)\n",
    "plt.plot(f_x,f_y, color=\"blue\")\n",
    "plt.scatter(i_x, i_y, color=\"red\",s=100)\n",
    "\n",
    "plt.show()"
   ]
  },
  {
   "cell_type": "markdown",
   "metadata": {},
   "source": [
    "### Task 3. Trapezoidal rule\n",
    "\n",
    "The idea here is easily formulated by the picture:\n",
    "![](pic11.png)\n",
    "We approximate each segment with trapezoidal area:\n",
    "$$\n",
    "\\int_a^b f(x)dx=\\frac{b-a}{n}\\sum_{i=1}^{n} \\frac{f(x_{i-1})+f(x_i)}{2}=\\frac{b-a}{n}\\left(\\frac{f(a)+f(b)}{2}+\\sum_{i=1}^{n-1} f(x_i)\\right)\n",
    "$$\n",
    "(basically we use the formula for the area of trapezoidal polygon $S=h\\cdot(x+y)/2$ where $h$ is the height of the figure and $x$ and $y$ are lengths of parallel sides).\n",
    "\n",
    "Write the implementation of the formula:"
   ]
  },
  {
   "cell_type": "code",
   "execution_count": 6,
   "metadata": {},
   "outputs": [],
   "source": [
    "def trapezoidal(f, a, b, n):\n",
    "    x = np.linspace(a,b,n)\n",
    "    np.delete(x,0)\n",
    "    x = np.delete(x,len(x)-1)\n",
    "    y = [f(i) for i in x]\n",
    "    result_sum = sum(y)\n",
    "    result = ((f(a) + f(b))/2 + result_sum)*(b-a)/n\n",
    "    return result"
   ]
  },
  {
   "cell_type": "markdown",
   "metadata": {},
   "source": [
    "Run the following cell to get automatic basic check of your function (do not change it!):"
   ]
  },
  {
   "cell_type": "code",
   "execution_count": 7,
   "metadata": {},
   "outputs": [
    {
     "name": "stdout",
     "output_type": "stream",
     "text": [
      "Test 1  |::|  err= 0.00563109060154   |::|   time= 0.0002624988555908203 s\n",
      "Test 1  |::|  accuracy OK\n",
      "Test 2  |::|  err= 0.00684254375989   |::|   time= 0.0001442432403564453 s\n",
      "Test 2  |::|  accuracy OK\n",
      "Test 3  |::|  err= 0.00841721695735   |::|   time= 0.00020885467529296875 s\n",
      "Test 3  |::|  accuracy OK\n",
      "Passed:  3 /3\n"
     ]
    }
   ],
   "source": [
    "checker.exact_checker(trapezoidal)"
   ]
  },
  {
   "cell_type": "markdown",
   "metadata": {},
   "source": [
    "### Task 4. Simpson's rule\n",
    "\n",
    "To proceed with the Simpson's rule, we need to improve on the general idea of Riemann sum approximation. Assume the restriction of the function on a segement $[x_{i-1}, x_i]$: instead of using the definition, one could try to approximate given function by one simpler and easier to integrate. \n",
    "\n",
    "Simpson's rule uses approximation by the parabolic function per each segment. In order to it, one needs **three** points -- e.g., $f(x_i)$, $f(x_{i+1}$ and $f\\left(\\frac{x_{i}+x_{i+1}}{2} \\right)$ (the general function is described by $ax^2+bx+c$ with three parameters; following linear algebra's _Rank theorem_, one would need at least three linarly independent equations to find those parameters).\n",
    "![](pic14.png)\n",
    "Then approximation can be written as follows:\n",
    "$$\n",
    "\\int_a^b f(x)dx=\\frac{b-a}{3n}\\left(\\sum_{i=1}^{[n/2]} f(x_{2i-2})+4f(x_{2i-1})+f(x_{2i})\\right)\n",
    "$$\n",
    "\n",
    "Write the implementation of the formula. \n",
    "\n",
    "**Note**: the commulitive formula will work for odd $n$ only, that's fine! (It doesn't mean that in the even case Simpson's rule is inadequate; it is just unpleasant to implement)."
   ]
  },
  {
   "cell_type": "code",
   "execution_count": 36,
   "metadata": {},
   "outputs": [],
   "source": [
    "def simpson(f, a, b, n):\n",
    "    x = np.linspace(a,b,n)\n",
    "    result = 0\n",
    "    for i in range(1, math.ceil(n/2)):\n",
    "        result += f(x[2*(i)-2]) + 4*f(x[2*(i)-1]) + f(x[2*(i)])\n",
    "    result *= (b-a)/(3*n)\n",
    "    return result"
   ]
  },
  {
   "cell_type": "markdown",
   "metadata": {},
   "source": [
    "Run the following cell to get automatic basic check of your function (do not change it!):"
   ]
  },
  {
   "cell_type": "code",
   "execution_count": 33,
   "metadata": {},
   "outputs": [
    {
     "name": "stdout",
     "output_type": "stream",
     "text": [
      "101\n",
      "Test 1  |::|  err= 0.00990098976412   |::|   time= 0.0005841255187988281 s\n",
      "Test 1  |::|  accuracy OK\n",
      "101\n",
      "Test 2  |::|  err= 0.0270297359383   |::|   time= 0.00029349327087402344 s\n",
      "Test 2  |::|  accuracy OK\n",
      "201\n",
      "Test 3  |::|  err= 0.00877684903246   |::|   time= 0.0005230903625488281 s\n",
      "Test 3  |::|  accuracy OK\n",
      "Passed:  3 /3\n"
     ]
    }
   ],
   "source": [
    "checker.exact_checker(simpson)"
   ]
  },
  {
   "cell_type": "markdown",
   "metadata": {},
   "source": [
    "## Error estimations\n",
    "\n",
    "Using **Taylor expansion** of the integrand function, one can establish following estimates of the global errors of the numerical methods.\n",
    "\n",
    "| **Method** |  &nbsp; &nbsp; &nbsp; &nbsp; &nbsp; &nbsp; &nbsp; &nbsp; &nbsp; &nbsp; &nbsp; &nbsp; &nbsp; &nbsp; &nbsp;&nbsp; &nbsp; &nbsp; &nbsp; &nbsp; &nbsp;  **Formula**   &nbsp; &nbsp; &nbsp; &nbsp; &nbsp; &nbsp; &nbsp; &nbsp; &nbsp; &nbsp; &nbsp; &nbsp; &nbsp; &nbsp; &nbsp;&nbsp; &nbsp; &nbsp; &nbsp; &nbsp; &nbsp;        | **Error**  |&nbsp; &nbsp; &nbsp; &nbsp;&nbsp; &nbsp; &nbsp; &nbsp; &nbsp; &nbsp;     **Constant**    &nbsp; &nbsp; &nbsp; &nbsp;&nbsp; &nbsp; &nbsp; &nbsp; &nbsp; &nbsp;  |\n",
    "|---|:--------------------------:|---|---------|\n",
    "| _Middle Point_  | $\\frac{b-a}{n}\\sum_{i=1}^n f\\left( \\frac{x_{i-1}+x_i}{2} \\right) $  |  $\\frac{(b-a)^3}{12n^2}C$  | $\\max_{[a,b]} |f^{(2)}(x)|$ |\n",
    "| _Trapezoidal_  | $\\frac{b-a}{n}\\left(\\frac{f(a)+f(b)}{2}+\\sum_{i=1}^{n-1} f(x_i)\\right)$ | $\\frac{(b-a)^3}{12n^2}C$  | $\\max_{[a,b]} |f^{(2)}(x)|$ |\n",
    "| _Simpson's rule_  | $\\frac{b-a}{3n}\\left(\\sum_{i=1}^{[n/2]} f(x_{2i-2})+4f(x_{2i-1})+f(x_{2i})\\right)$ | $\\frac{(b-a)^5}{180n^4}C $  | $\\max_{[a,b]} |f^{(4)}(x)|$  |\n",
    "\n",
    "Let us check this formula in terms of adequacy for both included derivative and order of the $n$.\n",
    "\n",
    "### Task 5. Error and the derivative\n",
    "\n",
    "Assume $[a,b]=[0,1]$ and $n=100$. Consider the function $f(x)=e^{ax}$ with varying $a$.\n",
    "1. Compute exact value of the integral $\\int_0^1 e^{ax} dx$ analytically (variable `exact`)\n",
    "2. Compute and plot errors for **trapezoidal rule** with respect to $a$:"
   ]
  },
  {
   "cell_type": "code",
   "execution_count": 51,
   "metadata": {},
   "outputs": [
    {
     "name": "stdout",
     "output_type": "stream",
     "text": [
      "[9.209757650630398e-07, 2.0356712636002832e-06, 6.8696719612505344e-06, 1.3231250103829217e-05, 2.2652348570492043e-05, 0.0001231509349821775, 0.0005021384230796917]\n"
     ]
    },
    {
     "data": {
      "text/plain": [
       "[<matplotlib.lines.Line2D at 0x7f30a4070a58>]"
      ]
     },
     "execution_count": 51,
     "metadata": {},
     "output_type": "execute_result"
    },
    {
     "data": {
      "image/png": "[encoded data removed]",
      "text/plain": [
       "<Figure size 576x576 with 1 Axes>"
      ]
     },
     "metadata": {},
     "output_type": "display_data"
    }
   ],
   "source": [
    "import math\n",
    "coefs=[0.1, 0.2, 0.5, 0.75, 1.0, 2.0, 3.0]\n",
    "errs=[]\n",
    "exact_errors = []\n",
    "b_I = 1\n",
    "a_I = 0\n",
    "f_second_derivative = lambda a,x : a*(math.e**(a*x))\n",
    "calculate_coef = lambda a, a_I, b_I: max(abs(f_second_derivative(a,a_I)),abs(f_second_derivative(a,b_I)))\n",
    "n=100\n",
    "for a in coefs:\n",
    "    #your code goes here\n",
    "    exact=(math.e**a-1)/a\n",
    "    f= lambda x: (math.e**(a*x))\n",
    "    I=trapezoidal(f, a_I, b_I, n)\n",
    "    err= abs(I - exact)\n",
    "    errs.append(err)\n",
    "    exact_error = (1)*calculate_coef(a,a_I,b_I)/(12*n*n)\n",
    "    exact_errors.append(exact_error)\n",
    "    \n",
    "plt.figure(figsize=(8,8))\n",
    "print(exact_errors)\n",
    "plt.plot(coefs,errs)\n",
    "#plt.plot(coefs,exact_errors)"
   ]
  },
  {
   "cell_type": "markdown",
   "metadata": {},
   "source": [
    "### Task 6. Error and number of steps\n",
    "\n",
    "Assume $[a,b]=[0,\\pi/2]$. Consider the function $f(x)=\\sin{x}$.\n",
    "1. Compute exact value of the integral $\\int_0^{\\pi/2} \\sin{x} dx$ analytically (variable `exact`)\n",
    "2. Compute and plot errors for different values of $n$ for **all three methods**:"
   ]
  },
  {
   "cell_type": "code",
   "execution_count": 44,
   "metadata": {},
   "outputs": [
    {
     "name": "stdout",
     "output_type": "stream",
     "text": [
      "[0.10228579138744676, 0.0200839266449645, 0.010020769456676404, 0.002000824115400923, 0.0010002058225903054, 0.00020000822631516257, 0.00010000205637406001]\n",
      "[0.09885666895019207, 0.01995803613846281, 0.009989615238982341, 0.0019995879422490814, 0.000999897088701962, 0.00019999588684360692, 9.999897181467432e-05]\n",
      "[0.25627951201975163, 0.05141054045408244, 0.025707303853401142, 0.005141587464603803, 0.002570795679503024, 0.000514159260188829, 0.0002570796320330304]\n"
     ]
    },
    {
     "data": {
      "image/png": "[encoded data removed]",
      "text/plain": [
       "<Figure size 432x288 with 1 Axes>"
      ]
     },
     "metadata": {},
     "output_type": "display_data"
    }
   ],
   "source": [
    "ns=[10, 50, 100, 500, 1000, 5000, 10000]\n",
    "errs_mp=[]\n",
    "errs_trap=[]\n",
    "errs_simp=[]\n",
    "a_I = 0\n",
    "b_I = math.pi/2\n",
    "#your code goes here\n",
    "exact=1\n",
    "                                                                            \n",
    "for n in ns:\n",
    "    f= lambda x: sin(x)\n",
    "    errs_trap.append(abs(trapezoidal(f, a_I, b_I, n)-exact))\n",
    "    errs_simp.append(abs(simpson(f, a_I, b_I, n)-exact))\n",
    "    errs_mp.append(abs(middle(f, a_I, b_I, n)-exact))\n",
    "    \n",
    "fig, ax = plt.subplots()\n",
    "#your code goes here\n",
    "#please, use loglog scale!\n",
    "print(errs_trap)\n",
    "print(errs_mp)\n",
    "print(errs_simp)\n",
    "plt.plot(ns,errs_trap, color=\"red\")\n",
    "plt.plot(ns,errs_simp, color = \"green\")\n",
    "plt.plot(ns,errs_mp)\n",
    "ax.set_xscale('log')\n",
    "ax.set_yscale('log')\n",
    "plt.show()"
   ]
  },
  {
   "cell_type": "markdown",
   "metadata": {},
   "source": [
    "## Task 7. Results\n",
    "\n",
    "Answer following questions in the field below:\n",
    "1. By comparing three method which one is best to use for the function $x^x$?\n",
    "2. Does estimations of error for $e^{ax}$ coincide with theoretical upper boundary per $a$? If not, where is the problem?\n",
    "3. Does estimations of error for $\\sin {x}$ coincide with theoretical upper boundary per $n$? If not, where is the problem?"
   ]
  },
  {
   "cell_type": "markdown",
   "metadata": {},
   "source": [
    "1. We can say that a value of errors using simpsons method is more suitable for function x^x when approaches 0. When n approaches infinite, results are practically the same\n",
    "\n",
    "2. When a in [0;1] whe can say that estimation of error doesn't coicide with theoretical. but when a > 1 estimation of errors approaches theoretical one\n",
    "\n",
    "3. When we approach n to inf we can say that we have lower and lower value of errors. But when n approaches 0, the value of erros increase at the same time.\n"
   ]
  }
 ],
 "metadata": {
  "kernelspec": {
   "display_name": "Python 3",
   "language": "python",
   "name": "python3"
  },
  "language_info": {
   "codemirror_mode": {
    "name": "ipython",
    "version": 3
   },
   "file_extension": ".py",
   "mimetype": "text/x-python",
   "name": "python",
   "nbconvert_exporter": "python",
   "pygments_lexer": "ipython3",
   "version": "3.8.8"
  }
 },
 "nbformat": 4,
 "nbformat_minor": 4
}
