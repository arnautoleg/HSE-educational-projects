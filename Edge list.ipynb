{
 "cells": [
  {
   "cell_type": "code",
   "execution_count": 2,
   "id": "390c55b6",
   "metadata": {},
   "outputs": [
    {
     "name": "stdout",
     "output_type": "stream",
     "text": [
      "3 3\n",
      "1 2\n",
      "0 1\n",
      "2 3\n",
      "[(1, 2), (0, 1), (2, 3)]\n"
     ]
    }
   ],
   "source": [
    "# Edge list\n",
    "\n",
    "n, m = list(map(int, input().split()))  # n - verteces (вершина), m - ages (ребро)\n",
    "edges = []\n",
    "\n",
    "for i in range(m):\n",
    "    v_from, v_to = list(map(int, input().split()))\n",
    "    edges.append((v_from, v_to))\n",
    "    \n",
    "def get_neighbours(v, edges):\n",
    "    neighbours = []\n",
    "    for edge in edges:\n",
    "        print(edge)\n",
    "        if edge[0] == v:\n",
    "            neighbours.append(edge[1])\n",
    "    return neighbours\n",
    "\n",
    "print(edges)\n",
    "# Complexity\n",
    "# Edge exists:     O(|E|)    если ребро есть\n",
    "# Vertex degree:   O(|E|)    сколько соседей\n",
    "# Memory:          O(|E|)    память\n",
    "# Add/delete edge: O(1)/O(|E|)  добавить, удалить\n",
    "\n"
   ]
  },
  {
   "cell_type": "code",
   "execution_count": 6,
   "id": "3fb33f5f",
   "metadata": {},
   "outputs": [
    {
     "name": "stdout",
     "output_type": "stream",
     "text": [
      "(1, 2)\n",
      "(0, 1)\n",
      "(2, 3)\n"
     ]
    },
    {
     "data": {
      "text/plain": [
       "[2]"
      ]
     },
     "execution_count": 6,
     "metadata": {},
     "output_type": "execute_result"
    }
   ],
   "source": [
    "get_neighbours(1, edges)"
   ]
  },
  {
   "cell_type": "code",
   "execution_count": 170,
   "id": "6cf1770a",
   "metadata": {},
   "outputs": [
    {
     "name": "stdout",
     "output_type": "stream",
     "text": [
      "3 3\n",
      "1 2\n",
      "2 1\n",
      "1 3\n"
     ]
    }
   ],
   "source": [
    "# Adjacency list - вершина и все соседи\n",
    "\n",
    "n, m = list(map(int, input().split()))  # n - verteces (вершина), m - ages (ребро)\n",
    "graph = {}  # dictionary\n",
    "\n",
    "for i in range(m):\n",
    "    v_from, v_to = list(map(int, input().split()))\n",
    "    if v_from in graph:\n",
    "        graph[v_from].append(v_to)\n",
    "    else:\n",
    "        graph[v_from] = [v_to]\n",
    "        \n",
    "def get_neighbours(v, graph):\n",
    "    if v in graph:\n",
    "        return graph[v]\n",
    "    return []\n",
    "      \n",
    "# Complexity\n",
    "# Edge exists:     O(|V|)    если ребро есть\n",
    "# Vertex degree:   O(1)    сколько соседей\n",
    "# Memory:          O(|E|)    память\n",
    "# Add/delete edge: O(1)/O(|V|)  добавить, удалить"
   ]
  },
  {
   "cell_type": "code",
   "execution_count": 51,
   "id": "a30797c2",
   "metadata": {},
   "outputs": [
    {
     "name": "stdout",
     "output_type": "stream",
     "text": [
      "{1: [2, 3], 2: [3]}\n"
     ]
    },
    {
     "data": {
      "text/plain": [
       "[2, 3]"
      ]
     },
     "execution_count": 51,
     "metadata": {},
     "output_type": "execute_result"
    }
   ],
   "source": [
    "print(graph)\n",
    "\n",
    "get_neighbours(1, graph)"
   ]
  },
  {
   "cell_type": "code",
   "execution_count": 58,
   "id": "7260cd2f",
   "metadata": {},
   "outputs": [
    {
     "name": "stdout",
     "output_type": "stream",
     "text": [
      "3 3\n",
      "1 2\n",
      "0 1\n",
      "0 2\n"
     ]
    }
   ],
   "source": [
    "# Adjacency matrix - матрица !!!\n",
    "\n",
    "n, m = list(map(int, input().split()))  # n - verteces (вершина), m - ages (ребро)\n",
    "graph = [[0 for i in range(n)] for j in range(n)]\n",
    "#print(graph)\n",
    "\n",
    "for i in range(m):\n",
    "    v_from, v_to = list(map(int, input().split()))\n",
    "    graph[v_from][v_to] = 1\n",
    "    \n",
    "def get_neighbours(v, graph):\n",
    "    neighbours = []\n",
    "    for i in range(len(graph)):\n",
    "        print(i)\n",
    "        if graph[v][i] == 1:\n",
    "            neighbours.append(i)\n",
    "    return neighbours\n",
    "\n",
    "# Complexity\n",
    "# Edge exists:     O(1)    если ребро есть\n",
    "# Vertex degree:   O(|V|)    сколько соседей\n",
    "# Memory:          O(|V|^2)    память\n",
    "# Add/delete edge: O(1)     добавить, удалить\n"
   ]
  },
  {
   "cell_type": "code",
   "execution_count": 59,
   "id": "2bea5fa9",
   "metadata": {
    "scrolled": true
   },
   "outputs": [
    {
     "name": "stdout",
     "output_type": "stream",
     "text": [
      "[[0, 1, 1], [0, 0, 1], [0, 0, 0]]\n",
      "0\n",
      "1\n",
      "2\n"
     ]
    },
    {
     "data": {
      "text/plain": [
       "[2]"
      ]
     },
     "execution_count": 59,
     "metadata": {},
     "output_type": "execute_result"
    }
   ],
   "source": [
    "print(graph)\n",
    "\n",
    "get_neighbours(1, graph)"
   ]
  },
  {
   "cell_type": "markdown",
   "id": "89e10631",
   "metadata": {},
   "source": [
    "# Practicing the Adjacency Matrix"
   ]
  },
  {
   "cell_type": "code",
   "execution_count": 112,
   "id": "0c481bb8",
   "metadata": {},
   "outputs": [],
   "source": [
    "adj_matrix = [[0, 1], [0, 1]]\n",
    "\n",
    "#1. Given an adjacency matrix of a graph determine if the graph contains loops. \n",
    "#(A loop is an edge that connects the vertex to itself)\n",
    "\n",
    "def hasLoops(adj_matrix):\n",
    "    n = len(adj_matrix)\n",
    "    #print(\"n =\", n)\n",
    "    has_loops = False\n",
    "\n",
    "    for i in range(n):\n",
    "        #print(i)\n",
    "        print(adj_matrix[i])\n",
    "        if adj_matrix[i][i] == 1:\n",
    "            has_loops = True\n",
    "  \n",
    "    # YOUR CODE GOES HERE\n",
    "  \n",
    "    return has_loops"
   ]
  },
  {
   "cell_type": "markdown",
   "id": "b41f802d",
   "metadata": {},
   "source": [
    "hasLoops(adj_matrix)\n",
    "\n",
    "#adj_matrix[i][i]"
   ]
  },
  {
   "cell_type": "code",
   "execution_count": 163,
   "id": "3a57fae9",
   "metadata": {},
   "outputs": [
    {
     "data": {
      "text/plain": [
       "True"
      ]
     },
     "execution_count": 163,
     "metadata": {},
     "output_type": "execute_result"
    }
   ],
   "source": [
    "#2. Given an adjacency matrix of a graph determine \n",
    "#if the graph can be an undirected graph with no loops.\n",
    "\n",
    "adj_matrix = [[0, 1, 0], [1, 0, 0], [0, 0, 0]]\n",
    "\n",
    "def isUndirected(adj_matrix):\n",
    "    n = len(adj_matrix)\n",
    "    is_undirected = True\n",
    "    for i in range(n):\n",
    "        for j in range(n):\n",
    "            if adj_matrix[i][i] == 1 or adj_matrix[i][j] != adj_matrix[j][i] == 1:\n",
    "                is_undirected = False\n",
    "    return is_undirected\n",
    "isUndirected(adj_matrix)"
   ]
  },
  {
   "cell_type": "code",
   "execution_count": 159,
   "id": "65d52a2b",
   "metadata": {},
   "outputs": [
    {
     "data": {
      "text/plain": [
       "3"
      ]
     },
     "execution_count": 159,
     "metadata": {},
     "output_type": "execute_result"
    }
   ],
   "source": [
    "adj_matrix = [[0, 1, 0], [1, 0, 0], [0, 1, 0]]\n",
    "\n",
    "adj_matrix[0][1] == adj_matrix[1][0] == 0\n",
    "\n",
    "len(adj_matrix[i])"
   ]
  },
  {
   "cell_type": "code",
   "execution_count": 142,
   "id": "9fea14cc",
   "metadata": {},
   "outputs": [
    {
     "name": "stdout",
     "output_type": "stream",
     "text": [
      "n = 3\n",
      "1\n",
      "0\n",
      "1\n"
     ]
    },
    {
     "data": {
      "text/plain": [
       "1.0"
      ]
     },
     "execution_count": 142,
     "metadata": {},
     "output_type": "execute_result"
    }
   ],
   "source": [
    "#3. Given an adjacency matrix of an undirected graph \n",
    "#count the number of edges in the graph\n",
    "\n",
    "def countEdges(adj_matrix):\n",
    "    n = len(adj_matrix)\n",
    "    print(\"n =\", n)\n",
    "    edges_count = 0\n",
    "    for i in range(n):\n",
    "        print(sum(adj_matrix[i]))\n",
    "        edges_count += sum(adj_matrix[i])\n",
    "    return edges_count/2\n",
    "\n",
    "countEdges(adj_matrix)"
   ]
  },
  {
   "cell_type": "markdown",
   "id": "4541ff5d",
   "metadata": {},
   "source": [
    "# Practicing the Adajcency List"
   ]
  },
  {
   "cell_type": "code",
   "execution_count": 183,
   "id": "fb22809e",
   "metadata": {},
   "outputs": [
    {
     "name": "stdout",
     "output_type": "stream",
     "text": [
      "3 4\n",
      "1 2\n",
      "2 1\n",
      "1 3\n",
      "3 1\n"
     ]
    }
   ],
   "source": [
    "n, m = list(map(int, input().split()))  # n - verteces (вершина), m - ages (ребро)\n",
    "graph = {}  # dictionary\n",
    "\n",
    "for i in range(m):\n",
    "    v_from, v_to = list(map(int, input().split()))\n",
    "    if v_from in graph:\n",
    "        graph[v_from].append(v_to)\n",
    "    else:\n",
    "        graph[v_from] = [v_to]\n",
    "        \n",
    "def get_neighbours(v, graph):\n",
    "    if v in graph:\n",
    "        return graph[v]\n",
    "    return []"
   ]
  },
  {
   "cell_type": "code",
   "execution_count": null,
   "id": "e711baa8",
   "metadata": {},
   "outputs": [],
   "source": [
    "adj_list = [[1, 2], [0], [0]]\n",
    "# check that your code works correctly on provided example\n",
    "assert edgesCount(adj_list) == 2, 'Wrong answer'"
   ]
  },
  {
   "cell_type": "code",
   "execution_count": 208,
   "id": "fbc9548b",
   "metadata": {},
   "outputs": [
    {
     "data": {
      "text/plain": [
       "2.0"
      ]
     },
     "execution_count": 208,
     "metadata": {},
     "output_type": "execute_result"
    }
   ],
   "source": [
    "#1.Given an adjacency list for an undirected graph \n",
    "#count the number of edges in it.\n",
    "adj_list = [[1, 2], [0], [0]]\n",
    "\n",
    "def edgesCount(adj_list):\n",
    "    n = len(adj_list)\n",
    "    edges_count = 0\n",
    "    for i in adj_list:\n",
    "        edges_count += len(i)\n",
    "    return edges_count/2\n",
    "edgesCount(adj_list)"
   ]
  },
  {
   "cell_type": "code",
   "execution_count": null,
   "id": "ec202fdf",
   "metadata": {},
   "outputs": [],
   "source": [
    "adj_list = [[1, 2], [], []]\n",
    "# check that your code works correctly on provided example\n",
    "assert reverseGraph(adj_list) == [[], [0], [0]], 'Wrong answer'"
   ]
  },
  {
   "cell_type": "code",
   "execution_count": 224,
   "id": "41d5fe37",
   "metadata": {},
   "outputs": [
    {
     "data": {
      "text/plain": [
       "[[], [0], [0]]"
      ]
     },
     "execution_count": 224,
     "metadata": {},
     "output_type": "execute_result"
    }
   ],
   "source": [
    "#2. Given an adjacency list of a directed graph, reverse it \n",
    "#(change the direction of all edges) and output it as an adjacency list\n",
    "\n",
    "adj_list = [[1, 2], [], []]\n",
    "\n",
    "def reverseGraph(adj_list):\n",
    "    n = len(adj_list)\n",
    "    reversed_graph = [[] for i in range(n)]\n",
    "    for i in range(len(adj_list)):\n",
    "        #print(\"i =\", i)\n",
    "        for j in adj_list[i]:\n",
    "            #print(j)\n",
    "            reversed_graph[j].append(i)                   \n",
    "    return reversed_graph\n",
    "\n",
    "reverseGraph(adj_list)"
   ]
  },
  {
   "cell_type": "code",
   "execution_count": null,
   "id": "06d95558",
   "metadata": {},
   "outputs": [],
   "source": [
    "#3. Given an adjacency list for the directed graph determine if the relation \n",
    "#between objects represented by a graph has the transitive property. \n",
    "#(meaning that if there are edges v1 -> v2 and v2 -> v3 there exists an edge v1 -> v3)\n",
    "\n",
    "adj_list = [[1, 2], [2], []]\n",
    "# check that your code works correctly on provided example\n",
    "assert isTransitive(adj_list), 'Wrong answer'\n"
   ]
  },
  {
   "cell_type": "code",
   "execution_count": 83,
   "id": "09ed552c",
   "metadata": {},
   "outputs": [
    {
     "name": "stdout",
     "output_type": "stream",
     "text": [
      "[1, 2]\n",
      "1\n",
      "2\n",
      "[2]\n",
      "2\n"
     ]
    },
    {
     "data": {
      "text/plain": [
       "True"
      ]
     },
     "execution_count": 83,
     "metadata": {},
     "output_type": "execute_result"
    }
   ],
   "source": [
    "adj_list = [[1, 2], [2], []]\n",
    "\n",
    "\n",
    "def isTransitive(adj_list):\n",
    "    n = len(adj_list)\n",
    "    \n",
    "    is_transitive = True\n",
    "    \n",
    "    for i in range(n-1):\n",
    "        print(adj_list[i])\n",
    "        for j in adj_list[i]:\n",
    "            print(j)\n",
    "            if adj_list[j]\n",
    "        \n",
    "        #for j in len(i):\n",
    "            #print(j)\n",
    "    \n",
    "    \n",
    "    #count, value = 0, 0\n",
    "    #for i in range(n):\n",
    "        #count += len(adj_list[i])\n",
    "    #for i in range(n-1):\n",
    "        #value += i+1\n",
    "        \n",
    "    #print(count)\n",
    "    #print(value)\n",
    "    #if value != count:\n",
    "        #is_transitive = False\n",
    "    \n",
    "    return is_transitive\n",
    "\n",
    "adj_list = [[1, 2], [2], []]\n",
    "isTransitive(adj_list)"
   ]
  },
  {
   "cell_type": "code",
   "execution_count": 79,
   "id": "a13a19fb",
   "metadata": {},
   "outputs": [
    {
     "data": {
      "text/plain": [
       "2"
      ]
     },
     "execution_count": 79,
     "metadata": {},
     "output_type": "execute_result"
    }
   ],
   "source": [
    "adj_list = [[1, 2], [2], []]\n",
    "\n",
    "len(adj_list[0])\n"
   ]
  },
  {
   "cell_type": "markdown",
   "id": "d03285a4",
   "metadata": {},
   "source": [
    "# Practicing the Edge List"
   ]
  },
  {
   "cell_type": "code",
   "execution_count": null,
   "id": "7c2f1dd8",
   "metadata": {},
   "outputs": [],
   "source": [
    "#1. Given an edge list for an undirected graph count the degree of each vertex. \n",
    "#(The degree of a vertex is the number of edges incident to the given vertex)\n",
    "\n",
    "\n",
    "vertex_count = 3\n",
    "edge_list = [[0, 1], [0, 2]]\n",
    "# check that your code works correctly on provided example\n",
    "assert vertexDegree(vertex_count, edge_list) == [2, 1, 1], 'Wrong answer'"
   ]
  },
  {
   "cell_type": "code",
   "execution_count": 286,
   "id": "bc2eb509",
   "metadata": {},
   "outputs": [
    {
     "data": {
      "text/plain": [
       "[2, 1, 1]"
      ]
     },
     "execution_count": 286,
     "metadata": {},
     "output_type": "execute_result"
    }
   ],
   "source": [
    "def vertexDegree(vertex_count, edge_list):\n",
    "    n = vertex_count\n",
    "    degrees = [0 for i in range(n)]\n",
    "    for i in edge_list:\n",
    "        for j in i:\n",
    "            degrees[j] += 1\n",
    "    return degrees\n",
    "\n",
    "vertex_count = 3\n",
    "edge_list = [[0, 1], [0, 2]]\n",
    "vertexDegree(vertex_count, edge_list)"
   ]
  },
  {
   "cell_type": "code",
   "execution_count": null,
   "id": "13deaa0c",
   "metadata": {},
   "outputs": [],
   "source": [
    "#2. Given an edge list for an undirected graph check if the graph \n",
    "#has duplicate edges.\n",
    "\n",
    "vertex_count = 2\n",
    "edge_list = [[0, 1], [1, 0]]\n",
    "# check that your code works correctly on provided example\n",
    "assert hasDuplicates(vertex_count, edge_list), 'Wrong answer'"
   ]
  },
  {
   "cell_type": "code",
   "execution_count": 35,
   "id": "ab4840ab",
   "metadata": {},
   "outputs": [
    {
     "data": {
      "text/plain": [
       "False"
      ]
     },
     "execution_count": 35,
     "metadata": {},
     "output_type": "execute_result"
    }
   ],
   "source": [
    "def hasDuplicates(vertex_count, edge_list):\n",
    "    n = vertex_count\n",
    "    has_duplicates = False\n",
    "  \n",
    "    work_edge = 0\n",
    "    for i in edge_list:\n",
    "        work_edge = i\n",
    "        edge_list.remove(i)\n",
    "        if work_edge in edge_list:\n",
    "            has_duplicates = True\n",
    "    return has_duplicates\n",
    "\n",
    "vertex_count = 2\n",
    "edge_list = [[0, 1], [1, 0]]\n",
    "\n",
    "hasDuplicates(vertex_count, edge_list)"
   ]
  },
  {
   "cell_type": "code",
   "execution_count": null,
   "id": "6b5c1c57",
   "metadata": {},
   "outputs": [],
   "source": [
    "#3. Given an edge list for an undirected graph check if the graph is complete. \n",
    "#(The graph is complete if for every pair of vertices there \n",
    "# exists an edge connecting them)\n",
    "\n",
    "vertex_count = 2\n",
    "edge_list = [[0, 1]]\n",
    "# check that your code works correctly on provided example\n",
    "assert isComplete(vertex_count, edge_list), 'Wrong answer'"
   ]
  },
  {
   "cell_type": "code",
   "execution_count": 46,
   "id": "6381bec0",
   "metadata": {},
   "outputs": [
    {
     "data": {
      "text/plain": [
       "True"
      ]
     },
     "execution_count": 46,
     "metadata": {},
     "output_type": "execute_result"
    }
   ],
   "source": [
    "def isComplete(vertex_count, edge_list):\n",
    "    n = vertex_count\n",
    "    is_complete = True\n",
    "    value = 0\n",
    "    for i in range(n-1):\n",
    "        value += i+1\n",
    "    if value != len(edge_list):\n",
    "        is_complete = False\n",
    "    \n",
    "  \n",
    "    # YOUR CODE GOES HERE\n",
    "  \n",
    "    return is_complete\n",
    "\n",
    "vertex_count = 2\n",
    "edge_list = [[0, 1]]\n",
    "isComplete(vertex_count, edge_list)"
   ]
  }
 ],
 "metadata": {
  "kernelspec": {
   "display_name": "Python 3 (ipykernel)",
   "language": "python",
   "name": "python3"
  },
  "language_info": {
   "codemirror_mode": {
    "name": "ipython",
    "version": 3
   },
   "file_extension": ".py",
   "mimetype": "text/x-python",
   "name": "python",
   "nbconvert_exporter": "python",
   "pygments_lexer": "ipython3",
   "version": "3.9.7"
  }
 },
 "nbformat": 4,
 "nbformat_minor": 5
}
