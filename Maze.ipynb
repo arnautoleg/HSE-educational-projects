{
 "cells": [
  {
   "cell_type": "code",
   "execution_count": 121,
   "id": "e4ebcfbc",
   "metadata": {},
   "outputs": [
    {
     "data": {
      "text/plain": [
       "'DRR'"
      ]
     },
     "execution_count": 121,
     "metadata": {},
     "output_type": "execute_result"
    }
   ],
   "source": [
    "\n",
    "### https://www.absolem.info/sportprogramming/labyrinth-algorithms.html\n",
    "\n",
    "from collections import deque\n",
    "#import pprint\n",
    "#pp = pprint.PrettyPrinter()\n",
    "\n",
    "def maze2graph(maze):\n",
    "    maze = [i[0] for i in maze]\n",
    "    height = len(maze)\n",
    "    width = len(maze[0]) if height else 0\n",
    "    #graph = {(x, y): [] for j in range(width) for i in range(height) if not maze[i][j]}\n",
    "    \n",
    "    graph = {(x, y): [] for y in range(width) for x in range(height) if maze[x][y] != \"#\"}\n",
    "    \n",
    "    \n",
    "    for (x, y) in graph:\n",
    "        if x < height - 1 and (x + 1, y) in graph:\n",
    "            graph[(x, y)].append((\"D\", (x + 1, y)))\n",
    "            graph[(x + 1, y)].append((\"U\", (x, y)))\n",
    "        if y < width - 1 and (x, y + 1) in graph:\n",
    "            graph[(x, y)].append((\"R\", (x, y + 1)))\n",
    "            graph[(x, y + 1)].append((\"L\", (x, y)))\n",
    "    return graph\n",
    "    \n",
    "    #for row, col in graph.keys():\n",
    "        #if row < height - 1 and not maze[row + 1][col]:\n",
    "            #graph[(row, col)].append((\"S\", (row + 1, col)))\n",
    "            #graph[(row + 1, col)].append((\"N\", (row, col)))\n",
    "        #if col < width - 1 and not maze[row][col + 1]:\n",
    "            #graph[(row, col)].append((\"E\", (row, col + 1)))\n",
    "            #graph[(row, col + 1)].append((\"W\", (row, col)))\n",
    "    #return graph\n",
    "\n",
    "#def find_path_bfs(maze):\n",
    "    #start, goal = (1, 1), (len(maze) - 2, len(maze[0]) - 2)\n",
    "    \n",
    "def path2exit(maze, x, y):\n",
    "    height, width = len(maze), len(maze[0][0])\n",
    "    \n",
    "    start = (x, y)\n",
    "    goal = (-1, -1)\n",
    "    \n",
    "    for i in range(height):\n",
    "        for j in range(width):\n",
    "            if maze[i][0][j] == \"X\":\n",
    "                goal = (i, j)\n",
    "                \n",
    "    \n",
    "    \n",
    "    queue = deque([(\"\", start)])\n",
    "    visited = set()\n",
    "    graph = maze2graph(maze)\n",
    "    \n",
    "    while queue:\n",
    "        #pp.pprint(queue)\n",
    "        path, current = queue.popleft()\n",
    "        if current == goal:\n",
    "            return path\n",
    "        if current in visited:\n",
    "            continue\n",
    "        visited.add(current)\n",
    "        for direction, neighbour in graph[current]:\n",
    "            queue.append((path + direction, neighbour))\n",
    "    return -1\n",
    "\n",
    "\n",
    "    \n",
    "maze = [['.#.'], \n",
    "        ['..X']]\n",
    "\n",
    "x, y = 0, 0\n",
    "path2exit(maze, x, y)\n",
    "    \n",
    "    \n",
    "    "
   ]
  },
  {
   "cell_type": "code",
   "execution_count": 137,
   "id": "7beef5df",
   "metadata": {},
   "outputs": [
    {
     "data": {
      "text/plain": [
       "2006.9375619425173"
      ]
     },
     "execution_count": 137,
     "metadata": {},
     "output_type": "execute_result"
    }
   ],
   "source": [
    "#105.27\n",
    "\n",
    "#20.18/0.18\n",
    "\n",
    "225000/105.27 - 225000/(20.18/0.18)\n",
    "\n",
    "225000/(20.18/0.18)\n",
    "\n",
    "\n",
    "\n"
   ]
  }
 ],
 "metadata": {
  "kernelspec": {
   "display_name": "Python 3 (ipykernel)",
   "language": "python",
   "name": "python3"
  },
  "language_info": {
   "codemirror_mode": {
    "name": "ipython",
    "version": 3
   },
   "file_extension": ".py",
   "mimetype": "text/x-python",
   "name": "python",
   "nbconvert_exporter": "python",
   "pygments_lexer": "ipython3",
   "version": "3.9.7"
  }
 },
 "nbformat": 4,
 "nbformat_minor": 5
}
