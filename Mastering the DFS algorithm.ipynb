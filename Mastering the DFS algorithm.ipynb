{
 "cells": [
  {
   "cell_type": "code",
   "execution_count": 2,
   "id": "ac7b7d11",
   "metadata": {},
   "outputs": [],
   "source": [
    "def multiply_by_2(value):\n",
    "    return value * 2"
   ]
  },
  {
   "cell_type": "code",
   "execution_count": 3,
   "id": "c5797303",
   "metadata": {},
   "outputs": [
    {
     "name": "stdout",
     "output_type": "stream",
     "text": [
      "[1, 2, 3, 1, 2, 3]\n"
     ]
    }
   ],
   "source": [
    "print(multiply_by_2([1,2,3]))"
   ]
  },
  {
   "cell_type": "code",
   "execution_count": 5,
   "id": "88cfc4cf",
   "metadata": {},
   "outputs": [
    {
     "name": "stdout",
     "output_type": "stream",
     "text": [
      "d\n",
      "D\n"
     ]
    }
   ],
   "source": [
    "a = input().upper()\n",
    "print(a)"
   ]
  },
  {
   "cell_type": "markdown",
   "id": "1c7fb451",
   "metadata": {},
   "source": [
    "Вопрос 1\n",
    "Given an adjacency matrix for an undirected graph and a vertex, \n",
    "modify the dfs algorithm to output the number of vertices in the same graph component as the given one (counting the given one).\n",
    "The function must work correctly when called several times, e.g. don't use global variables or test it by calling more than once."
   ]
  },
  {
   "cell_type": "code",
   "execution_count": 5,
   "id": "ada7832b",
   "metadata": {},
   "outputs": [
    {
     "data": {
      "text/plain": [
       "3"
      ]
     },
     "execution_count": 5,
     "metadata": {},
     "output_type": "execute_result"
    }
   ],
   "source": [
    "#1 \n",
    "\n",
    "graph = []\n",
    "visited = []\n",
    "\n",
    "\n",
    "def dfs(v):\n",
    "    stack = [v]\n",
    "    while len(stack) != 0:\n",
    "        point = stack.pop()\n",
    "        visited[point] = True\n",
    "        for u in range(len(graph)):\n",
    "            if graph[point][u] == 1 and not visited[u]:\n",
    "                stack.append(u)\n",
    "\n",
    "\n",
    "def sameComponent(adj_matrix, vertex):\n",
    "    global graph, visited\n",
    "    graph = adj_matrix\n",
    "    n = len(graph)\n",
    "    visited = [False for i in range(n)]\n",
    "    vertex_count = 0\n",
    "    dfs(vertex)\n",
    "    vertex_count += sum(visited)\n",
    "    return vertex_count\n",
    "\n",
    "adj_matrix = [[0, 1, 1], [1, 0, 0], [1, 0, 0]]\n",
    "vertex = 0\n",
    "\n",
    "sameComponent(adj_matrix, vertex)\n"
   ]
  },
  {
   "cell_type": "markdown",
   "id": "b44ec291",
   "metadata": {},
   "source": [
    "Вопрос 2\n",
    "Given the adjacency list of an undirected graph check if a graph is a tree."
   ]
  },
  {
   "cell_type": "code",
   "execution_count": 6,
   "id": "0f9902fd",
   "metadata": {},
   "outputs": [
    {
     "data": {
      "text/plain": [
       "True"
      ]
     },
     "execution_count": 6,
     "metadata": {},
     "output_type": "execute_result"
    }
   ],
   "source": [
    "#2\n",
    "\n",
    "graph = []\n",
    "visited = []\n",
    "\n",
    "# USE DFS\n",
    "def dfs(v):\n",
    "    visited[v] = True\n",
    "    for u in graph[v]:\n",
    "        if not visited[u]:\n",
    "            dfs(u)\n",
    "\n",
    "\n",
    "def isTree(adj_list):\n",
    "    global graph, visited\n",
    "    n = len(adj_list)\n",
    "  \n",
    "    graph = adj_list\n",
    "    visited = [False for i in range(n)]\n",
    "  \n",
    "    is_tree = True\n",
    "\n",
    "    elements, edges = 0, 0\n",
    "    for i in range(n):\n",
    "        if not visited[i]:\n",
    "            elements += 1\n",
    "            dfs(i)\n",
    "    if elements > 1:\n",
    "        return False\n",
    "  \n",
    "    for i in range(n):\n",
    "        edges += len(graph[i])\n",
    "    if edges/2 != n-1:\n",
    "        return False\n",
    "  # YOUR CODE GOES HERE\n",
    "    return is_tree\n",
    "\n",
    "adj_list = [[1, 2], [0], [0]]\n",
    "\n",
    "isTree(adj_list)"
   ]
  },
  {
   "cell_type": "markdown",
   "id": "383d01e2",
   "metadata": {},
   "source": [
    "Вопрос 3\n",
    "Given a list of courses and a list of prerequisites for each course (in a form of a dict) output the list of courses sorted in such a way that each course appears in this list only after all it's prerequisites. If it is not possible, output -1.\n",
    "HINT: use the DFS algorithm"
   ]
  },
  {
   "cell_type": "code",
   "execution_count": 11,
   "id": "cf9c6f34",
   "metadata": {},
   "outputs": [
    {
     "data": {
      "text/plain": [
       "[0, 1, 2]"
      ]
     },
     "execution_count": 11,
     "metadata": {},
     "output_type": "execute_result"
    }
   ],
   "source": [
    "#3\n",
    "\n",
    "def sortCourses(course_list, prerequisites_dict):\n",
    "    n = len(course_list)\n",
    "    course_order = []\n",
    "    graph = [[] for i in range(n)]\n",
    "    visited = [False for i in range(n)]\n",
    "    \n",
    "    for element in prerequisites_dict:\n",
    "        for value in prerequisites_dict[element]:\n",
    "            graph[value] += [element]\n",
    "  # YOUR CODE GOES HERE\n",
    "\n",
    "    def dfs(v):\n",
    "        visited[v] = True\n",
    "        for u in graph[v]:\n",
    "            if not visited[u]:\n",
    "                dfs(u)\n",
    "        course_order.append(v)\n",
    "\n",
    "    if len(prerequisites_dict) == 0:\n",
    "        course_order = sorted(course_list)\n",
    "    else:\n",
    "        for i in range(n):\n",
    "            if not visited[i]:\n",
    "                dfs(i)\n",
    "  \n",
    "    if len(course_order) == 0:\n",
    "        return -1\n",
    "    return course_order[::-1]\n",
    "\n",
    "\n",
    "course_list = [0, 1, 2]\n",
    "prerequisites_dict = {2 : [1], 1: [0]}\n",
    "sortCourses(course_list, prerequisites_dict)"
   ]
  },
  {
   "cell_type": "markdown",
   "id": "7e50498a",
   "metadata": {},
   "source": [
    "Given the size of the chess board NxN and the coordinates of rooks, placed on the board, determine the minimum possible number of rooks left after performing the following operation:\n",
    "Select two rooks so that attack each other (they are on the same row or column of the board) and have one of them captures the other (remove one of them from the board)\n",
    "Repeat until there are no two rooks attacking each other."
   ]
  },
  {
   "cell_type": "code",
   "execution_count": 21,
   "id": "e53b3dac",
   "metadata": {},
   "outputs": [
    {
     "data": {
      "text/plain": [
       "2"
      ]
     },
     "execution_count": 21,
     "metadata": {},
     "output_type": "execute_result"
    }
   ],
   "source": [
    "#4\n",
    "\n",
    "def minRooksLeft(board_size, coordinates):\n",
    "    \n",
    "    #each entry in coordinates array looks like this: (x, y) - coordinates of the rook\n",
    "    n = len(coordinates)\n",
    "    rooks_left = 0\n",
    "  \n",
    "    graph = [[] for i in range(n)]\n",
    "    visited = [False for i in range(n)]\n",
    "\n",
    "    def dfs(v):\n",
    "        visited[v] = True\n",
    "        for u in graph[v]:\n",
    "            if not visited[u]:\n",
    "                dfs(u)\n",
    "\n",
    "    for i in range(n-1):\n",
    "        for j in range(n):\n",
    "            if coordinates[i][1] == coordinates[j][1] or coordinates[i][0] == coordinates[j][0]:\n",
    "                graph[i].append(j)\n",
    "\n",
    "    for i in range(len(graph)):\n",
    "        if not visited[i]:\n",
    "            rooks_left += 1\n",
    "            dfs(i)\n",
    "\n",
    "  # YOUR CODE GOES HERE\n",
    "    return rooks_left\n",
    "\n",
    "board_size = 4\n",
    "coordinates = [(0, 0), (0, 3), (3, 0), (1, 2)]\n",
    "minRooksLeft(board_size, coordinates)\n"
   ]
  }
 ],
 "metadata": {
  "kernelspec": {
   "display_name": "Python 3 (ipykernel)",
   "language": "python",
   "name": "python3"
  },
  "language_info": {
   "codemirror_mode": {
    "name": "ipython",
    "version": 3
   },
   "file_extension": ".py",
   "mimetype": "text/x-python",
   "name": "python",
   "nbconvert_exporter": "python",
   "pygments_lexer": "ipython3",
   "version": "3.9.7"
  }
 },
 "nbformat": 4,
 "nbformat_minor": 5
}
