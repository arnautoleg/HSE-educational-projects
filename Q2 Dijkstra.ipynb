{
 "cells": [
  {
   "cell_type": "code",
   "execution_count": 1,
   "id": "d3170d9b",
   "metadata": {},
   "outputs": [
    {
     "data": {
      "text/plain": [
       "[0, 2, 3, 1]"
      ]
     },
     "execution_count": 1,
     "metadata": {},
     "output_type": "execute_result"
    }
   ],
   "source": [
    "#Q2\n",
    "#Given an adjacency matrix with weights of edges instead of 0 and 1 \n",
    "#(if there is no edge between the vertices that value is replaced with float(\"inf\"))  \n",
    "#and a pair of vertices find the shortest path between those vertices and output this path, \n",
    "#starting with vertex v_from and ending with vertex v_to.\n",
    "#If there is no such path output -1.\n",
    "\n",
    "from heapq import heappop, heappush  \n",
    "\n",
    "# heappop - remove top element from the heap\n",
    "# heappush - ading element to the heap\n",
    "\n",
    "def dijkstra(adj_matrix, v_from, v_to):\n",
    "    n = len(adj_matrix)\n",
    "    distance = [float(\"inf\") for i in range(n)] # n - number of vertices in graph\n",
    "    heap = []\n",
    "    visited = [False for i in range(n)]\n",
    "    \n",
    "    predecesor = [float(\"inf\") for i in range(n)]\n",
    "    \n",
    "    path = []\n",
    "    \n",
    "    heappush(heap, (0, v_from))  # distance and the first element we put in heap\n",
    "    distance[v_from] = 0\n",
    "    \n",
    "    all_path = [[v_from] for i in range(len(adj_matrix))]\n",
    "    #print(all_path)\n",
    "    \n",
    "    graph = [[] for i in range(len(adj_matrix))]\n",
    "    \n",
    "    for i in range(len(adj_matrix)):\n",
    "        for j in range(len(adj_matrix)):\n",
    "            graph[i].append([i, j, adj_matrix[i][j]])\n",
    "                \n",
    "    while len(heap) > 0:\n",
    "        d, v = heappop(heap) # d - distance and v - current vertex that is not visited yet\n",
    "        visited[v] = True\n",
    "        if distance[v] < d:\n",
    "            continue\n",
    "        for i, u, c in graph[v]:  # U - pair of vertices, c - costs (adj list)\n",
    "            if not visited[u] and d + c < distance[u]:\n",
    "                predecesor[u] = v\n",
    "                distance[u] = d + c\n",
    "                heappush(heap, (distance[u], u))\n",
    "    for i in range(len(distance)):\n",
    "        if distance[i] == float(\"inf\"):\n",
    "            distance[i] = -1\n",
    "    result = v_to\n",
    "    while v_to != float(\"inf\"):\n",
    "        try:\n",
    "            path.insert(0, v_to)\n",
    "            v_to = predecesor[v_to]\n",
    "            #print(predecessor)\n",
    "        except KeyError:\n",
    "            print(-1)\n",
    "            break\n",
    "            \n",
    "    if distance[result] == -1:\n",
    "        return -1\n",
    "    else:\n",
    "        return path\n",
    "\n",
    "\n",
    "\n",
    "adj_matrix = [[float('inf'), 5, 2, float('inf')], \n",
    "             [5, float('inf'), float('inf'), 1], \n",
    "             [2, float('inf'), float('inf'), 1], \n",
    "              [float('inf'), 1, 1, float('inf')]]\n",
    "v_from, v_to = 0, 1\n",
    "\n",
    "#adj_matrix = [[[1, 5], [2, 2]], \n",
    "#              [[0, 5], [3, 1]], \n",
    "#              [[0, 2], [3, 1]],\n",
    "#             [[1, 1], [2, 1]]]\n",
    "\n",
    "\n",
    "dijkstra(adj_matrix, v_from, v_to)"
   ]
  }
 ],
 "metadata": {
  "kernelspec": {
   "display_name": "Python 3 (ipykernel)",
   "language": "python",
   "name": "python3"
  },
  "language_info": {
   "codemirror_mode": {
    "name": "ipython",
    "version": 3
   },
   "file_extension": ".py",
   "mimetype": "text/x-python",
   "name": "python",
   "nbconvert_exporter": "python",
   "pygments_lexer": "ipython3",
   "version": "3.9.7"
  }
 },
 "nbformat": 4,
 "nbformat_minor": 5
}
