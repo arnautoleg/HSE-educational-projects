{
 "cells": [
  {
   "cell_type": "markdown",
   "id": "c1a57814",
   "metadata": {},
   "source": [
    "# 1. Solution explanation. Justify how your algorithm works. Add a code listing and explain what this code does."
   ]
  },
  {
   "cell_type": "code",
   "execution_count": null,
   "id": "6edf59c0",
   "metadata": {},
   "outputs": [],
   "source": [
    "import math\n",
    "\n",
    "def find_percentile(a, b, p):\n",
    "\n",
    "    # the both arrays total lenght determination\n",
    "    total_lenght = len(a) + len(b)   \n",
    "    \n",
    "    # the critical point determination \n",
    "    # how much elements we need to consider to find the percentile\n",
    "    half = total_lenght * p // 100  \n",
    "    \n",
    "    # as basic we take in account the shortest list\n",
    "    if len(b) < len(a):               \n",
    "        a, b = b, a\n",
    "\n",
    "    # left and right pointers (indexes) in shortest list (a)   \n",
    "    l, r = 0, len(a) - 1              \n",
    "\n",
    "    while True:\n",
    "        # the middle value of the array a (index of this value)\n",
    "        # we will change \n",
    "        i = (l + r) // 2 \n",
    "        # the last value of the array b we need to take into account (index of this value)\n",
    "        j = half - i - 2\n",
    "        \n",
    "        # partition (the elements number from each list)\n",
    "        \n",
    "        # Aleft - the last value from the a we need to consider\n",
    "        # as percentile (it becomes -inf then i < 0)\n",
    "        Aleft = a[i] if i >= 0 else float(\"-infinity\")\n",
    "        # Aright - the next value after the last value from \n",
    "        #the a we need to consider as percentile \n",
    "        #(it becomes +inf then i + 1 >= len(a))\n",
    "        Aright = a[i + 1] if (i + 1) < len(a) else float(\"infinity\")\n",
    "        # Bleft - the last value from the b we need to consider\n",
    "        # as percentile (it becomes -inf then j < 0)\n",
    "        Bleft = b[j] if j >= 0 else float(\"-infinity\")\n",
    "        # Rright - the next value after the last value from \n",
    "        #the a we need to consider as percentile \n",
    "        #(it becomes +inf then j + 1 >= len(a))\n",
    "        Bright = b[j + 1] if (j + 1) < len(b) else float(\"infinity\")\n",
    "        \n",
    "        # when we achive the ballance and last considered value \n",
    "        # from one list is less or equal to the next value from the\n",
    "        # another list we can estimate the percentile\n",
    "        if Aleft <= Bright and Bleft <= Aright: \n",
    "            if total_lenght % 2:\n",
    "                # for odds total_lenght we found the min among \n",
    "                # right value in a and right value in b\n",
    "                return min(Aright, Bright)  \n",
    "            # for even - minvalue between max of both left \n",
    "            # value and min of both left indices \n",
    "            return min(max(Aleft, Bleft), min(Aright, Bright)) \n",
    "        \n",
    "        # when we have to many selected elements in a\n",
    "        # we reduce the size of a we shift the right pointer\n",
    "        # reducing the considered values in a\n",
    "        elif Aleft > Bright:\n",
    "            r = i - 1\n",
    "        #in another condition we increase the l value\n",
    "        #taking more elements from list a (shortest list)\n",
    "        else:\n",
    "            l = i + 1\n"
   ]
  },
  {
   "cell_type": "markdown",
   "id": "045ff692",
   "metadata": {},
   "source": [
    "# 2. Time complexity. Describe time complexity of your solution and explain why is it so: "
   ]
  },
  {
   "cell_type": "code",
   "execution_count": null,
   "id": "be5f607c",
   "metadata": {},
   "outputs": [],
   "source": [
    "It was used Binary search algorithm. In general it uses O(log(n)) time comlexity. \n",
    "In our confition, having 2 arrays and selecting the minimal lenght, the time complexity will be O(log(min(n, m))"
   ]
  },
  {
   "cell_type": "markdown",
   "id": "fbcaf761",
   "metadata": {},
   "source": [
    "# 3. Space complexity. Describe space complexity of your solution and explain why is it so:"
   ]
  },
  {
   "cell_type": "code",
   "execution_count": null,
   "id": "69c41260",
   "metadata": {},
   "outputs": [],
   "source": [
    "In the solution was used iterative method, iterations being controlled by looping conditions.\n",
    "Estimated space compexity is O(1), no extra space is required because the new object was not created."
   ]
  },
  {
   "cell_type": "markdown",
   "id": "72ab8d5a",
   "metadata": {},
   "source": [
    "# 4. Correctness proof. Describe loop invariants and show initialization, maintenance and termination for them:"
   ]
  },
  {
   "cell_type": "code",
   "execution_count": null,
   "id": "15da57d2",
   "metadata": {},
   "outputs": [],
   "source": [
    "Loop iteration - on every loop iteration the arrays a and b are divided in two parts (a part of sorted array we\n",
    "need to consider and part we do not have to consider). We fix the last elemet of the initial block \n",
    "we need to consider (Aleft, Bleft), and the next element after it (Aright, Bright). Values the notation \"left\"\n",
    "during the algirithm can be -inf, the values with notation \"right\" during the algorithm can be +inf, the condition\n",
    "to exit loop being specific relations between the Aleft, Bright and Bleft, Aright. \n",
    "\n",
    "Initialization - the first iteration of while loop creates the mentioned elements\n",
    "\n",
    "Maintance - depends on condition we can reduce (r = i - 1) or increase (l = i + 1) the elements considered  \n",
    "from shortest list, modifiing in this way the number of elements considered from the second list, trying to find \n",
    "a ballance in order to satisfy the condition for loop exit, loop termination condition - Aleft <= Bright and Bleft <= Aright\n",
    "(the left parts of arrays has to be equal or less in comparison of rights parts of another array)\n",
    "\n",
    "Termination - the algorithm terminates because the loop terminates. Finally we have the complex \n",
    "of left and right values that correspond the condition that Aleft <= Bright and Bleft <= Aright, result being the \n",
    "min(Aright, Bright) for odds total_lenght and min(max(Aleft, Bleft), min(Aright, Bright)) for even total_lenght"
   ]
  }
 ],
 "metadata": {
  "kernelspec": {
   "display_name": "Python 3",
   "language": "python",
   "name": "python3"
  },
  "language_info": {
   "codemirror_mode": {
    "name": "ipython",
    "version": 3
   },
   "file_extension": ".py",
   "mimetype": "text/x-python",
   "name": "python",
   "nbconvert_exporter": "python",
   "pygments_lexer": "ipython3",
   "version": "3.8.8"
  }
 },
 "nbformat": 4,
 "nbformat_minor": 5
}
